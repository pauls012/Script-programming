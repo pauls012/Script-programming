{
 "cells": [
  {
   "cell_type": "markdown",
   "metadata": {},
   "source": [
    "# 스크립트 프로그래밍 "
   ]
  },
  {
   "cell_type": "markdown",
   "metadata": {},
   "source": [
    "## 2013136055 서정현"
   ]
  },
  {
   "cell_type": "markdown",
   "metadata": {},
   "source": [
    "## 1번"
   ]
  },
  {
   "cell_type": "code",
   "execution_count": 4,
   "metadata": {},
   "outputs": [
    {
     "name": "stdout",
     "output_type": "stream",
     "text": [
      "Python Hello\n"
     ]
    }
   ],
   "source": [
    "a = \"Hello Python\"\n",
    "a = a[6:12] + \" \" + a[0:5]\n",
    "print(a)"
   ]
  },
  {
   "cell_type": "markdown",
   "metadata": {},
   "source": [
    "> a에 문자열을 저장하고 slicing으로 문자열의 범위를 설정하여 (+) 연산자를 통해 문자열을 변경"
   ]
  },
  {
   "cell_type": "markdown",
   "metadata": {},
   "source": [
    "## 2번"
   ]
  },
  {
   "cell_type": "code",
   "execution_count": 1,
   "metadata": {},
   "outputs": [
    {
     "name": "stdout",
     "output_type": "stream",
     "text": [
      "World Python Hello\n"
     ]
    }
   ],
   "source": [
    "b = \"Hello Python World\"\n",
    "b = b[13:] + \" \" + b[6:12] + \" \" + b[0:5]\n",
    "print(b)"
   ]
  },
  {
   "cell_type": "markdown",
   "metadata": {},
   "source": [
    "> b에 문자열을 저장하고 slicing으로 문자열의 범위를 설정하여 (+) 연산자를 통해 문자열을 변경"
   ]
  },
  {
   "cell_type": "markdown",
   "metadata": {},
   "source": [
    "## 3번"
   ]
  },
  {
   "cell_type": "code",
   "execution_count": 20,
   "metadata": {},
   "outputs": [
    {
     "name": "stdout",
     "output_type": "stream",
     "text": [
      "olleH\n"
     ]
    }
   ],
   "source": [
    "c = \"Hello\"\n",
    "c = c[::-1]\n",
    "print(c)"
   ]
  },
  {
   "cell_type": "markdown",
   "metadata": {},
   "source": [
    ">처음부터 끝까지 -1 간격으로 즉 역순으로 문자열이 다시 c에 저장"
   ]
  },
  {
   "cell_type": "markdown",
   "metadata": {},
   "source": [
    "## 4번"
   ]
  },
  {
   "cell_type": "code",
   "execution_count": 5,
   "metadata": {},
   "outputs": [
    {
     "name": "stdout",
     "output_type": "stream",
     "text": [
      "p\n",
      "p\n",
      "p\n"
     ]
    }
   ],
   "source": [
    "s = \"python\"\n",
    "print(s[0]) # 파이썬에서는 문자열을 내부적으로 배열로 처리하기 때문에 배열의 0번째 원소 출력\n",
    "print(s[0][0]) # 위와 같이 이차원배열의 0번째 원소 출력\n",
    "print(s[0][0][0]) # 위와 같이 3차원배열의 0번재 원소 출력"
   ]
  },
  {
   "cell_type": "code",
   "execution_count": 7,
   "metadata": {},
   "outputs": [
    {
     "ename": "IndexError",
     "evalue": "string index out of range",
     "output_type": "error",
     "traceback": [
      "\u001b[1;31m---------------------------------------------------------------------------\u001b[0m",
      "\u001b[1;31mIndexError\u001b[0m                                Traceback (most recent call last)",
      "\u001b[1;32m<ipython-input-7-35dab9b1126d>\u001b[0m in \u001b[0;36m<module>\u001b[1;34m()\u001b[0m\n\u001b[1;32m----> 1\u001b[1;33m \u001b[0mprint\u001b[0m\u001b[1;33m(\u001b[0m\u001b[0ms\u001b[0m\u001b[1;33m[\u001b[0m\u001b[1;33m-\u001b[0m\u001b[1;36m100\u001b[0m\u001b[1;33m]\u001b[0m\u001b[1;33m)\u001b[0m \u001b[1;31m#문자열 인덱스의 범위를 벗어낫기 때문에 에러가 발생\u001b[0m\u001b[1;33m\u001b[0m\u001b[0m\n\u001b[0m",
      "\u001b[1;31mIndexError\u001b[0m: string index out of range"
     ]
    }
   ],
   "source": [
    "print(s[-100]) #문자열 인덱스의 범위를 벗어낫기 때문에 에러가 발생"
   ]
  },
  {
   "cell_type": "code",
   "execution_count": 8,
   "metadata": {},
   "outputs": [
    {
     "ename": "IndexError",
     "evalue": "string index out of range",
     "output_type": "error",
     "traceback": [
      "\u001b[1;31m---------------------------------------------------------------------------\u001b[0m",
      "\u001b[1;31mIndexError\u001b[0m                                Traceback (most recent call last)",
      "\u001b[1;32m<ipython-input-8-d43ee3eb31df>\u001b[0m in \u001b[0;36m<module>\u001b[1;34m()\u001b[0m\n\u001b[1;32m----> 1\u001b[1;33m \u001b[0mprint\u001b[0m\u001b[1;33m(\u001b[0m\u001b[0ms\u001b[0m\u001b[1;33m[\u001b[0m\u001b[1;36m100\u001b[0m\u001b[1;33m]\u001b[0m\u001b[1;33m)\u001b[0m \u001b[1;31m#문자열 인덱스의 범위를 벗어낫기 때문에 에러가 발생\u001b[0m\u001b[1;33m\u001b[0m\u001b[0m\n\u001b[0m",
      "\u001b[1;31mIndexError\u001b[0m: string index out of range"
     ]
    }
   ],
   "source": [
    "print(s[100]) #문자열 인덱스의 범위를 벗어낫기 때문에 에러가 발생"
   ]
  },
  {
   "cell_type": "code",
   "execution_count": 9,
   "metadata": {},
   "outputs": [
    {
     "ename": "IndexError",
     "evalue": "string index out of range",
     "output_type": "error",
     "traceback": [
      "\u001b[1;31m---------------------------------------------------------------------------\u001b[0m",
      "\u001b[1;31mIndexError\u001b[0m                                Traceback (most recent call last)",
      "\u001b[1;32m<ipython-input-9-0fe47440a71f>\u001b[0m in \u001b[0;36m<module>\u001b[1;34m()\u001b[0m\n\u001b[1;32m----> 1\u001b[1;33m \u001b[0mprint\u001b[0m\u001b[1;33m(\u001b[0m\u001b[0ms\u001b[0m\u001b[1;33m[\u001b[0m\u001b[1;33m-\u001b[0m\u001b[1;36m100\u001b[0m\u001b[1;33m]\u001b[0m\u001b[1;33m,\u001b[0m \u001b[0ms\u001b[0m\u001b[1;33m[\u001b[0m\u001b[1;36m100\u001b[0m\u001b[1;33m]\u001b[0m\u001b[1;33m)\u001b[0m \u001b[1;31m#문자열 인덱스의 범위를 벗어낫기 때문에 에러가 발생\u001b[0m\u001b[1;33m\u001b[0m\u001b[0m\n\u001b[0m",
      "\u001b[1;31mIndexError\u001b[0m: string index out of range"
     ]
    }
   ],
   "source": [
    "print(s[-100], s[100]) #문자열 인덱스의 범위를 벗어낫기 때문에 에러가 발생"
   ]
  },
  {
   "cell_type": "code",
   "execution_count": 10,
   "metadata": {},
   "outputs": [
    {
     "name": "stdout",
     "output_type": "stream",
     "text": [
      "ytho\n"
     ]
    }
   ],
   "source": [
    "print(s[1:-1]) # 1번인덱스인 y부터 -1번 인덱스인 n 바로 전까지 출력을 한다."
   ]
  },
  {
   "cell_type": "code",
   "execution_count": 11,
   "metadata": {},
   "outputs": [
    {
     "name": "stdout",
     "output_type": "stream",
     "text": [
      "\n"
     ]
    }
   ],
   "source": [
    "print(s[3:-3]) # 3번인덱스가 h, -3인덱스가 h인데 이 범위에 포함되는 문자가 없기 때문에 다음과 같은 결과가 출력된다."
   ]
  },
  {
   "cell_type": "markdown",
   "metadata": {},
   "source": [
    "## 5번"
   ]
  },
  {
   "cell_type": "code",
   "execution_count": 12,
   "metadata": {},
   "outputs": [
    {
     "name": "stdout",
     "output_type": "stream",
     "text": [
      "1\n",
      "3\n",
      "5\n",
      "7\n",
      "9\n",
      "11\n",
      "13\n",
      "15\n",
      "17\n",
      "19\n",
      "21\n",
      "23\n",
      "25\n",
      "27\n",
      "29\n",
      "31\n",
      "33\n",
      "35\n",
      "37\n",
      "39\n",
      "41\n",
      "43\n",
      "45\n",
      "47\n",
      "49\n",
      "51\n",
      "53\n",
      "55\n",
      "57\n",
      "59\n",
      "61\n",
      "63\n",
      "65\n",
      "67\n",
      "69\n",
      "71\n",
      "73\n",
      "75\n",
      "77\n",
      "79\n",
      "81\n",
      "83\n",
      "85\n",
      "87\n",
      "89\n",
      "91\n",
      "93\n",
      "95\n",
      "97\n",
      "99\n"
     ]
    }
   ],
   "source": [
    "for i in range (1, 100) : # 1부터 100까지 반복\n",
    "    if i % 2 == 1 : # 2로 나누어서 나머지가 1인 1부터 100사이의 자연수를 출력하기 위한 조건문\n",
    "        print(i)"
   ]
  },
  {
   "cell_type": "markdown",
   "metadata": {},
   "source": [
    "> 1부터 100까지 반복하는 for문을 이용하여 2로 나눈 나머지가 1일때마다 i를 출력"
   ]
  },
  {
   "cell_type": "markdown",
   "metadata": {},
   "source": [
    "## 6번"
   ]
  },
  {
   "cell_type": "code",
   "execution_count": 13,
   "metadata": {},
   "outputs": [
    {
     "name": "stdout",
     "output_type": "stream",
     "text": [
      "2550\n"
     ]
    }
   ],
   "source": [
    "total = 0\n",
    "a = 0\n",
    "while a <= 100 : # a가 100일 때 까지 반복\n",
    "    a = a + 1 # a 1 증가\n",
    "    if a % 2 == 0 : # a가 2의 배수이면(짝수이면)\n",
    "        total = total + a # 모든 2의배수의 합\n",
    "print(total) # 출력"
   ]
  },
  {
   "cell_type": "markdown",
   "metadata": {},
   "source": [
    "> a를 100까지 반복하여 2의 배수일 때마다 total에 a값을 계속 더한다."
   ]
  },
  {
   "cell_type": "markdown",
   "metadata": {},
   "source": [
    "## 7번"
   ]
  },
  {
   "cell_type": "code",
   "execution_count": 14,
   "metadata": {},
   "outputs": [
    {
     "name": "stdout",
     "output_type": "stream",
     "text": [
      "정수를 입력하세요 : 12345\n",
      "숫자 역순은 54321 입니다.\n"
     ]
    }
   ],
   "source": [
    "a = input(\"정수를 입력하세요 : \") # 사용자로부터 정수를 입력받음\n",
    "print(\"숫자 역순은 \" + a[::-1] + \" 입니다.\")\n",
    "# [::-1] : 문자열 처음부터 끝까지 -1간격으로 즉 역순으로 저장"
   ]
  },
  {
   "cell_type": "markdown",
   "metadata": {},
   "source": [
    "> [::-1] : 문자열 처음부터 끝까지 -1간격으로 즉 역순으로 저장"
   ]
  },
  {
   "cell_type": "markdown",
   "metadata": {},
   "source": [
    "## 8번"
   ]
  },
  {
   "cell_type": "code",
   "execution_count": 15,
   "metadata": {},
   "outputs": [
    {
     "name": "stdout",
     "output_type": "stream",
     "text": [
      "숫자를 입력하세요 : 15\n",
      "2 3 5 7 11 13 "
     ]
    }
   ],
   "source": [
    "n = int(input(\"숫자를 입력하세요 : \")) # 사용자로부터 정수 입력받음\n",
    "\n",
    "for i in range(2, n) :# i가 2부터 n 까지\n",
    "    isPrime = True # 초기값을 boolean형으로 설정\n",
    "    for j in range(2, i) : # j가 2부터 i 까지\n",
    "        if i % j == 0 : # i가 j로 나누어떨어지면\n",
    "            isPrime = False # 소수가 아니다\n",
    "            break # 종료\n",
    "    if isPrime : # 소수일 때\n",
    "        print(i, end= \" \") # 해당 숫자와 공백 출력"
   ]
  },
  {
   "cell_type": "markdown",
   "metadata": {},
   "source": [
    "> 사용자로부터 정수를 입력받아 boolean을 이용하여 소수인지 아닌지 판별한다.                    \n",
    " for문을 이용하여 입력한 정수까지의 모든 소수를 출력한다."
   ]
  },
  {
   "cell_type": "markdown",
   "metadata": {},
   "source": [
    "## 9번\n",
    "* [ACM-ICPC 문제 2441번]\n",
    "\n",
    " * 별찍기-4"
   ]
  },
  {
   "cell_type": "code",
   "execution_count": 16,
   "metadata": {},
   "outputs": [
    {
     "name": "stdout",
     "output_type": "stream",
     "text": [
      "5\n",
      "*****\n",
      " ****\n",
      "  ***\n",
      "   **\n",
      "    *\n"
     ]
    }
   ],
   "source": [
    "n = int(input()) # 사용자로 부터 정수를 int형으로 입력받음 \n",
    "for i in range(0, n) : # 공백과 별을 출력하기 위한 반복문\n",
    "        print(\" \" * i+ \"*\" * (n-i)) # 각 행마다 0 ~ 4개의 순서로 공백을 출력하고 5 ~ 1개의 순서로 별을 출력한다."
   ]
  },
  {
   "cell_type": "markdown",
   "metadata": {},
   "source": [
    "> 반복문을 이용하여 입력한 정수만큼 별을 출력하고 그 다음줄 부터는 오른쪽 정렬이 되도록 공백 i개와 별 n-i개가 출력되도록 한다."
   ]
  },
  {
   "cell_type": "markdown",
   "metadata": {},
   "source": [
    "![](https://github.com/pauls012/Script-programming/blob/master/%EB%B0%B1%EC%A4%801%EB%B2%88%20%EC%BA%A1%EC%B3%90.PNG?raw=true)"
   ]
  },
  {
   "cell_type": "markdown",
   "metadata": {},
   "source": [
    "## 10번\n",
    "* [ACM-ICPC 문제 11721번]\n",
    "\n",
    " * 열 개씩 끊어 출력하기"
   ]
  },
  {
   "cell_type": "code",
   "execution_count": 17,
   "metadata": {},
   "outputs": [
    {
     "name": "stdout",
     "output_type": "stream",
     "text": [
      "OneTwoThreeFourFiveSixSevenEightNineTen\n",
      "OneTwoThre\n",
      "eFourFiveS\n",
      "ixSevenEig\n",
      "htNineTen"
     ]
    }
   ],
   "source": [
    "word = input() # 문자열 입력 받기\n",
    "N = len(word) # 문자열의 길이를 N이라는 변수에 저장\n",
    "if N > 1 and N < 100 :   # 문자열의 범위 지정\n",
    "    for i in range(0, N): # 각각의 단어 출력\n",
    "        print(word[i], end=\"\")\n",
    "        if(i % 10 == 9) : # 10개씩 끊어서 출력하기 위해 줄나누기 삽입\n",
    "            print(\"\")"
   ]
  },
  {
   "cell_type": "markdown",
   "metadata": {},
   "source": [
    "> 문자열을 입력받고 문자열의 길이를 N이라는 변수에 저장합니다. 문자열에 있는 문자들의 개수를 for문을 이용하여 출력하고 10개씩 끊어서 출력하기 위해 print(\"\")을 if구문에 다음과 같은 조건문을 삽입했습니다. "
   ]
  },
  {
   "cell_type": "markdown",
   "metadata": {},
   "source": [
    "![](https://github.com/pauls012/Script-programming/blob/master/%EB%B0%B1%EC%A4%802%EB%B2%88%20%EC%BA%A1%EC%B2%98.PNG?raw=true)"
   ]
  },
  {
   "cell_type": "markdown",
   "metadata": {},
   "source": [
    "## 11번\n",
    "* [ACM-ICPC 문제 2839번]\n",
    "\n",
    " *  설탕배달"
   ]
  },
  {
   "cell_type": "code",
   "execution_count": 19,
   "metadata": {},
   "outputs": [
    {
     "name": "stdout",
     "output_type": "stream",
     "text": [
      "18\n",
      "4\n"
     ]
    }
   ],
   "source": [
    "num = int(input()) # 사용자로부터 정수 입력받음\n",
    "count5 = 0 # 5kg 봉지 개수 변수 초기화\n",
    "count3 = 0 # 3kg 봉지 개수 변수 초기화\n",
    "i=0 # 변수 초기화\n",
    "\n",
    "while(True): \n",
    "    if(3*i <= num): # 3을 0번부터 num에서 빼면서 시작하기 위한 조건문\n",
    "        if (num - 3*i) % 5 == 0 : # 최소한의 봉지를 이용하기 위해 3을 계속 빼면서 5의 배수임을 확인한다.\n",
    "            count5 = (num - 3*i) // 5 # 5kg 봉지 개수5\n",
    "            count3 = i # 3kg 봉지 개수\n",
    "\n",
    "            print(count5 + count3) # 최대한 적은 봉지 개수를 출력\n",
    "            break # 반복문 종료\n",
    "        \n",
    "    else : # 정확하게 N킬로그램을 만들 수 없을 때\n",
    "        print(\"-1\") # -1 출력\n",
    "        break # 반복문 종료\n",
    "    i += 1 "
   ]
  },
  {
   "cell_type": "markdown",
   "metadata": {},
   "source": [
    "> 5kg와 3kg 봉지 개수를 나타내는 변수를 만들고 입력받은 정수에서 3을 0번빼고 1번빼고 2번빼는 방식으로 반복문을 설정하여 최소한의 봉지 개수를 이용하도록 5로 나누었습니다. 나머지가 0이면 5의 배수임을 확인하여 / 연산자를 이용해 몫만 count5에 저장하게 됩니다. 그리고 그 때의 i의 값을 count3에 저장합니다. 이와 같은 식을 이용하게 되면 5kg의 봉지 개수를 최대한으로 이용할 수 있고 적재적소로 3kg 봉지도 이용할 수 있게 됩니다. 만약 3을 여러번 뺴다가 num보다 커버리면 N 킬로그램을 만들 수 없다는 뜻이므로 -1을 출력하도록 했습니다."
   ]
  },
  {
   "cell_type": "markdown",
   "metadata": {},
   "source": [
    "![](https://github.com/pauls012/Script-programming/blob/master/%EB%B0%B1%EC%A4%803%EB%B2%88%20%EC%BA%A1%EC%B2%98.PNG?raw=true)"
   ]
  },
  {
   "cell_type": "markdown",
   "metadata": {},
   "source": [
    "* 느낀점\n",
    "> pycharm으로만 다뤄보다가 jupyter로 다뤄보니 느낌이 색달랐습니다. 처음엔 다른 프로그램이라는 생각을 가지고 시작하였는데 막상 코드를 구성해보니 그렇게 다르지 않아서 혼란스럽지는 않았었습니다. 알고리즘 및 실습이라는 과목에 이어 한연희 교수님이 강의하시는 스크립트 프로그래밍 수업을 듣게 되었는데 쉽지 않은 만큼 얻어가는게 많은거 같습니다. 현재는 아직 초반이라 파이썬에 관한 어려운 내용이 별로 없었지만 DROPBOX와 Github, nbviewer 등을 다루게 되는 점이 파이썬 이외에 부가적으로 배울 수 있어 너무 만족합니다. 처음에는 번거롭게 느껴질 수 있겠지만 나중에 실무현장을 비롯하여 프로그래머가 되었을 때 유용하게 쓰일 수 있을 지식들이라 생각하고 더 열심히 배워보겠습니다. 감사합니다."
   ]
  }
 ],
 "metadata": {
  "kernelspec": {
   "display_name": "Python 3",
   "language": "python",
   "name": "python3"
  },
  "language_info": {
   "codemirror_mode": {
    "name": "ipython",
    "version": 3
   },
   "file_extension": ".py",
   "mimetype": "text/x-python",
   "name": "python",
   "nbconvert_exporter": "python",
   "pygments_lexer": "ipython3",
   "version": "3.6.5"
  }
 },
 "nbformat": 4,
 "nbformat_minor": 2
}
