{
 "cells": [
  {
   "cell_type": "markdown",
   "metadata": {},
   "source": [
    "## 스크립트 프로그래밍 4번째 과제"
   ]
  },
  {
   "cell_type": "markdown",
   "metadata": {},
   "source": [
    "### 2013136055 서정현"
   ]
  },
  {
   "cell_type": "markdown",
   "metadata": {},
   "source": [
    "#### [1번 문제]"
   ]
  },
  {
   "cell_type": "markdown",
   "metadata": {},
   "source": [
    "- 1) 파일 s.txt을 읽어서 각 라인에 있는 첫 번째 단어(문자열) 자체들을 기준으로 라인별 정렬후 파일 s1.txt에 그 결과를 기록하는 코드를 작성하시오. 즉, 프로그램 수행 후 s1.txt에 있는 파일 내용은 다음과 같다."
   ]
  },
  {
   "cell_type": "code",
   "execution_count": 225,
   "metadata": {},
   "outputs": [
    {
     "name": "stdout",
     "output_type": "stream",
     "text": [
      "cat dog\n",
      "dog pig\n",
      "ham bird\n",
      "pig ham\n",
      "\n"
     ]
    }
   ],
   "source": [
    "f = open('s.txt')\n",
    "lst = f.readlines() # 리스트 형식으로 읽어옴\n",
    "lst = sorted(lst, key= lambda lst : lst[0]) # 첫번째 인덱스에 엤는 단어를 기준으로 정렬\n",
    "f.close\n",
    "\n",
    "f2 = open('s1.txt', 'w')\n",
    "f2.writelines(lst)\n",
    "f2.close()\n",
    "\n",
    "f3 = open('s1.txt', 'r')\n",
    "print(f3.read())\n",
    "f3.close()"
   ]
  },
  {
   "cell_type": "markdown",
   "metadata": {},
   "source": [
    "- 2)  파일 s.txt을 읽어서 각 라인에 있는 두 번째 단어(문자열) 자체들을 기준으로 라인별 정렬후 파일 s2.txt에 그 결과를 기록하는 코드를 작성하시오. 즉, 프로그램 수행 후 s2.txt에 있는 파일 내용은 다음과 같다."
   ]
  },
  {
   "cell_type": "code",
   "execution_count": 227,
   "metadata": {},
   "outputs": [
    {
     "name": "stdout",
     "output_type": "stream",
     "text": [
      "ham bird\n",
      "cat dog\n",
      "pig ham\n",
      "dog pig\n",
      "\n"
     ]
    }
   ],
   "source": [
    "f = open('s.txt')\n",
    "lst = f.readlines()\n",
    "lst = sorted(lst, key= lambda lst : lst[lst.index(' ')+1])\n",
    "# 첫번째 인덱스에 1을 더하여 두번째 단어의 인덱스를 기준으로 정렬\n",
    "f.close\n",
    "\n",
    "f2 = open('s2.txt', 'w')\n",
    "f2.writelines(lst)\n",
    "f2.close()\n",
    "\n",
    "f3 = open('s2.txt', 'r')\n",
    "print(f3.read())\n",
    "f3.close()"
   ]
  },
  {
   "cell_type": "markdown",
   "metadata": {},
   "source": [
    "- 3) 파일 s.txt을 읽어서 각 라인들에 있는 모든 단어들을 순차적으로 다시 나열하되 각 라인에 세 개의 단어들이 오도록 하여 s3.txt에 기록하는 코드를 작성하시오. 즉, 프로그램 수행 후 s3.txt에 있는 파일 내용은 다음과 같다."
   ]
  },
  {
   "cell_type": "code",
   "execution_count": 63,
   "metadata": {},
   "outputs": [
    {
     "name": "stdout",
     "output_type": "stream",
     "text": [
      "pig ham cat\n",
      "dog ham bird\n",
      "dog pig \n"
     ]
    }
   ],
   "source": [
    "import os\n",
    "f = open('s.txt')\n",
    "s = f.read()\n",
    "s3 = s.split() #문자열 분리\n",
    "\n",
    "#단어 3개 기준으로 3번째 단어 뒤쪽에 \\n을 추가, 다른 단어는 공백 추가\n",
    "for x in range(len(s3)):\n",
    "    if (x % 3 == 2):\n",
    "        s3[x] = s3[x] + '\\n'\n",
    "    else:\n",
    "        s3[x] = s3[x] + ' '\n",
    "s3 = ''.join(s3) #하나의 문자열로 join\n",
    "\n",
    "#파일에 쓰기\n",
    "f3 = open('s3.txt', 'w')\n",
    "f3.write(s3)\n",
    "f3 = open('s3.txt')\n",
    "print(f3.read())"
   ]
  },
  {
   "cell_type": "markdown",
   "metadata": {},
   "source": [
    "과제별로 각각 다른 문자열을 생성하고, sorted 내장함수와 join을 활용하였다."
   ]
  },
  {
   "cell_type": "markdown",
   "metadata": {},
   "source": [
    "#### [2번문제]"
   ]
  },
  {
   "cell_type": "markdown",
   "metadata": {},
   "source": [
    "- 1) 프로그램 시작 후 다음과 같은 메시지가 출력되어 1, 2, 3 중 하나의 값을 입력 받도록 한다."
   ]
  },
  {
   "cell_type": "code",
   "execution_count": null,
   "metadata": {},
   "outputs": [
    {
     "name": "stdout",
     "output_type": "stream",
     "text": [
      "Welcome to Our Service\n",
      "1. Sign up\n",
      "2. Sign in\n",
      "3. Quit\n"
     ]
    }
   ],
   "source": [
    "import sys\n",
    "import os\n",
    "import hashlib\n",
    "\n",
    "def pw_hash(pw) :\n",
    "    password_plain = \"pauls123\"\n",
    "    password_encrypted = hashlib.new(password_plain)\n",
    "    password_encrypted.update(bytes(str1,'ascii'))\n",
    "    return password_encrypted.hexdigest()\n",
    "\n",
    "def readfile(n):  # 파일에서 원하는 정보를 불러오는 함수\n",
    "    f = open('access.txt')\n",
    "    s = f.read()\n",
    "    f.close()\n",
    "    s = s.split()\n",
    "    List = [s[x] for x in range(len(s)) if x % 4 == n]\n",
    "    \n",
    "    for x in range(len(List)):\n",
    "        List[x] = List[x].replace(':', '')\n",
    "        List[x] = List[x].replace(',', '')\n",
    "\n",
    "    return List\n",
    "\n",
    "def menu() : # 메뉴 번호 선택하는 함수\n",
    "    print(\"Welcome to Our Service\")\n",
    "    print(\"1. Sign up\")\n",
    "    print(\"2. Sign in\")\n",
    "    print(\"3. Quit\")\n",
    "    \n",
    "    return int(input('Select menu : '))\n",
    "\n",
    "while 1:\n",
    "    sel = menu()\n",
    "    idList = readfile(0)  #id리스트\n",
    "    pwList = readfile(1)  #pw리스트\n",
    "    nameList = readfile(2)  #이름리스트\n",
    "    print()\n",
    "    if sel < 0 or sel > 3: #숫자 잘못 입력시\n",
    "        continue\n",
    "    if sel == 1: #Sign Up\n",
    "        ID = input('id: ')\n",
    "        #id 중복 검사\n",
    "        while 1:\n",
    "            if(idList.count(ID) == 0):\n",
    "                break;\n",
    "            else:\n",
    "                print ('Sorry, the entered ID is already used.')\n",
    "                ID = input('id: ')\n",
    "        \n",
    "        PW = input('password: ')\n",
    "        NA = input('name: ')\n",
    "        SC = input('school: ')\n",
    "        PW = password_hash(PW) #패스워드 암호화\n",
    "        \n",
    "        #access.txt 파일에 문자열로 저장\n",
    "        f = open('access.txt', 'a')\n",
    "        s = ID + \": \" + PW + \", \" + NA + \", \" + SC + \"\\n\"\n",
    "        f.write(s)\n",
    "        f.close()\n",
    "    if sel == 2:         \n",
    "        ID = input('id: ')\n",
    "        \n",
    "        #id가 안에 있는지 검사\n",
    "        while 1:\n",
    "            if(idList.count(ID) == 1):\n",
    "                idindex = idList.index(ID) #access.txt에서 몇번째 id인지 인덱스 반환\n",
    "                break;\n",
    "            else:\n",
    "                print ('Sorry, you are not a registered member.')\n",
    "                ID = input('id: ')\n",
    "                \n",
    "        PW = input('password: ')\n",
    "        PW = password_hash(PW) #패스워드 암호화\n",
    "        #패스워드 검사\n",
    "        while 1:\n",
    "            if(PW in pwList[idindex]): #id인덱스에 맞는 패스워드인지 검사\n",
    "                print('Hello ' + nameList[idindex] + '!') #id인덱스에 등록된 이름 출력\n",
    "                break;\n",
    "            else:\n",
    "                print ('Sorry, the entered password is not correct.')\n",
    "                PW = input('password: ')\n",
    "                PW = password_hash(PW)\n",
    "    if sel == 3: #quit\n",
    "        break\n",
    "    print()\n"
   ]
  },
  {
   "cell_type": "markdown",
   "metadata": {},
   "source": [
    "패스워드 암호화는 블로그를 참고하였다.\n",
    "파일에서 원하는 문자열만 가져오기 위한 함수를 따로 만들었고, id:password, name, school 순으로 저장이 되기 때문에 id = 0, password = 1, name = 2 번으로 생각하였다.\n",
    "Sign Up이 선택되었을 때, idList.count를 이용하여 입력된 id가 1이 카운트되면 중복으로 판단하였고, 재입력을 받게 하였다.\n",
    "Sign In이 선택되었을 때, id검사는 Sign Up에서와 같이 수행하지만 id의 인덱스를 이용하여 password 검사와 name을 출력하도록 하였다. pw는 문자열의 멤버쉽테스트를 활용하여 암호화된 pw가 pwList[idindex]와 일치해야만 로그인이 허용된다."
   ]
  },
  {
   "cell_type": "markdown",
   "metadata": {},
   "source": [
    "#### [3번 문제]"
   ]
  },
  {
   "cell_type": "code",
   "execution_count": null,
   "metadata": {},
   "outputs": [],
   "source": [
    "import math\n",
    "\n",
    "def frange (start = 0.0, stop = 0.0, step = 0.1): # 인자에 대한 기본시작 설정\n",
    "\n",
    "    # 인자가 1개일때, start로 들어가는 인자를 stop으로 바꿔줌\n",
    "    if start > stop:\n",
    "        start, stop = 0.0, start\n",
    "    x = []\n",
    "    # start부터 stop까지 step만큼 더한 리스트를 생성.\n",
    "    while start < stop:\n",
    "        #step이 소수점이라 원하는 연산이 안 나와서, 소수점 이하 자리를 버리도록 함.\n",
    "        x.append(round(start, int(math.ceil(-math.log(step, 10)))))\n",
    "        start = start + step\n",
    "    return x\n",
    "\n",
    "print(frange(0.5))\n",
    "print(frange(1.0, 2.0))\n",
    "print(frange(2.2, 4.0, 0.5))\n",
    "print(frange(2.2, 2.21, 0.001))"
   ]
  },
  {
   "cell_type": "markdown",
   "metadata": {},
   "source": [
    "전부 default 값을 줄 경우, 인자가 1개일 때 값이 start로 들어가게 된다. 이 경우엔 start로 들어가는 값을 stop으로 바꾸고, start값을 다시 0.0으로 초기화하도록 하였다.\n",
    "소수점 연산이라 0.1을 더했음에도 1.30000003 같은 결과가 나와서, step의 소수점 자리수 밑으로 반올림한 값을 리스트에 저장하여 반환하도록 하였다."
   ]
  },
  {
   "cell_type": "markdown",
   "metadata": {},
   "source": [
    "#### [4번 문제]"
   ]
  },
  {
   "cell_type": "code",
   "execution_count": 1,
   "metadata": {},
   "outputs": [
    {
     "name": "stdout",
     "output_type": "stream",
     "text": [
      "0\n",
      "3\n",
      "15\n",
      "5\n"
     ]
    }
   ],
   "source": [
    "def sum(a=0, *arg) :\n",
    "    arg = list(arg)\n",
    "    for i in range(len(arg)) :\n",
    "        a += arg[i]\n",
    "    print(a)\n",
    "\n",
    "sum()\n",
    "sum(1, 2)\n",
    "sum(1, 2, 3, 4, 5)\n",
    "sum(1, 5, 7, 2, -10)"
   ]
  },
  {
   "cell_type": "markdown",
   "metadata": {},
   "source": [
    "a는 기본인자로 default가 0이고, arg는 가변인자이다.\n",
    "arg를 리스트 형태로 변환하고 a에 리스트 원소 합계를 누적시킨다.\n",
    "합계를 변수 a에 저장하고 출력한다."
   ]
  },
  {
   "cell_type": "markdown",
   "metadata": {},
   "source": [
    "#### [5번 문제]"
   ]
  },
  {
   "cell_type": "code",
   "execution_count": 59,
   "metadata": {},
   "outputs": [
    {
     "name": "stdout",
     "output_type": "stream",
     "text": [
      "ASAP\n"
     ]
    }
   ],
   "source": [
    "def myinitial(string):\n",
    "    return ''.join(list(map(lambda x: x.capitalize()[0], string.split())))\n",
    "\n",
    "print(myinitial(\"as soon as possible\"))"
   ]
  },
  {
   "cell_type": "markdown",
   "metadata": {},
   "source": [
    "string을 인자로 받아 공백을 기준으로 split한 리스트의 문자열을 각각 첫글자만 대문자화 후에, 첫번째 글자의 리스트를 map하여 join한다."
   ]
  },
  {
   "cell_type": "markdown",
   "metadata": {},
   "source": [
    "#### [6번 문제]"
   ]
  },
  {
   "cell_type": "code",
   "execution_count": 66,
   "metadata": {},
   "outputs": [
    {
     "name": "stdout",
     "output_type": "stream",
     "text": [
      "20 : 2432902008176640000\n",
      "21 : 51090942171709440000\n",
      "22 : 1124000727777607680000\n",
      "23 : 25852016738884976640000\n",
      "24 : 620448401733239439360000\n",
      "25 : 15511210043330985984000000\n",
      "26 : 403291461126605635584000000\n",
      "27 : 10888869450418352160768000000\n",
      "28 : 304888344611713860501504000000\n",
      "29 : 8841761993739701954543616000000\n",
      "30 : 265252859812191058636308480000000\n",
      "31 : 8222838654177922817725562880000000\n",
      "32 : 263130836933693530167218012160000000\n",
      "33 : 8683317618811886495518194401280000000\n",
      "34 : 295232799039604140847618609643520000000\n",
      "35 : 10333147966386144929666651337523200000000\n",
      "36 : 371993326789901217467999448150835200000000\n",
      "37 : 13763753091226345046315979581580902400000000\n",
      "38 : 523022617466601111760007224100074291200000000\n",
      "39 : 20397882081197443358640281739902897356800000000\n",
      "40 : 815915283247897734345611269596115894272000000000\n",
      "41 : 33452526613163807108170062053440751665152000000000\n",
      "42 : 1405006117752879898543142606244511569936384000000000\n",
      "43 : 60415263063373835637355132068513997507264512000000000\n",
      "44 : 2658271574788448768043625811014615890319638528000000000\n",
      "45 : 119622220865480194561963161495657715064383733760000000000\n",
      "46 : 5502622159812088949850305428800254892961651752960000000000\n",
      "47 : 258623241511168180642964355153611979969197632389120000000000\n",
      "48 : 12413915592536072670862289047373375038521486354677760000000000\n",
      "49 : 608281864034267560872252163321295376887552831379210240000000000\n",
      "50 : 30414093201713378043612608166064768844377641568960512000000000000\n",
      "51 : 1551118753287382280224243016469303211063259720016986112000000000000\n",
      "52 : 80658175170943878571660636856403766975289505440883277824000000000000\n",
      "53 : 4274883284060025564298013753389399649690343788366813724672000000000000\n",
      "54 : 230843697339241380472092742683027581083278564571807941132288000000000000\n",
      "55 : 12696403353658275925965100847566516959580321051449436762275840000000000000\n",
      "56 : 710998587804863451854045647463724949736497978881168458687447040000000000000\n",
      "57 : 40526919504877216755680601905432322134980384796226602145184481280000000000000\n",
      "58 : 2350561331282878571829474910515074683828862318181142924420699914240000000000000\n",
      "59 : 138683118545689835737939019720389406345902876772687432540821294940160000000000000\n",
      "60 : 8320987112741390144276341183223364380754172606361245952449277696409600000000000000\n",
      "61 : 507580213877224798800856812176625227226004528988036003099405939480985600000000000000\n",
      "62 : 31469973260387937525653122354950764088012280797258232192163168247821107200000000000000\n",
      "63 : 1982608315404440064116146708361898137544773690227268628106279599612729753600000000000000\n",
      "64 : 126886932185884164103433389335161480802865516174545192198801894375214704230400000000000000\n",
      "65 : 8247650592082470666723170306785496252186258551345437492922123134388955774976000000000000000\n",
      "66 : 544344939077443064003729240247842752644293064388798874532860126869671081148416000000000000000\n",
      "67 : 36471110918188685288249859096605464427167635314049524593701628500267962436943872000000000000000\n",
      "68 : 2480035542436830599600990418569171581047399201355367672371710738018221445712183296000000000000000\n",
      "69 : 171122452428141311372468338881272839092270544893520369393648040923257279754140647424000000000000000\n",
      "70 : 11978571669969891796072783721689098736458938142546425857555362864628009582789845319680000000000000000\n",
      "71 : 850478588567862317521167644239926010288584608120796235886430763388588680378079017697280000000000000000\n",
      "72 : 61234458376886086861524070385274672740778091784697328983823014963978384987221689274204160000000000000000\n",
      "73 : 4470115461512684340891257138125051110076800700282905015819080092370422104067183317016903680000000000000000\n",
      "74 : 330788544151938641225953028221253782145683251820934971170611926835411235700971565459250872320000000000000000\n",
      "75 : 24809140811395398091946477116594033660926243886570122837795894512655842677572867409443815424000000000000000000\n",
      "76 : 1885494701666050254987932260861146558230394535379329335672487982961844043495537923117729972224000000000000000000\n",
      "77 : 145183092028285869634070784086308284983740379224208358846781574688061991349156420080065207861248000000000000000000\n",
      "78 : 11324281178206297831457521158732046228731749579488251990048962825668835325234200766245086213177344000000000000000000\n",
      "79 : 894618213078297528685144171539831652069808216779571907213868063227837990693501860533361810841010176000000000000000000\n",
      "80 : 71569457046263802294811533723186532165584657342365752577109445058227039255480148842668944867280814080000000000000000000\n",
      "81 : 5797126020747367985879734231578109105412357244731625958745865049716390179693892056256184534249745940480000000000000000000\n",
      "82 : 475364333701284174842138206989404946643813294067993328617160934076743994734899148613007131808479167119360000000000000000000\n",
      "83 : 39455239697206586511897471180120610571436503407643446275224357528369751562996629334879591940103770870906880000000000000000000\n",
      "84 : 3314240134565353266999387579130131288000666286242049487118846032383059131291716864129885722968716753156177920000000000000000000\n",
      "85 : 281710411438055027694947944226061159480056634330574206405101912752560026159795933451040286452340924018275123200000000000000000000\n",
      "86 : 24227095383672732381765523203441259715284870552429381750838764496720162249742450276789464634901319465571660595200000000000000000000\n",
      "87 : 2107757298379527717213600518699389595229783738061356212322972511214654115727593174080683423236414793504734471782400000000000000000000\n",
      "88 : 185482642257398439114796845645546284380220968949399346684421580986889562184028199319100141244804501828416633516851200000000000000000000\n",
      "89 : 16507955160908461081216919262453619309839666236496541854913520707833171034378509739399912570787600662729080382999756800000000000000000000\n",
      "90 : 1485715964481761497309522733620825737885569961284688766942216863704985393094065876545992131370884059645617234469978112000000000000000000000\n",
      "91 : 135200152767840296255166568759495142147586866476906677791741734597153670771559994765685283954750449427751168336768008192000000000000000000000\n",
      "92 : 12438414054641307255475324325873553077577991715875414356840239582938137710983519518443046123837041347353107486982656753664000000000000000000000\n",
      "93 : 1156772507081641574759205162306240436214753229576413535186142281213246807121467315215203289516844845303838996289387078090752000000000000000000000\n",
      "94 : 108736615665674308027365285256786601004186803580182872307497374434045199869417927630229109214583415458560865651202385340530688000000000000000000000\n",
      "95 : 10329978488239059262599702099394727095397746340117372869212250571234293987594703124871765375385424468563282236864226607350415360000000000000000000000\n",
      "96 : 991677934870949689209571401541893801158183648651267795444376054838492222809091499987689476037000748982075094738965754305639874560000000000000000000000\n",
      "97 : 96192759682482119853328425949563698712343813919172976158104477319333745612481875498805879175589072651261284189679678167647067832320000000000000000000000\n",
      "98 : 9426890448883247745626185743057242473809693764078951663494238777294707070023223798882976159207729119823605850588608460429412647567360000000000000000000000\n",
      "99 : 933262154439441526816992388562667004907159682643816214685929638952175999932299156089414639761565182862536979208272237582511852109168640000000000000000000000\n"
     ]
    }
   ],
   "source": [
    "def myfact(n): # 재귀함수 선언\n",
    "    if n == 1:\n",
    "        return 1\n",
    "    else:\n",
    "        return n * myfact(n-1)\n",
    "x = 20\n",
    "# x = 1900\n",
    "while x < 100:\n",
    "    print(x, \":\", myfact(x))\n",
    "    x = x + 1"
   ]
  },
  {
   "cell_type": "markdown",
   "metadata": {},
   "source": [
    "1900이 넘어가면서부터 컴파일 시간이 길어진다."
   ]
  },
  {
   "cell_type": "markdown",
   "metadata": {},
   "source": [
    "#### [7번 문제]"
   ]
  },
  {
   "cell_type": "markdown",
   "metadata": {},
   "source": [
    "- (서술형) import string 과 from string import * 의 차이점을 설명하시오.\n",
    "\n",
    "1) import string : string 모듈을 불러옴\n",
    "string.함수명 으로 함수를 사용함\n",
    "\n",
    "2) from string import * : string 모듈 안에 있는 모든 함수와 변수를 불러옴\n",
    "string 내부의 함수를 함수명만으로 사용가능.\n",
    "\n",
    "2번의 경우 참조 없이 바로 사용하지만, 중복의 문제가 생길 수 있다."
   ]
  },
  {
   "cell_type": "markdown",
   "metadata": {},
   "source": [
    "#### [8번 문제]"
   ]
  },
  {
   "cell_type": "markdown",
   "metadata": {},
   "source": [
    "이전 Assignment 3의 마지막 문제는 웹 URL로 지정된 웹페이지를 문자열로 가져와 모든 HTML 태그 및 CSS와 Javascript를 제외한 순수 텍스트를 얻어내고 그 안에 존재하는 단어를 추출하여 각 단어들에 대해 출현빈도를 사전형태({'world': 2, 'hello': 1, 'python': 1})로 저장하여 출력하는 것이었다. 이번에는 Assignment 3를 확장하여 다음과 같은 조건을 만족하도록 구현하시오."
   ]
  },
  {
   "cell_type": "code",
   "execution_count": null,
   "metadata": {},
   "outputs": [],
   "source": [
    "def PrintHtml(source):\n",
    "    # \\n, \\t 제거\n",
    "    temp = source.replace('\\n', '')\n",
    "    temp = temp.replace('\\t', '')\n",
    "    temp = temp.replace('\\r', '')\n",
    "    temp = temp.replace('&nbsp', ' ')\n",
    "    temp = temp.replace('\\xa0', ' ')\n",
    "    temp = temp.replace('&#xb0', '')\n",
    "    temp = temp.replace('&#039', \"'\")\n",
    "    temp = temp.replace('&#8217', \"'\")\n",
    "    temp = temp.replace('&#038', '&')\n",
    "    temp = temp.replace('&#x27', '')\n",
    "\n",
    "    temp = temp.replace('>', '>$')\n",
    "\n",
    "    while(temp.find('<script') != -1):\n",
    "        start =  temp.find('<script')\n",
    "        end = temp.find('/script>')\n",
    "        temp = temp[:start] + temp[end+8:]\n",
    "        \n",
    "    while(temp.find('<style') != -1):\n",
    "        start =  temp.find('<style')\n",
    "        end = temp.find('/style>')\n",
    "        temp = temp[:start] + temp[end+7:]\n",
    "\n",
    "    temp = temp.split('<')    \n",
    "    result = []\n",
    "    \n",
    "    x = 0\n",
    "    \n",
    "    while x < len(temp):\n",
    "        z = temp[x]\n",
    "        if(('src=' in z) or ('href=' in z)):\n",
    "            temp.remove(z)\n",
    "        else:\n",
    "            x = x + 1\n",
    "    x = 0\n",
    "\n",
    "    while x < len(temp):\n",
    "        temp[x] = temp[x].strip()\n",
    "        if(temp[x].find('$') != -1):\n",
    "            temp2 = temp[x].split('$')\n",
    "            y = 0\n",
    "            while y < len(temp2):\n",
    "                temp2[y].strip()\n",
    "                if((temp2[y].find('>') == -1) and (temp2[y] != '')):\n",
    "                    result.append(temp2[y])\n",
    "                y = y + 1\n",
    "        x = x + 1\n",
    "\n",
    "\n",
    "    result = ' '.join(result)\n",
    "    result = result.split(' ')\n",
    "\n",
    "    x = 0\n",
    "    import string\n",
    "    while x < len(result):\n",
    "        for z in string.punctuation:\n",
    "            result[x] = result[x].replace(z, '')            \n",
    "        x = x + 1\n",
    "\n",
    "    d = dict()\n",
    "    for x in result:\n",
    "        if(x.isalpha() == True):\n",
    "            if (x not in d):\n",
    "                d[x] = 1\n",
    "            else:\n",
    "                d[x] = d[x] + 1\n",
    "\n",
    "    #불용어 제거\n",
    "    f = open('Assign8File\\\\stopwords.txt')\n",
    "    s = f.read()\n",
    "    s = s.splitlines()\n",
    "    s.append('—')\n",
    "    f.close()\n",
    "    \n",
    "    for x in s:\n",
    "        if (d.get(x)):\n",
    "            d.pop(x)\n",
    "    \n",
    "    return (d)"
   ]
  },
  {
   "cell_type": "code",
   "execution_count": null,
   "metadata": {},
   "outputs": [],
   "source": [
    "def wordfrequency(url):\n",
    "    d = loadpage(url)\n",
    "    l = list(d.items())\n",
    "    \n",
    "    max1 = ('', 0)\n",
    "    max2 = ('', 0)\n",
    "    max3 = ('', 0)\n",
    "    \n",
    "    for x in l:\n",
    "        if (x[1] >= max1[1]):\n",
    "            max3 = max2\n",
    "            max2 = max1\n",
    "            max1 = x\n",
    "        elif(x[1] >= max2[1]):\n",
    "            max3 = max2\n",
    "            max2 = x\n",
    "        elif(x[1] >= max3[1]):\n",
    "            max3 = x\n",
    "\n",
    "    result = (url, max1, max2, max3)\n",
    "    print (result)\n",
    "    l = dict(l)\n",
    "    \n",
    "    return l"
   ]
  },
  {
   "cell_type": "code",
   "execution_count": null,
   "metadata": {},
   "outputs": [],
   "source": [
    "from urllib import request \n",
    "\n",
    "url1 = 'http://www.cnn.com'\n",
    "url2 = 'http://www.nytimes.com'\n",
    "url3 = 'http://www.nypost.com'\n",
    "url4 = 'http://www.foxnews.com'\n",
    "url5 = 'http://www.latimes.com'\n",
    "\n",
    "print('가장 많이 출현한 단어 3개')\n",
    "l1 = wordfrequency(url1)\n",
    "l2 = wordfrequency(url2)\n",
    "l3 = wordfrequency(url3)\n",
    "l4 = wordfrequency(url4)\n",
    "l5 = wordfrequency(url5)\n",
    "\n",
    "print()\n",
    "S = input('Search : ')\n",
    "similarity = {}\n",
    "\n",
    "similarity[url1] = l1.get(S, 0)\n",
    "similarity[url2] = l2.get(S, 0)\n",
    "similarity[url3] = l3.get(S, 0)\n",
    "similarity[url4] = l4.get(S, 0)\n",
    "similarity[url5] = l5.get(S, 0)\n",
    "\n",
    "similarity = sorted(similarity.items(),key=lambda x:(x[1],x[0]), reverse = True)\n",
    "result = ''\n",
    "\n",
    "for x in similarity:\n",
    "    result = result + x[0] + \" \"\n",
    "    \n",
    "print(result)"
   ]
  },
  {
   "cell_type": "markdown",
   "metadata": {},
   "source": [
    "유저가 입력한 단어와 사이트의 유사도를 저장하는 사전인 similarity를 정의한다. 각 사이트에서 출연한 단어의 빈도를 저장한 사전에서 get메소드를 사용하여 유저가 입력한 단어를 키로 가지고 있는지를 검사하여 그 값을 반환하고, 없으면 0을 반환한다.\n",
    "sorted 메소드를 이용하면 사전을 key를 지정하여 정렬할 수 있고, key를 사전의 값을 기준으로 내림차순 정렬하도록 하였다. 만약 값이 같으면 url의 알파벳의 값이 더 큰 url이 먼저 출력된다."
   ]
  },
  {
   "cell_type": "markdown",
   "metadata": {},
   "source": [
    "7) [주의] 필수사항\n",
    "- 위에서 만든 검색엔진 코딩은 매우 간단한 것이라 부족한 점이 많이 존재한다.\n",
    "- 본인이 생각하기에 상업적인 완성도 높은 검색 로봇/엔진이 되려면 어떤 기능들이 추가적으로 구현되어야 할지 최소 3가지 이상 제시하시오.\n",
    "\n",
    "    1. 유저가 오타를 냈을 경우를 고려하여, 오타 전의 단어를 추정하여 검색하는 기능\n",
    "    2. 단어뿐 아니라 문장을 검색하는 기능\n",
    "    3. 단어마다 가중치를 부여하여 가중치를 고려한 유사도를 측정"
   ]
  },
  {
   "cell_type": "markdown",
   "metadata": {},
   "source": [
    "ACM-ICPC 문제가 없어서 좀 더 마지막 문제에 집중할 수 있었습니다. 여전히 파이썬이 익숙하지 않아 과제를 수행하면서 계속 el 강의와 link 홈페이지에 올려둔 자료를 참고했습니다. 파일로 저장한 불용어 목록이 전부 소문자로 되어 있어서 대문자로 시작하는 불용어들은 삭제가 안 되는 것 같은데, 상관없다고 판단하여 그대로 두었습니다.\n",
    "생각할 것이 많은 문제였던 것 같습니다. "
   ]
  },
  {
   "cell_type": "code",
   "execution_count": null,
   "metadata": {},
   "outputs": [],
   "source": []
  }
 ],
 "metadata": {
  "kernelspec": {
   "display_name": "Python 3",
   "language": "python",
   "name": "python3"
  },
  "language_info": {
   "codemirror_mode": {
    "name": "ipython",
    "version": 3
   },
   "file_extension": ".py",
   "mimetype": "text/x-python",
   "name": "python",
   "nbconvert_exporter": "python",
   "pygments_lexer": "ipython3",
   "version": "3.6.5"
  }
 },
 "nbformat": 4,
 "nbformat_minor": 2
}
