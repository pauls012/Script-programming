{
 "cells": [
  {
   "cell_type": "markdown",
   "metadata": {},
   "source": [
    "### 스크립트 프로그래밍 5번째 과제\n"
   ]
  },
  {
   "cell_type": "markdown",
   "metadata": {},
   "source": [
    "#### 2013136055 서정현"
   ]
  },
  {
   "cell_type": "markdown",
   "metadata": {},
   "source": [
    "### [1번 문제]\n",
    "\n",
    "클래스와 모듈의 공통점과 차이점에 대해 설명하시오."
   ]
  },
  {
   "cell_type": "markdown",
   "metadata": {},
   "source": [
    "공통점 : 함수나 변수 등을 모아놓은 집합체라는 것이다. 독립적인 이름 공간을 가지며 함수와 변수 등 독립적으로 정의되어 사용될 수 있다. \n",
    "\n",
    "차이점 : 모듈은 대부분 파일 단위로 구성되며, 파일 안에 클래스를 포함할 수 있다. 또한 모듈은 인스턴스를 생성할 수 없는 반면, 클래스는 인스턴스를 생성할 수 있다. "
   ]
  },
  {
   "cell_type": "markdown",
   "metadata": {},
   "source": [
    "### [2번 문제]\n",
    "\n",
    "다형성에 대해 설명하고 다형성을 보여주는 자신만의 파이썬 코드 예제를 제시하시오"
   ]
  },
  {
   "cell_type": "markdown",
   "metadata": {},
   "source": [
    "다형성이란 상속 관계 내의 다른 클래스들의 인스턴스들이 같은 멤버 변수 함수 호출에 대해 각각 다르게 반응하도록 하는 기능을 말한다. "
   ]
  },
  {
   "cell_type": "code",
   "execution_count": 2,
   "metadata": {},
   "outputs": [
    {
     "name": "stdout",
     "output_type": "stream",
     "text": [
      "가나다라\n",
      "abcdefghijk\n",
      "가나다라abcd\n"
     ]
    }
   ],
   "source": [
    "class Words : # Words 클래스\n",
    "    def show(self) : # Words 종류\n",
    "        print(\"가나다라abcd\")\n",
    "\n",
    "class Hangeul(Words) : # 한글 클래스\n",
    "    def show(self) :\n",
    "        print(\"가나다라\")\n",
    "        \n",
    "class English(Words) : # 영어 클래스\n",
    "    def show(self) :\n",
    "        print(\"abcdefghijk\") \n",
    "\n",
    "class Chinese(Words) : # 중국어 클래스\n",
    "        pass\n",
    "\n",
    "for each in (Hangeul(), English(), Chinese()) : \n",
    "    each.show()\n",
    "\n",
    "# 각 클래스마다 메소드의 name은 같지만 결과가 다른걸 보여주고 있다."
   ]
  },
  {
   "cell_type": "markdown",
   "metadata": {},
   "source": [
    "### [3번 문제]\n",
    "\n",
    "다음 각 요구사항 모두를 만족시키는 Counter 클래스를 코딩하시오 (정답을 각 요구사항별로 입력할 필요 없이 3번 문제에 대해 1개의 클래스 정의 코드를 제시하면 된다.)"
   ]
  },
  {
   "cell_type": "code",
   "execution_count": 6,
   "metadata": {},
   "outputs": [
    {
     "name": "stdout",
     "output_type": "stream",
     "text": [
      "[Count (step : 1)] 10\n",
      "[Count (step : 2)] 10\n",
      "\n",
      "[Count (step : 1)] 11\n",
      "[Count (step : 2)] 12\n",
      "\n",
      "[Count (step : 1)] 12\n",
      "[Count (step : 2)] 14\n",
      "\n",
      "[Count (step : 1)] 17\n",
      "[Count (step : 2)] 9\n",
      "\n",
      "True\n",
      "False\n",
      "False\n",
      "True\n",
      "True\n",
      "False\n"
     ]
    }
   ],
   "source": [
    "class Counter :\n",
    "    def __init__(self, count, step=1) : # 생성자를 통해 인스턴스 멤버 생성\n",
    "        self.count = count\n",
    "        self.step = step\n",
    "        \n",
    "    def __str__(self) : # Counter 클래스의 인스턴스 출력\n",
    "        return (\"[Count (step : \" + str(self.step) + \")] \" + str(self.count))\n",
    "        \n",
    "    def incr(self) : # count를 step만큼 증가\n",
    "        self.count += self.step\n",
    "    \n",
    "    def __call__(self): # 인스턴스 객체를 직접 호출 가능하도록( ex. c(), d() ) \n",
    "        self.incr()\n",
    "        \n",
    "    def __add__(self, other) : # 덧셈 연산\n",
    "        self.count += other # 연산 후\n",
    "        return self # 인스턴스 반환\n",
    "    \n",
    "    def __sub__(self, other) : # 뺄셈 연산\n",
    "        self.count -= other # 연산 후 \n",
    "        return self # 인스턴스 반환\n",
    "    \n",
    "    def __gt__(self, other) : \n",
    "        return self.count > other \n",
    "    \n",
    "    def __lt__(self, other) :\n",
    "        return self.count < other\n",
    "    \n",
    "    def __eq__(self, other) :\n",
    "        return self.count == other\n",
    "    \n",
    "    def __ne__(self, other) :\n",
    "        return self.count != other\n",
    "\n",
    "c = Counter(10)\n",
    "d = Counter(10, 2)\n",
    "\n",
    "print(c)\n",
    "print(d)\n",
    "print()\n",
    "c.incr()\n",
    "d.incr()\n",
    "print(c)\n",
    "print(d)\n",
    "print()\n",
    "\n",
    "c()\n",
    "d()\n",
    "print(c)\n",
    "print(d)\n",
    "print()\n",
    "\n",
    "c = c + 5\n",
    "d = d - 5\n",
    "print(c)\n",
    "print(d)\n",
    "print()\n",
    "\n",
    "print(c > 10)\n",
    "print(d > 10)\n",
    "print(c < 10)\n",
    "print(d < 10)\n",
    "print(c == 17)\n",
    "print(d != 9)"
   ]
  },
  {
   "cell_type": "markdown",
   "metadata": {},
   "source": [
    "### [4번 문제]\n",
    "\n",
    "다음은 내장 자료형 list를 서브클래싱하여 만든 MySet 클래스 정의 내용이다. 다음 클래스 정의에서 __init__(), __str()__(), elimicate_duplicate()의 세 개의 메소드 코드 내용을 자신이 다른 사람에게 가르친다고 생각하며 설명해보시오."
   ]
  },
  {
   "cell_type": "code",
   "execution_count": 1,
   "metadata": {},
   "outputs": [
    {
     "name": "stdout",
     "output_type": "stream",
     "text": [
      "MySet: {1 ,2 ,3}\n",
      "MySet: {2 ,3 ,4 ,5 ,6 ,7 ,8 ,9}\n"
     ]
    }
   ],
   "source": [
    "class MySet(list):\n",
    "    def __init__(self, l):\n",
    "        for e in l:\n",
    "            self.append(e)\n",
    "        MySet.eliminate_duplicate(self)\n",
    "    \n",
    "    def __str__(self):\n",
    "        result = \"MySet: {\"\n",
    "        for e in self:\n",
    "            result = result + str(e) + \" ,\"\n",
    "        result = result[0:len(result)-2] + \"}\"\n",
    "        return result\n",
    "\n",
    "    @staticmethod    \n",
    "    def eliminate_duplicate(l):\n",
    "        s = []\n",
    "        for e in l:\n",
    "            if e not in s:\n",
    "                s.append(e)\n",
    "        l[:] = []\n",
    "        for e in s:\n",
    "            l.append(e)\n",
    "\n",
    "    \n",
    "if __name__ == \"__main__\":\n",
    "    s = MySet([1, 2, 2, 3])\n",
    "    print(s)\n",
    "    t = MySet([2, 3, 4, 5, 6, 7, 8, 8, 8, 8, 8, 9])\n",
    "    print(t)"
   ]
  },
  {
   "cell_type": "markdown",
   "metadata": {},
   "source": [
    "#### __init__() 메소드\n",
    "- 부모 클래스 list를 상속한 자식 클래스 Myset을 생성한다. \n",
    "init() 메소드는 객체가 생성될 때, 자동으로 불려지는 메소드이다. init 메소드는 인자로 받은 객체 인스턴스의 원소들 e을 자기자신에게 append하고 정적메소드 eliminate_duplicate()에 자기자신을 인자로 넣어 호출하고 있다.\n",
    "\n",
    "#### __str__() 메소드\n",
    "- str메소드는 객체 출력하기 위한 print 예약어 호출에 대응된다. 즉 \"print 객체\"를 통해 불려지는 메소드이다. 이 메소드를 통해 사용자는 인스턴스의 내용을 문자열 형태로 볼 수 있게 된다. init 메소드의 인자로부터 받은 리스트 l의 원소들을 문자열로 나타내어 리턴한다.\n",
    "\n",
    "#### eliminate_duplicate() 메소드\n",
    "- eliminate_duplicate() 메소드는 init메소드의 인자로부터 전달받은 자기자신의 원소 e를 빈 리스트 s에 없는지 검사한 후 없는 경우에만 append하여 추가함으로써 중복을 방지한다. 이후 init 메소드의 인자로부터 받은 리스트 l을 초기화하고 중복된 값이 없는 리스트 s로부터 원소 e를 초기화 한 리스트 l에 append한다. 정적메소드는 클래스 이름을 통해 직접 부르고 있어, 생성자를 통해 들어온 값들의 중복을 제거한다."
   ]
  },
  {
   "cell_type": "markdown",
   "metadata": {},
   "source": [
    "### [5번 문제]\n",
    "\n",
    "4번 문제에 정의된 MySet 클래스에 메소드를 추가하여 다음 각 요구사항 모두를 만족시키는 코딩을 제시하시오"
   ]
  },
  {
   "cell_type": "code",
   "execution_count": 19,
   "metadata": {},
   "outputs": [
    {
     "name": "stdout",
     "output_type": "stream",
     "text": [
      "MySet: {1 ,2 ,3}\n",
      "MySet: {2 ,3 ,4 ,5 ,6 ,7 ,8 ,9}\n",
      "\n",
      "MySet: {1 ,2 ,3 ,4 ,5 ,6 ,7 ,8 ,9}\n",
      "\n",
      "MySet: {2 ,3}\n",
      "\n",
      "MySet: {1 ,2}\n"
     ]
    }
   ],
   "source": [
    "class MySet(list):\n",
    "    def __init__(self, l):\n",
    "        for e in l:\n",
    "            self.append(e)\n",
    "        MySet.eliminate_duplicate(self)\n",
    "    \n",
    "    def __str__(self):\n",
    "        result = \"MySet: {\"\n",
    "        for e in self:\n",
    "            result = result + str(e) + \" ,\"\n",
    "        result = result[0:len(result)-2] + \"}\"\n",
    "        return result\n",
    "    \n",
    "    @staticmethod    \n",
    "    def eliminate_duplicate(l):\n",
    "        s = []\n",
    "        for e in l:\n",
    "            if e not in s:\n",
    "                s.append(e)\n",
    "        l[:] = []\n",
    "        for e in s:\n",
    "            l.append(e)\n",
    "    \n",
    "    def __or__(self, other) : # 합집합\n",
    "        result = self + other\n",
    "        self.eliminate_duplicate(result)\n",
    "        return MySet(result)\n",
    "    \n",
    "    def __and__(self, other) : # 교집합\n",
    "        for e in self : # 자기자신 원소들 중 타집합에는 없는 원소들을 제거\n",
    "            if e not in other :\n",
    "                self.remove(e)\n",
    "        return self\n",
    "    \n",
    "    def __sub__(self, other) : # 차집합\n",
    "        for e in self : # 자기자신 원소들 중 타집합에 있는 원소들을 제거\n",
    "            if e in other :\n",
    "                self.remove(e)\n",
    "        return self\n",
    "    \n",
    "    \n",
    "if __name__ == \"__main__\":\n",
    "    \n",
    "    s = MySet([1, 2, 2, 3])\n",
    "    print(s)\n",
    "    t = MySet([2, 3, 4, 5, 6, 7, 8, 8, 8, 8, 8, 9])\n",
    "    print(t)\n",
    "    print()\n",
    "    \n",
    "    u = s | t # 합집합 연산 \n",
    "    print(u)\n",
    "    print()\n",
    "    \n",
    "    u = s & t # 교집합 연산\n",
    "    print(u)\n",
    "    print()\n",
    "    \n",
    "    s = MySet([1, 2, 3])\n",
    "    t = MySet([3, 4, 5])\n",
    "    u = s - t # 차집합 연산\n",
    "    print(u)"
   ]
  },
  {
   "cell_type": "markdown",
   "metadata": {},
   "source": [
    "### [6번 문제]\n",
    "\n",
    "5번 문제에서 정의한 MySet 클래스에 대해 다음 예제를 수행하면 오류없이 올바르게 동작하는 것을 확인할 수 있다. 다음 예제 내에 있는 len(), bool() 내장함수와 in 키워드 사용 예제가 별다른 메소드 정의를 하지 않았는 데도 올바르게 수행되는 이유를 설명하시오."
   ]
  },
  {
   "cell_type": "code",
   "execution_count": 50,
   "metadata": {},
   "outputs": [
    {
     "name": "stdout",
     "output_type": "stream",
     "text": [
      "6\n",
      "True\n",
      "True\n"
     ]
    }
   ],
   "source": [
    "s = MySet([1, 2, 3, 4, 5, 6])\n",
    "print(len(s))\n",
    "print(bool(s))\n",
    "print(2 in s)"
   ]
  },
  {
   "cell_type": "markdown",
   "metadata": {},
   "source": [
    "MySet클래스는 list라는 부모클래스를 상속받은 서브클래스이다. 기본적으로 list 모듈에 정의되어 있는 메소드들이기 때문에 list 클래스를 상속받아 클래스 객체 s에 적용시킬 수 있다. "
   ]
  },
  {
   "cell_type": "markdown",
   "metadata": {},
   "source": [
    "### [7번 문제]\n",
    "이전 Assignment 3 & Assignment 4를 다시 확장/변형하여 다음과 같은 조건을 만족하도록 구현하시오 (CODE REFACTORING!!!)."
   ]
  },
  {
   "cell_type": "code",
   "execution_count": null,
   "metadata": {},
   "outputs": [],
   "source": []
  },
  {
   "cell_type": "code",
   "execution_count": 34,
   "metadata": {},
   "outputs": [],
   "source": [
    "import string\n",
    "import requests\n",
    "from urllib import request\n",
    "\n",
    "class SearchEngine :\n",
    "    def __init__(self, *urls) :\n",
    "        self.urls = list() # url을 리스트형으로\n",
    "        for e in urls :\n",
    "            self.urls.append(e)\n",
    "            \n",
    "    def addUrl(self, urls) :\n",
    "        self.urls.append(urls)\n",
    "    \n",
    "    def removeUrl(self, urls) :\n",
    "        self.urls.remove(urls)\n",
    "    \n",
    "    def listUrls(self) :\n",
    "        for e in self.urls :\n",
    "            print(e)\n",
    "    \n",
    "    def getWordsFrequency(self) : # 단어 출현 빈도 사전\n",
    "        \n",
    "        mydict = self.TurnDic(self, self.urls)\n",
    "        return mydict\n",
    "            \n",
    "    def getMaxFrequencyWords(self) : # 가장 많이 출현한 단어\n",
    "        pass\n",
    "    \n",
    "    def searchUrlByWord(self, word) : # 유사도가 높은 웹사이트\n",
    "        pass\n",
    "\n",
    "    def LoadPage(urls):\n",
    "        req = requests.get(urls)\n",
    "        source = req.text\n",
    "        return source\n",
    "\n",
    "    def extractLetter(self, urls) : \n",
    "        L_source = list()\n",
    "        for e in urls:\n",
    "            f = request.urlopen(e)\n",
    "            source_bytes = f.read()\n",
    "            source = source_bytes.decode('utf-8')\n",
    "            f.close()\n",
    "        lock = False\n",
    "        comment = False\n",
    "        end_comment = 0\n",
    "        for i in range(len(L_source)):\n",
    "            if L_source[i] == '<':\n",
    "                lock = True\n",
    "                end_comment -= 1\n",
    "                L_source[i] = ''\n",
    "            if L_source[i] == '>':\n",
    "                lock = False\n",
    "                end_comment += 1\n",
    "                L_source[i] = ''\n",
    "            if lock == True and L_source[i] == '!':\n",
    "                comment = True\n",
    "                end_comment = 0\n",
    "            if comment == True and end_comment == 1:\n",
    "                comment = False\n",
    "            if lock == True:\n",
    "                L_source[i] = ''\n",
    "            if comment == True:\n",
    "                L_source[i] = ''\n",
    "                \n",
    "        result = \"\".join(L_source)\n",
    "        count = 0\n",
    "        text_line = result.split()\n",
    "        for i in range(0, len(text_line)):\n",
    "            count += len(text_line[i].split(' '))\n",
    "\n",
    "    def PureText(text, urls) : #  순수 단어 \n",
    "        f = open('Stopwords.txt', 'rt', encoding='UTF8') # 불용어 파일 읽음\n",
    "        l = f.readlines()\n",
    "        f.close()\n",
    "\n",
    "        StopWrd = list()\n",
    "        for i in l :\n",
    "            if i == '\\n' : continue\n",
    "            StopWrd.append(i.strip())\n",
    "        StopWrd = \"\".join(StopWrd)\n",
    "        \n",
    "        delpunc = SearchEngine.delPunc(text, urls)\n",
    "        puretext = []\n",
    "        for i in delpunc :\n",
    "            if i not in StopWrd :\n",
    "                puretext.append(i)\n",
    "        return puretext\n",
    "    \n",
    "    @staticmethod\n",
    "    def TurnDic(l, urls) :  #사전화 작업\n",
    "        countword = dict()\n",
    "        result = SearchEngine.PureText(l, urls)\n",
    "        for i in result :\n",
    "            if i not in  countword:\n",
    "                countword[i] = 1\n",
    "            else:\n",
    "                countword[i] += 1\n",
    "        return countword\n",
    "        \n",
    "    def delPunc(text, urls) :\n",
    "        delpunc = []\n",
    "        text = list(SearchEngine.extractLetter(text, urls))\n",
    "        for i in text :\n",
    "            if i not in string.punctuation :\n",
    "                delpunc.append(i)\n",
    "        return delpunc\n",
    "        \n",
    "class SearchEngineWithOrderedWebWords(SearchEngine) :\n",
    "    def getWordsFrequency(self, reverse=False) : # 단어 출현 빈도를 내림차순\n",
    "        pass\n",
    "    "
   ]
  },
  {
   "cell_type": "code",
   "execution_count": 35,
   "metadata": {},
   "outputs": [
    {
     "name": "stdout",
     "output_type": "stream",
     "text": [
      "http://www.times.com\n",
      "https://www.amazon.com\n",
      "https://github.com\n"
     ]
    },
    {
     "ename": "InvalidSchema",
     "evalue": "No connection adapters were found for '['http://www.times.com', 'https://www.amazon.com', 'https://github.com']'",
     "output_type": "error",
     "traceback": [
      "\u001b[1;31m---------------------------------------------------------------------------\u001b[0m",
      "\u001b[1;31mInvalidSchema\u001b[0m                             Traceback (most recent call last)",
      "\u001b[1;32m<ipython-input-35-22ea2339f1ab>\u001b[0m in \u001b[0;36m<module>\u001b[1;34m()\u001b[0m\n\u001b[0;32m     11\u001b[0m \u001b[0mw1\u001b[0m\u001b[1;33m.\u001b[0m\u001b[0mlistUrls\u001b[0m\u001b[1;33m(\u001b[0m\u001b[1;33m)\u001b[0m\u001b[1;33m\u001b[0m\u001b[0m\n\u001b[0;32m     12\u001b[0m \u001b[1;33m\u001b[0m\u001b[0m\n\u001b[1;32m---> 13\u001b[1;33m \u001b[0mw1\u001b[0m\u001b[1;33m.\u001b[0m\u001b[0mgetWordsFrequency\u001b[0m\u001b[1;33m(\u001b[0m\u001b[1;33m)\u001b[0m\u001b[1;33m\u001b[0m\u001b[0m\n\u001b[0m",
      "\u001b[1;32m<ipython-input-34-46dc08956c92>\u001b[0m in \u001b[0;36mgetWordsFrequency\u001b[1;34m(self)\u001b[0m\n\u001b[0;32m     20\u001b[0m     \u001b[1;32mdef\u001b[0m \u001b[0mgetWordsFrequency\u001b[0m\u001b[1;33m(\u001b[0m\u001b[0mself\u001b[0m\u001b[1;33m)\u001b[0m \u001b[1;33m:\u001b[0m \u001b[1;31m# 단어 출현 빈도 사전\u001b[0m\u001b[1;33m\u001b[0m\u001b[0m\n\u001b[0;32m     21\u001b[0m \u001b[1;33m\u001b[0m\u001b[0m\n\u001b[1;32m---> 22\u001b[1;33m         \u001b[0mmydict\u001b[0m \u001b[1;33m=\u001b[0m \u001b[0mself\u001b[0m\u001b[1;33m.\u001b[0m\u001b[0mTurnDic\u001b[0m\u001b[1;33m(\u001b[0m\u001b[0mself\u001b[0m\u001b[1;33m,\u001b[0m \u001b[0mself\u001b[0m\u001b[1;33m.\u001b[0m\u001b[0murls\u001b[0m\u001b[1;33m)\u001b[0m\u001b[1;33m\u001b[0m\u001b[0m\n\u001b[0m\u001b[0;32m     23\u001b[0m         \u001b[1;32mreturn\u001b[0m \u001b[0mmydict\u001b[0m\u001b[1;33m\u001b[0m\u001b[0m\n\u001b[0;32m     24\u001b[0m \u001b[1;33m\u001b[0m\u001b[0m\n",
      "\u001b[1;32m<ipython-input-34-46dc08956c92>\u001b[0m in \u001b[0;36mTurnDic\u001b[1;34m(l, urls)\u001b[0m\n\u001b[0;32m     88\u001b[0m     \u001b[1;32mdef\u001b[0m \u001b[0mTurnDic\u001b[0m\u001b[1;33m(\u001b[0m\u001b[0ml\u001b[0m\u001b[1;33m,\u001b[0m \u001b[0murls\u001b[0m\u001b[1;33m)\u001b[0m \u001b[1;33m:\u001b[0m  \u001b[1;31m#사전화 작업\u001b[0m\u001b[1;33m\u001b[0m\u001b[0m\n\u001b[0;32m     89\u001b[0m         \u001b[0mcountword\u001b[0m \u001b[1;33m=\u001b[0m \u001b[0mdict\u001b[0m\u001b[1;33m(\u001b[0m\u001b[1;33m)\u001b[0m\u001b[1;33m\u001b[0m\u001b[0m\n\u001b[1;32m---> 90\u001b[1;33m         \u001b[0mresult\u001b[0m \u001b[1;33m=\u001b[0m \u001b[0mSearchEngine\u001b[0m\u001b[1;33m.\u001b[0m\u001b[0mPureText\u001b[0m\u001b[1;33m(\u001b[0m\u001b[0ml\u001b[0m\u001b[1;33m,\u001b[0m \u001b[0murls\u001b[0m\u001b[1;33m)\u001b[0m\u001b[1;33m\u001b[0m\u001b[0m\n\u001b[0m\u001b[0;32m     91\u001b[0m         \u001b[1;32mfor\u001b[0m \u001b[0mi\u001b[0m \u001b[1;32min\u001b[0m \u001b[0mresult\u001b[0m \u001b[1;33m:\u001b[0m\u001b[1;33m\u001b[0m\u001b[0m\n\u001b[0;32m     92\u001b[0m             \u001b[1;32mif\u001b[0m \u001b[0mi\u001b[0m \u001b[1;32mnot\u001b[0m \u001b[1;32min\u001b[0m  \u001b[0mcountword\u001b[0m\u001b[1;33m:\u001b[0m\u001b[1;33m\u001b[0m\u001b[0m\n",
      "\u001b[1;32m<ipython-input-34-46dc08956c92>\u001b[0m in \u001b[0;36mPureText\u001b[1;34m(text, urls)\u001b[0m\n\u001b[0;32m     78\u001b[0m         \u001b[0mStopWrd\u001b[0m \u001b[1;33m=\u001b[0m \u001b[1;34m\"\"\u001b[0m\u001b[1;33m.\u001b[0m\u001b[0mjoin\u001b[0m\u001b[1;33m(\u001b[0m\u001b[0mStopWrd\u001b[0m\u001b[1;33m)\u001b[0m\u001b[1;33m\u001b[0m\u001b[0m\n\u001b[0;32m     79\u001b[0m \u001b[1;33m\u001b[0m\u001b[0m\n\u001b[1;32m---> 80\u001b[1;33m         \u001b[0mdelpunc\u001b[0m \u001b[1;33m=\u001b[0m \u001b[0mSearchEngine\u001b[0m\u001b[1;33m.\u001b[0m\u001b[0mdelPunc\u001b[0m\u001b[1;33m(\u001b[0m\u001b[0mtext\u001b[0m\u001b[1;33m,\u001b[0m \u001b[0murls\u001b[0m\u001b[1;33m)\u001b[0m\u001b[1;33m\u001b[0m\u001b[0m\n\u001b[0m\u001b[0;32m     81\u001b[0m         \u001b[0mpuretext\u001b[0m \u001b[1;33m=\u001b[0m \u001b[1;33m[\u001b[0m\u001b[1;33m]\u001b[0m\u001b[1;33m\u001b[0m\u001b[0m\n\u001b[0;32m     82\u001b[0m         \u001b[1;32mfor\u001b[0m \u001b[0mi\u001b[0m \u001b[1;32min\u001b[0m \u001b[0mdelpunc\u001b[0m \u001b[1;33m:\u001b[0m\u001b[1;33m\u001b[0m\u001b[0m\n",
      "\u001b[1;32m<ipython-input-34-46dc08956c92>\u001b[0m in \u001b[0;36mdelPunc\u001b[1;34m(text, urls)\u001b[0m\n\u001b[0;32m     98\u001b[0m     \u001b[1;32mdef\u001b[0m \u001b[0mdelPunc\u001b[0m\u001b[1;33m(\u001b[0m\u001b[0mtext\u001b[0m\u001b[1;33m,\u001b[0m \u001b[0murls\u001b[0m\u001b[1;33m)\u001b[0m \u001b[1;33m:\u001b[0m\u001b[1;33m\u001b[0m\u001b[0m\n\u001b[0;32m     99\u001b[0m         \u001b[0mdelpunc\u001b[0m \u001b[1;33m=\u001b[0m \u001b[1;33m[\u001b[0m\u001b[1;33m]\u001b[0m\u001b[1;33m\u001b[0m\u001b[0m\n\u001b[1;32m--> 100\u001b[1;33m         \u001b[0mtext\u001b[0m \u001b[1;33m=\u001b[0m \u001b[0mlist\u001b[0m\u001b[1;33m(\u001b[0m\u001b[0mSearchEngine\u001b[0m\u001b[1;33m.\u001b[0m\u001b[0mextractLetter\u001b[0m\u001b[1;33m(\u001b[0m\u001b[0mtext\u001b[0m\u001b[1;33m,\u001b[0m \u001b[0murls\u001b[0m\u001b[1;33m)\u001b[0m\u001b[1;33m)\u001b[0m\u001b[1;33m\u001b[0m\u001b[0m\n\u001b[0m\u001b[0;32m    101\u001b[0m         \u001b[1;32mfor\u001b[0m \u001b[0mi\u001b[0m \u001b[1;32min\u001b[0m \u001b[0mtext\u001b[0m \u001b[1;33m:\u001b[0m\u001b[1;33m\u001b[0m\u001b[0m\n\u001b[0;32m    102\u001b[0m             \u001b[1;32mif\u001b[0m \u001b[0mi\u001b[0m \u001b[1;32mnot\u001b[0m \u001b[1;32min\u001b[0m \u001b[0mstring\u001b[0m\u001b[1;33m.\u001b[0m\u001b[0mpunctuation\u001b[0m \u001b[1;33m:\u001b[0m\u001b[1;33m\u001b[0m\u001b[0m\n",
      "\u001b[1;32m<ipython-input-34-46dc08956c92>\u001b[0m in \u001b[0;36mextractLetter\u001b[1;34m(self, urls)\u001b[0m\n\u001b[0;32m     37\u001b[0m         \u001b[0mL_source\u001b[0m \u001b[1;33m=\u001b[0m \u001b[0mlist\u001b[0m\u001b[1;33m(\u001b[0m\u001b[1;33m)\u001b[0m\u001b[1;33m\u001b[0m\u001b[0m\n\u001b[0;32m     38\u001b[0m         \u001b[1;32mfor\u001b[0m \u001b[0me\u001b[0m \u001b[1;32min\u001b[0m \u001b[0murls\u001b[0m\u001b[1;33m:\u001b[0m\u001b[1;33m\u001b[0m\u001b[0m\n\u001b[1;32m---> 39\u001b[1;33m             \u001b[0msource\u001b[0m \u001b[1;33m=\u001b[0m \u001b[0mSearchEngine\u001b[0m\u001b[1;33m.\u001b[0m\u001b[0mLoadPage\u001b[0m\u001b[1;33m(\u001b[0m\u001b[0murls\u001b[0m\u001b[1;33m)\u001b[0m\u001b[1;33m\u001b[0m\u001b[0m\n\u001b[0m\u001b[0;32m     40\u001b[0m             \u001b[0mL_source\u001b[0m\u001b[1;33m.\u001b[0m\u001b[0mappend\u001b[0m\u001b[1;33m(\u001b[0m\u001b[0msource\u001b[0m\u001b[1;33m)\u001b[0m\u001b[1;33m\u001b[0m\u001b[0m\n\u001b[0;32m     41\u001b[0m         \u001b[0mlock\u001b[0m \u001b[1;33m=\u001b[0m \u001b[1;32mFalse\u001b[0m\u001b[1;33m\u001b[0m\u001b[0m\n",
      "\u001b[1;32m<ipython-input-34-46dc08956c92>\u001b[0m in \u001b[0;36mLoadPage\u001b[1;34m(urls)\u001b[0m\n\u001b[0;32m     30\u001b[0m \u001b[1;33m\u001b[0m\u001b[0m\n\u001b[0;32m     31\u001b[0m     \u001b[1;32mdef\u001b[0m \u001b[0mLoadPage\u001b[0m\u001b[1;33m(\u001b[0m\u001b[0murls\u001b[0m\u001b[1;33m)\u001b[0m\u001b[1;33m:\u001b[0m\u001b[1;33m\u001b[0m\u001b[0m\n\u001b[1;32m---> 32\u001b[1;33m         \u001b[0mreq\u001b[0m \u001b[1;33m=\u001b[0m \u001b[0mrequests\u001b[0m\u001b[1;33m.\u001b[0m\u001b[0mget\u001b[0m\u001b[1;33m(\u001b[0m\u001b[0murls\u001b[0m\u001b[1;33m)\u001b[0m\u001b[1;33m\u001b[0m\u001b[0m\n\u001b[0m\u001b[0;32m     33\u001b[0m         \u001b[0msource\u001b[0m \u001b[1;33m=\u001b[0m \u001b[0mreq\u001b[0m\u001b[1;33m.\u001b[0m\u001b[0mtext\u001b[0m\u001b[1;33m\u001b[0m\u001b[0m\n\u001b[0;32m     34\u001b[0m         \u001b[1;32mreturn\u001b[0m \u001b[0msource\u001b[0m\u001b[1;33m\u001b[0m\u001b[0m\n",
      "\u001b[1;32mC:\\ProgramData\\Anaconda3\\lib\\site-packages\\requests\\api.py\u001b[0m in \u001b[0;36mget\u001b[1;34m(url, params, **kwargs)\u001b[0m\n\u001b[0;32m     70\u001b[0m \u001b[1;33m\u001b[0m\u001b[0m\n\u001b[0;32m     71\u001b[0m     \u001b[0mkwargs\u001b[0m\u001b[1;33m.\u001b[0m\u001b[0msetdefault\u001b[0m\u001b[1;33m(\u001b[0m\u001b[1;34m'allow_redirects'\u001b[0m\u001b[1;33m,\u001b[0m \u001b[1;32mTrue\u001b[0m\u001b[1;33m)\u001b[0m\u001b[1;33m\u001b[0m\u001b[0m\n\u001b[1;32m---> 72\u001b[1;33m     \u001b[1;32mreturn\u001b[0m \u001b[0mrequest\u001b[0m\u001b[1;33m(\u001b[0m\u001b[1;34m'get'\u001b[0m\u001b[1;33m,\u001b[0m \u001b[0murl\u001b[0m\u001b[1;33m,\u001b[0m \u001b[0mparams\u001b[0m\u001b[1;33m=\u001b[0m\u001b[0mparams\u001b[0m\u001b[1;33m,\u001b[0m \u001b[1;33m**\u001b[0m\u001b[0mkwargs\u001b[0m\u001b[1;33m)\u001b[0m\u001b[1;33m\u001b[0m\u001b[0m\n\u001b[0m\u001b[0;32m     73\u001b[0m \u001b[1;33m\u001b[0m\u001b[0m\n\u001b[0;32m     74\u001b[0m \u001b[1;33m\u001b[0m\u001b[0m\n",
      "\u001b[1;32mC:\\ProgramData\\Anaconda3\\lib\\site-packages\\requests\\api.py\u001b[0m in \u001b[0;36mrequest\u001b[1;34m(method, url, **kwargs)\u001b[0m\n\u001b[0;32m     56\u001b[0m     \u001b[1;31m# cases, and look like a memory leak in others.\u001b[0m\u001b[1;33m\u001b[0m\u001b[1;33m\u001b[0m\u001b[0m\n\u001b[0;32m     57\u001b[0m     \u001b[1;32mwith\u001b[0m \u001b[0msessions\u001b[0m\u001b[1;33m.\u001b[0m\u001b[0mSession\u001b[0m\u001b[1;33m(\u001b[0m\u001b[1;33m)\u001b[0m \u001b[1;32mas\u001b[0m \u001b[0msession\u001b[0m\u001b[1;33m:\u001b[0m\u001b[1;33m\u001b[0m\u001b[0m\n\u001b[1;32m---> 58\u001b[1;33m         \u001b[1;32mreturn\u001b[0m \u001b[0msession\u001b[0m\u001b[1;33m.\u001b[0m\u001b[0mrequest\u001b[0m\u001b[1;33m(\u001b[0m\u001b[0mmethod\u001b[0m\u001b[1;33m=\u001b[0m\u001b[0mmethod\u001b[0m\u001b[1;33m,\u001b[0m \u001b[0murl\u001b[0m\u001b[1;33m=\u001b[0m\u001b[0murl\u001b[0m\u001b[1;33m,\u001b[0m \u001b[1;33m**\u001b[0m\u001b[0mkwargs\u001b[0m\u001b[1;33m)\u001b[0m\u001b[1;33m\u001b[0m\u001b[0m\n\u001b[0m\u001b[0;32m     59\u001b[0m \u001b[1;33m\u001b[0m\u001b[0m\n\u001b[0;32m     60\u001b[0m \u001b[1;33m\u001b[0m\u001b[0m\n",
      "\u001b[1;32mC:\\ProgramData\\Anaconda3\\lib\\site-packages\\requests\\sessions.py\u001b[0m in \u001b[0;36mrequest\u001b[1;34m(self, method, url, params, data, headers, cookies, files, auth, timeout, allow_redirects, proxies, hooks, stream, verify, cert, json)\u001b[0m\n\u001b[0;32m    506\u001b[0m         }\n\u001b[0;32m    507\u001b[0m         \u001b[0msend_kwargs\u001b[0m\u001b[1;33m.\u001b[0m\u001b[0mupdate\u001b[0m\u001b[1;33m(\u001b[0m\u001b[0msettings\u001b[0m\u001b[1;33m)\u001b[0m\u001b[1;33m\u001b[0m\u001b[0m\n\u001b[1;32m--> 508\u001b[1;33m         \u001b[0mresp\u001b[0m \u001b[1;33m=\u001b[0m \u001b[0mself\u001b[0m\u001b[1;33m.\u001b[0m\u001b[0msend\u001b[0m\u001b[1;33m(\u001b[0m\u001b[0mprep\u001b[0m\u001b[1;33m,\u001b[0m \u001b[1;33m**\u001b[0m\u001b[0msend_kwargs\u001b[0m\u001b[1;33m)\u001b[0m\u001b[1;33m\u001b[0m\u001b[0m\n\u001b[0m\u001b[0;32m    509\u001b[0m \u001b[1;33m\u001b[0m\u001b[0m\n\u001b[0;32m    510\u001b[0m         \u001b[1;32mreturn\u001b[0m \u001b[0mresp\u001b[0m\u001b[1;33m\u001b[0m\u001b[0m\n",
      "\u001b[1;32mC:\\ProgramData\\Anaconda3\\lib\\site-packages\\requests\\sessions.py\u001b[0m in \u001b[0;36msend\u001b[1;34m(self, request, **kwargs)\u001b[0m\n\u001b[0;32m    610\u001b[0m \u001b[1;33m\u001b[0m\u001b[0m\n\u001b[0;32m    611\u001b[0m         \u001b[1;31m# Get the appropriate adapter to use\u001b[0m\u001b[1;33m\u001b[0m\u001b[1;33m\u001b[0m\u001b[0m\n\u001b[1;32m--> 612\u001b[1;33m         \u001b[0madapter\u001b[0m \u001b[1;33m=\u001b[0m \u001b[0mself\u001b[0m\u001b[1;33m.\u001b[0m\u001b[0mget_adapter\u001b[0m\u001b[1;33m(\u001b[0m\u001b[0murl\u001b[0m\u001b[1;33m=\u001b[0m\u001b[0mrequest\u001b[0m\u001b[1;33m.\u001b[0m\u001b[0murl\u001b[0m\u001b[1;33m)\u001b[0m\u001b[1;33m\u001b[0m\u001b[0m\n\u001b[0m\u001b[0;32m    613\u001b[0m \u001b[1;33m\u001b[0m\u001b[0m\n\u001b[0;32m    614\u001b[0m         \u001b[1;31m# Start time (approximately) of the request\u001b[0m\u001b[1;33m\u001b[0m\u001b[1;33m\u001b[0m\u001b[0m\n",
      "\u001b[1;32mC:\\ProgramData\\Anaconda3\\lib\\site-packages\\requests\\sessions.py\u001b[0m in \u001b[0;36mget_adapter\u001b[1;34m(self, url)\u001b[0m\n\u001b[0;32m    701\u001b[0m \u001b[1;33m\u001b[0m\u001b[0m\n\u001b[0;32m    702\u001b[0m         \u001b[1;31m# Nothing matches :-/\u001b[0m\u001b[1;33m\u001b[0m\u001b[1;33m\u001b[0m\u001b[0m\n\u001b[1;32m--> 703\u001b[1;33m         \u001b[1;32mraise\u001b[0m \u001b[0mInvalidSchema\u001b[0m\u001b[1;33m(\u001b[0m\u001b[1;34m\"No connection adapters were found for '%s'\"\u001b[0m \u001b[1;33m%\u001b[0m \u001b[0murl\u001b[0m\u001b[1;33m)\u001b[0m\u001b[1;33m\u001b[0m\u001b[0m\n\u001b[0m\u001b[0;32m    704\u001b[0m \u001b[1;33m\u001b[0m\u001b[0m\n\u001b[0;32m    705\u001b[0m     \u001b[1;32mdef\u001b[0m \u001b[0mclose\u001b[0m\u001b[1;33m(\u001b[0m\u001b[0mself\u001b[0m\u001b[1;33m)\u001b[0m\u001b[1;33m:\u001b[0m\u001b[1;33m\u001b[0m\u001b[0m\n",
      "\u001b[1;31mInvalidSchema\u001b[0m: No connection adapters were found for '['http://www.times.com', 'https://www.amazon.com', 'https://github.com']'"
     ]
    }
   ],
   "source": [
    "w1 = SearchEngine('http://www.cnn.com', 'http://www.times.com', 'https://www.amazon.com') \n",
    "w2 = SearchEngine('http://www.cnn.com', 'http://www.times.com') \n",
    "w3 = SearchEngine() \n",
    "\n",
    "w1.addUrl('https://github.com')\n",
    "w3.addUrl('http://stackoverflow.com')\n",
    "\n",
    "w1.removeUrl('http://www.cnn.com')\n",
    "w3.removeUrl('http://stackoverflow.com')\n",
    "\n",
    "w1.listUrls()\n",
    "\n",
    "w1.getWordsFrequency() "
   ]
  },
  {
   "cell_type": "code",
   "execution_count": null,
   "metadata": {},
   "outputs": [],
   "source": [
    "'''    \n",
    "w4 = SearchEngineWithOrderedWebWords(\"http://www, http:///www\")\n",
    "for i in w4 :\n",
    "    print(i)\n",
    "''' \n"
   ]
  },
  {
   "cell_type": "markdown",
   "metadata": {},
   "source": [
    "한 학기동안 고생 많으셨고 열심히 과제해보려 노력해봤던 것 같습니다.\n",
    "고생하셨습니다"
   ]
  }
 ],
 "metadata": {
  "kernelspec": {
   "display_name": "Python 3",
   "language": "python",
   "name": "python3"
  },
  "language_info": {
   "codemirror_mode": {
    "name": "ipython",
    "version": 3
   },
   "file_extension": ".py",
   "mimetype": "text/x-python",
   "name": "python",
   "nbconvert_exporter": "python",
   "pygments_lexer": "ipython3",
   "version": "3.6.5"
  }
 },
 "nbformat": 4,
 "nbformat_minor": 2
}
