{
 "cells": [
  {
   "cell_type": "markdown",
   "metadata": {},
   "source": [
    "## 스크립트 프로그래밍\n"
   ]
  },
  {
   "cell_type": "markdown",
   "metadata": {},
   "source": [
    "### 3번째 과제"
   ]
  },
  {
   "cell_type": "markdown",
   "metadata": {},
   "source": [
    "### 2013136055 서정현"
   ]
  },
  {
   "cell_type": "code",
   "execution_count": 3,
   "metadata": {},
   "outputs": [
    {
     "name": "stdout",
     "output_type": "stream",
     "text": [
      "[1, 100, 4, 5]\n"
     ]
    }
   ],
   "source": [
    "L = [1,2,3,4,5]\n",
    "L[1:3] = [100]\n",
    "print(L)"
   ]
  },
  {
   "cell_type": "markdown",
   "metadata": {},
   "source": [
    "리스트 1, 2번째 원소에 있던 2와 3을 100으로 치환하게 된다."
   ]
  },
  {
   "cell_type": "code",
   "execution_count": 8,
   "metadata": {},
   "outputs": [
    {
     "name": "stdout",
     "output_type": "stream",
     "text": [
      "[1, 100, 4, 5]\n"
     ]
    }
   ],
   "source": [
    "L = [1,2,3,4,5]\n",
    "L[1:3] = [(100)]\n",
    "print(L)"
   ]
  },
  {
   "cell_type": "markdown",
   "metadata": {},
   "source": [
    "리스트 1, 2번째 원소에 있던 2와 3을 100으로 치환하게 된다."
   ]
  },
  {
   "cell_type": "code",
   "execution_count": 9,
   "metadata": {},
   "outputs": [
    {
     "ename": "TypeError",
     "evalue": "can only assign an iterable",
     "output_type": "error",
     "traceback": [
      "\u001b[1;31m---------------------------------------------------------------------------\u001b[0m",
      "\u001b[1;31mTypeError\u001b[0m                                 Traceback (most recent call last)",
      "\u001b[1;32m<ipython-input-9-0967d74d1459>\u001b[0m in \u001b[0;36m<module>\u001b[1;34m()\u001b[0m\n\u001b[0;32m      1\u001b[0m \u001b[0mL\u001b[0m \u001b[1;33m=\u001b[0m \u001b[1;33m[\u001b[0m\u001b[1;36m1\u001b[0m\u001b[1;33m,\u001b[0m\u001b[1;36m2\u001b[0m\u001b[1;33m,\u001b[0m\u001b[1;36m3\u001b[0m\u001b[1;33m,\u001b[0m\u001b[1;36m4\u001b[0m\u001b[1;33m,\u001b[0m\u001b[1;36m5\u001b[0m\u001b[1;33m]\u001b[0m\u001b[1;33m\u001b[0m\u001b[0m\n\u001b[1;32m----> 2\u001b[1;33m \u001b[0mL\u001b[0m\u001b[1;33m[\u001b[0m\u001b[1;36m1\u001b[0m\u001b[1;33m:\u001b[0m\u001b[1;36m3\u001b[0m\u001b[1;33m]\u001b[0m \u001b[1;33m=\u001b[0m \u001b[1;36m100\u001b[0m\u001b[1;33m\u001b[0m\u001b[0m\n\u001b[0m\u001b[0;32m      3\u001b[0m \u001b[0mprint\u001b[0m\u001b[1;33m(\u001b[0m\u001b[0mL\u001b[0m\u001b[1;33m)\u001b[0m\u001b[1;33m\u001b[0m\u001b[0m\n",
      "\u001b[1;31mTypeError\u001b[0m: can only assign an iterable"
     ]
    }
   ],
   "source": [
    "L = [1,2,3,4,5]\n",
    "L[1:3] = 100\n",
    "print(L)"
   ]
  },
  {
   "cell_type": "markdown",
   "metadata": {},
   "source": [
    "해당 값을 읽을 수 없기 때문에 오류가 발생한다. "
   ]
  },
  {
   "cell_type": "code",
   "execution_count": 10,
   "metadata": {},
   "outputs": [
    {
     "ename": "TypeError",
     "evalue": "can only assign an iterable",
     "output_type": "error",
     "traceback": [
      "\u001b[1;31m---------------------------------------------------------------------------\u001b[0m",
      "\u001b[1;31mTypeError\u001b[0m                                 Traceback (most recent call last)",
      "\u001b[1;32m<ipython-input-10-a4b659c7e649>\u001b[0m in \u001b[0;36m<module>\u001b[1;34m()\u001b[0m\n\u001b[0;32m      1\u001b[0m \u001b[0mL\u001b[0m \u001b[1;33m=\u001b[0m \u001b[1;33m[\u001b[0m\u001b[1;36m1\u001b[0m\u001b[1;33m,\u001b[0m\u001b[1;36m2\u001b[0m\u001b[1;33m,\u001b[0m\u001b[1;36m3\u001b[0m\u001b[1;33m,\u001b[0m\u001b[1;36m4\u001b[0m\u001b[1;33m,\u001b[0m\u001b[1;36m5\u001b[0m\u001b[1;33m]\u001b[0m\u001b[1;33m\u001b[0m\u001b[0m\n\u001b[1;32m----> 2\u001b[1;33m \u001b[0mL\u001b[0m\u001b[1;33m[\u001b[0m\u001b[1;36m1\u001b[0m\u001b[1;33m:\u001b[0m\u001b[1;36m3\u001b[0m\u001b[1;33m]\u001b[0m \u001b[1;33m=\u001b[0m \u001b[1;33m(\u001b[0m\u001b[1;36m100\u001b[0m\u001b[1;33m)\u001b[0m\u001b[1;33m\u001b[0m\u001b[0m\n\u001b[0m\u001b[0;32m      3\u001b[0m \u001b[0mprint\u001b[0m\u001b[1;33m(\u001b[0m\u001b[0mL\u001b[0m\u001b[1;33m)\u001b[0m\u001b[1;33m\u001b[0m\u001b[0m\n",
      "\u001b[1;31mTypeError\u001b[0m: can only assign an iterable"
     ]
    }
   ],
   "source": [
    "L = [1,2,3,4,5]\n",
    "L[1:3] = (100)\n",
    "print(L)"
   ]
  },
  {
   "cell_type": "markdown",
   "metadata": {},
   "source": [
    "해당 값을 읽을 수 없기 때문에 오류가 발생한다. "
   ]
  },
  {
   "cell_type": "code",
   "execution_count": 11,
   "metadata": {},
   "outputs": [
    {
     "name": "stdout",
     "output_type": "stream",
     "text": [
      "[1, 100, 101, 102, 4, 5]\n"
     ]
    }
   ],
   "source": [
    "L = [1,2,3,4,5]\n",
    "L[1:3] = (100, 101, 102)\n",
    "print(L)"
   ]
  },
  {
   "cell_type": "markdown",
   "metadata": {},
   "source": [
    "L이라는 리스트안에 요소로 튜플을 가질 수 있다."
   ]
  },
  {
   "cell_type": "code",
   "execution_count": 12,
   "metadata": {},
   "outputs": [
    {
     "name": "stdout",
     "output_type": "stream",
     "text": [
      "[1, 100, 101, 102, 4, 5]\n"
     ]
    }
   ],
   "source": [
    "L = [1,2,3,4,5]\n",
    "L[1:3] = [100, 101, 102]\n",
    "print(L)"
   ]
  },
  {
   "cell_type": "markdown",
   "metadata": {},
   "source": [
    "리스트안에 리스트를 요소로 가질 수 있다."
   ]
  },
  {
   "cell_type": "code",
   "execution_count": 14,
   "metadata": {},
   "outputs": [
    {
     "name": "stdout",
     "output_type": "stream",
     "text": [
      "[1, (100, 101, 102), 4, 5]\n"
     ]
    }
   ],
   "source": [
    "L = [1,2,3,4,5]\n",
    "L[1:3] = [(100, 101, 102)]\n",
    "print(L)"
   ]
  },
  {
   "cell_type": "markdown",
   "metadata": {},
   "source": [
    "리스트안에 튜플을 요소로 가지고 있는 리스트를 삽입할 수 있다."
   ]
  },
  {
   "cell_type": "code",
   "execution_count": 15,
   "metadata": {},
   "outputs": [
    {
     "name": "stdout",
     "output_type": "stream",
     "text": [
      "[1, [100, 101, 102], 4, 5]\n"
     ]
    }
   ],
   "source": [
    "L = [1,2,3,4,5]\n",
    "L[1:3] = [[100, 101, 102]]\n",
    "print(L)"
   ]
  },
  {
   "cell_type": "markdown",
   "metadata": {},
   "source": [
    "중첩리스트 즉 리스트 안에 요소로서 리스트를 지닌 리스트를 삽입할 수 있다."
   ]
  },
  {
   "cell_type": "code",
   "execution_count": 51,
   "metadata": {},
   "outputs": [
    {
     "name": "stdout",
     "output_type": "stream",
     "text": [
      "nohtyP dna dlroW olleH\n",
      "HelloWorldandPython\n"
     ]
    }
   ],
   "source": [
    "S = 'Hello World and Python'\n",
    "S = list(S) # 문자열을 리스트로 변환\n",
    "S.reverse() # 역순으로 변환\n",
    "A = \"\".join(S) # 리스트를 다시 문자열로 변환\n",
    "print(A)\n",
    "\n",
    "S.reverse() # 역순\n",
    "B = \"\".join(S) # 공백을 제거하기 위해 리스트를 문자열로 변환\n",
    "B = B.split(\" \") # 공백을 기준으로 분리\n",
    "B = \"\".join(B) # 문자열로 변환\n",
    "print(B)"
   ]
  },
  {
   "cell_type": "markdown",
   "metadata": {},
   "source": [
    "리스트에서는 split이라는 기능을 쓸 수 없기 때문에 문자열과 리스트의 변환이 여러번 이루어졌다. reverse를 이용하기 위해 문자열을 리스트로 변환하였고 split을 이용하기 위해 리스트를 문자열로 변환하여 나눠진 문자열을 join을 통해 다시 붙일 수 있었다."
   ]
  },
  {
   "cell_type": "code",
   "execution_count": 84,
   "metadata": {},
   "outputs": [
    {
     "name": "stdout",
     "output_type": "stream",
     "text": [
      "[1, 2, 3, 1, 2, 3, 1, 2, 3]\n",
      "[[1, 2, 3], [1, 2, 3], [1, 2, 3]]\n",
      "[1, 2, 3, 1, 2, 3, 1, 2, 3]\n",
      "[[0, 2, 3], [0, 2, 3], [0, 2, 3]]\n"
     ]
    }
   ],
   "source": [
    "a = [1, 2, 3]\n",
    "b = a * 3\n",
    "c = [a] * 3\n",
    "print(b)\n",
    "print(c)\n",
    "\n",
    "a[0] = 0\n",
    "print(b)\n",
    "print(c)"
   ]
  },
  {
   "cell_type": "markdown",
   "metadata": {},
   "source": [
    "b는 리스트 a의 원소들을 3번 반복한다. 결국 b는 a가 반복한 객체이다.\n",
    "c는 리스트 a 자체를 원소로 가진다. c가 가리키는 객체와 a가 가르치는 객체는 같다. "
   ]
  },
  {
   "cell_type": "code",
   "execution_count": 83,
   "metadata": {},
   "outputs": [
    {
     "name": "stdout",
     "output_type": "stream",
     "text": [
      "['first star', 'second star', 'third star']\n"
     ]
    }
   ],
   "source": [
    "s = '  first star   :   second star   :    third star  '\n",
    "l = ['first star', 'second star', 'third star']\n",
    "words = s.split(':') # ':'을 기준으로 분리하여 리스트로 만듬\n",
    "stars = [i.strip() for i in words] # 좌우 공백제거 strip()을 각 리스트 인덱스마다 for문을 이용하여 적용\n",
    "print(stars)"
   ]
  },
  {
   "cell_type": "markdown",
   "metadata": {},
   "source": [
    "':'를 기준으로 문자열을 분리한 words라는 리스트를 만듬. 리스트 내포와 좌우 공백을 없애주는  strip을 이용하여 문자열 I와 동일하게 만들었다."
   ]
  },
  {
   "cell_type": "code",
   "execution_count": 87,
   "metadata": {},
   "outputs": [
    {
     "name": "stdout",
     "output_type": "stream",
     "text": [
      "21\n",
      "9\n"
     ]
    }
   ],
   "source": [
    "def addall(lst):\n",
    "    return sum([ i for i in lst],0)\n",
    "\n",
    "def addallodd(lst):\n",
    "    return sum( [ i for i in lst if ( i % 2 == 1)],0)\n",
    "    \n",
    "lst = [1,2,3,4,5,6]\n",
    "print(addall(lst))\n",
    "print(addallodd(lst))"
   ]
  },
  {
   "cell_type": "markdown",
   "metadata": {},
   "source": [
    "내장함수인 sum을 이용하여 0부터 순서대로 리스트의 인덱스로 대입된다.\n",
    "홀수값만 들어가도록 2로나누어 나머지가 1인 수들만 대입된다."
   ]
  },
  {
   "cell_type": "code",
   "execution_count": 88,
   "metadata": {},
   "outputs": [
    {
     "name": "stdout",
     "output_type": "stream",
     "text": [
      "{'low': [1, 2, 3], 'high': [4, 5, 6]}\n",
      "{'low': [1, 2, 3], 'high': [4, 5, 6]}\n",
      "{'low': [1, 2, 3], 'high': [4, 5, 6]}\n",
      "True\n",
      "False\n",
      "\n",
      "{'low': [10, 20, 30], 'high': [4, 500, 6]}\n",
      "{'low': [10, 20, 30], 'high': [4, 500, 6]}\n",
      "{'low': [1, 2, 3], 'high': [4, 500, 6]}\n"
     ]
    }
   ],
   "source": [
    "L1 = [1, 2, 3]\n",
    "L2 = [4, 5, 6]\n",
    "d = {'low':L1, 'high':L2}\n",
    "e = d\n",
    "f = d.copy()\n",
    "print(d)\n",
    "print(e)\n",
    "print(f)\n",
    "#번외\n",
    "print ( d is e )\n",
    "print ( f is d)\n",
    "print()\n",
    "d['low'] = [10, 20, 30]\n",
    "d['high'][1] = 500\n",
    "print(d)\n",
    "print(e)\n",
    "print(f)"
   ]
  },
  {
   "cell_type": "markdown",
   "metadata": {},
   "source": [
    "e와 d는 같은 객체를 가르키는 레퍼런스라고 볼 수 있다. \n",
    "f와 d는 얕은 복사(shallow copy)이다. low를 보면 d가 가르키던 레퍼런스 자체가 바뀌고 high는 가르키던 객체의 레퍼런스는 같지만 원소만 바뀌었다. 그러므로 그대로인 high는 원본에 따라 달라진다. 레퍼런스 자체가 바뀐 경우, 얕은 복사에 의해 값이 바뀌지 않는다."
   ]
  },
  {
   "cell_type": "code",
   "execution_count": 92,
   "metadata": {},
   "outputs": [
    {
     "name": "stdout",
     "output_type": "stream",
     "text": [
      "[('five', 5), ('four', 4), ('one', 1), ('three', 3), ('two', 2)]\n",
      "[('two', 2), ('three', 3), ('one', 1), ('four', 4), ('five', 5)]\n",
      "[('one', 1), ('two', 2), ('three', 3), ('four', 4), ('five', 5)]\n",
      "[('five', 5), ('four', 4), ('three', 3), ('two', 2), ('one', 1)]\n"
     ]
    }
   ],
   "source": [
    "d = {'one':1, 'two':2, 'three':3, 'four':4, 'five':5}\n",
    "\n",
    "def cmp_by_each_element(a):\n",
    "    return a[1]\n",
    "b = [] # 빈 리스트 선언\n",
    "for (i,j) in d.items() : # 사전에 있는 각 아이템들을 튜플 형태로 리스트에 대입\n",
    "    b.append((i, j))\n",
    "print(sorted(b)) # 키의 알파벳 오름차순 순\n",
    "print(sorted(b, reverse=True)) # 키의 알파벳 내림차순 순\n",
    "print(sorted(b,key=cmp_by_each_element)) # 값의 알바펫 오름차순 순\n",
    "print(sorted(b,key=cmp_by_each_element, reverse=True)) # 값의 알파벳 내림차순 순"
   ]
  },
  {
   "cell_type": "markdown",
   "metadata": {},
   "source": [
    "빈 리스트인 b를 선언하고 사전에 있는 각 아이템들을 튜플 형태로 리스트에 대입한다.\n",
    "아무 설정을 하지 않고 sort를 하게 되면 튜플 앞의 값 순으로 정렬이 된다.\n",
    "reverse=True라는 인자를 설정하게 되면 튜플 앞의 값 역순으로 정렬이 된다.\n",
    "cmp_by_each_element라는 함수를 설정하여 key가 튜플의 두번째 인덱스가 되도록 하고 sort한다."
   ]
  },
  {
   "cell_type": "code",
   "execution_count": null,
   "metadata": {
    "scrolled": true
   },
   "outputs": [
    {
     "name": "stdout",
     "output_type": "stream",
     "text": [
      "4 3\n",
      "5\n"
     ]
    }
   ],
   "source": [
    "try :\n",
    "    while 1 :\n",
    "        n,k = map(int, input().split()) # 공백을 분리하여 두 수를 입력받음\n",
    "        chick = n # 치킨 쿠폰 n장을 통해 치킨 n마리 먹을 수 있음\n",
    "        while(n >= k) : # 쿠폰이 도장의 갯수보다 적어질 떄 까지\n",
    "            d = n%k # 도장 잔여 개수 저장\n",
    "            n = n//k # 쿠폰을 통해 충당된 도장의 개수\n",
    "            chick += n # 그만큼 치킨 개수에 추가\n",
    "            n += d \n",
    "        print(chick)\n",
    "except : exit() "
   ]
  },
  {
   "cell_type": "markdown",
   "metadata": {},
   "source": [
    "![](https://github.com/pauls012/Script-programming/blob/master/3%EB%B2%88%EC%A7%B8%20%EA%B3%BC%EC%A0%9C%20%EB%B0%B1%EC%A4%80%EB%AC%B8%EC%A0%9C.PNG?raw=true)"
   ]
  },
  {
   "cell_type": "markdown",
   "metadata": {},
   "source": [
    "한줄에 두가지의 수를 입력받아야 하기 때문에 그냥 input으로 입력을 받지않고 split을 이용하여 공백을 분리하고 두 개의 수를 입력받는다.\n",
    "치킨 쿠폰 n장이 있으면 n개의 치킨을 먹을 수 있기 때문에 먹을 수 있는 치킨의 개수를 나타내는 변수 chick에 n을 대입한다.\n",
    "그리고 치킨 쿠폰의 개수에 따라 충당되는 도장의 개수가 반복적으로 여러번 이루어질 수 있기 때문에 쿠폰이 도장의 갯수보다 적어질 때 까지\n",
    "반복문을 돌린다. d라는 변수에 도장 잔여 개수를 저장하고 n에 쿠폰을 통해 충당된 도장의 개수를 저장한다. 그만큼 치킨 갯수에 추가하도록 증감연산자를 구성한다. 이렇게 하고 런타임 오류가 발생하여 try except 구문을 이용해 오류를 예외처리하여 코드를 완성할 수 있었다."
   ]
  },
  {
   "cell_type": "code",
   "execution_count": 16,
   "metadata": {},
   "outputs": [
    {
     "name": "stdout",
     "output_type": "stream",
     "text": [
      "{'Daum': 1, 'charset': 1, 'utf8': 1, 'bodydivdldtddulollih1h2h3h4h5h6precodeformfieldsetlegendtextareapblockquotethtdinputselectbuttonmargin0padding0': 1, 'fieldsetimgborder0': 1, 'none': 5, 'dlulolmenuliliststylenone': 1, 'blockquote': 1, 'qquotes': 1, 'blockquotebefore': 1, 'blockquoteafterqbefore': 1, 'qaftercontentcontentnone': 1, 'inputselecttextareabuttonborderradius0verticalalignmiddle': 1, 'inputmscleardisplaynone': 1, 'buttonborder0': 1, 'nonebackgroundcolortransparentcursorpointer': 1, 'bodybackgroundfffdirectionltrwebkittextsizeadjustnone': 1, 'bodythtdinputselecttextareabuttonfontsize13pxlineheight15fontfamilyAppleSDGothicNeoRegularMalgun': 1, 'Gothic맑은': 1, '고딕dotum돋움sansserifcolor222letterspacing1px': 1, 'osmac': 168, 'bodyosmac': 1, 'thosmac': 1, 'tdosmac': 1, 'inputosmac': 1, 'selectosmac': 1, 'textareaosmac': 1, 'buttonletterspacing0': 1, 'acolor222textdecorationnone': 1, 'ahovercolor118efftextdecorationunderline': 1, 'aactivebackgroundcolortransparent': 1, 'addresscaptioncitecodedfnemvarfontstylenormalfontweightnormal': 1, 'irpmdisplayblockoverflowhiddenfontsize1pxlineheight0textindent9999px': 1, 'irwadisplayblockoverflowhiddenpositionrelativewidth100height100zindex1': 1, 'screenoutoverflowhiddenpositionabsolutewidth0height0lineheight0textindent9999px': 1, 'showdisplayblock': 1, 'hidedisplaynone': 1, 'dindexpositionrelativewidth100': 1, 'dindex': 7, 'shortcutgpositionabsolutetop34pxleft0height33pxpadding0': 1, '20px': 13, '0': 234, '26pxborderbottom1px': 1, 'solid': 54, '3f4243fontsize11pxlineheight14pxbackgroundcolor26292acolorfffletterspacing1pxtextaligncenter': 1, 'shortcutgactive': 2, 'shortcutgfocusoverflowhiddentop0textdecorationnonezindex101': 1, 'shortcutghovercolorfff': 1, 'shortcutg': 2, 'innershortcutdisplayinlineblockpaddingright10pxmargintop8pxbackgroundposition100': 1, '220pxverticalaligntop': 1, 'innershortcutmargintop11pxbackgroundposition100': 1, '223px': 1, 'icopctopoverflowhiddenbackgroundurlt1daumcdnnetdaumtopdecoimagestop2017icopctop180423png': 1, 'norepeat': 24, 'icovertoverflowhiddenbackgroundurlt1daumcdnnetdaumtopdecoimagestop2017icopctopvert170724png': 1, 'txtpctopoverflowhiddenbackgroundurlt1daumcdnnetdaumtopdecoimagestop2017txtpctop170915png': 1, '0letterspacing1pxwhitespacenowrap': 1, 'bgpctopbackgroundurlt1daumcdnnetdaumtopdecoimagestop2017bgpctop170328png': 1, 'numpctopoverflowhiddenbackgroundurlt1daumcdnnetdaumtopdecoimagestop2017numpctop170405png': 1, 'imgthumbdisplayblockverticalaligntop': 1, 'framegpositionabsolutetop0left0border1px': 1, '000opacity008filteralphaopacity8': 1, 'thumbgdisplayblockpositionrelative': 1, 'daumWrappositionrelativeminwidth1080px': 1, 'daumWraptransformtranslate3d0px': 1, '0px': 5, 'headdaumpositionrelativezindex100': 1, 'contmainpositionrelativewidth990pxmargin15px': 1, 'auto': 7, 'conttopicoverflowhiddenpositionrelativezindex0width100bordertop1px': 1, 'ecececbackgroundcolorfbfbfcbackgroundposition50': 1, '100backgroundrepeatnorepeat': 1, 'featuretmpdisplayinlineblockverticalaligntop': 1, 'wrapmainpaddingbottom40pxclearbothzoom1': 1, 'wrapmainafterdisplayblockvisibilityhiddenheight0fontsize0clearbothcontent': 1, 'cmaintmpfloatleftwidth655pxmarginright35px': 1, 'wingtmpfloatleftwidth300px': 1, 'footdaumbordertop1px': 1, '888': 5, 'footdaum': 26, 'innerfootoverflowhiddenpositionrelativewidth990pxmargin0': 1, 'autopadding37px': 1, '78px': 1, 'linklogofloatleft': 1, 'infonoticeoverflowhiddenpadding0': 1, '250px': 3, '30px': 28, 'titnoticefloatleftfontsize13px': 1, 'linknoticedisplayblockpaddingright9pxbackgroundposition100': 1, '169px': 1, 'linknoticehovercolor222': 1, 'listnoticeoverflowhiddenwidth542pxheight19pxpaddingleft9px': 1, 'listnotice': 10, 'linkinfodisplayblockoverflowhiddentextoverflowellipsiswhitespacenowrap': 1, 'linkinfohovercolor222': 1, 'searchfootpositionabsolutetop32pxright0': 1, 'boxsearchpositionrelativezindex1width209pxheight28pxborder1px': 1, 'c8c8c8': 1, 'searchonbordercolor0089ff': 1, 'tfkeywordfloatleftwidth164pxmargin5px': 1, '9pxborder1px': 1, 'transparentlineheight19pxoutline0': 1, 'btnsearchfloatrightwidth32pxheight28pxlineheight28pxbackgroundposition0': 1, '230pxbackgroundcolortransparent': 1, 'linksvcallpositionabsolutetop81pxright0paddingright10pxfontweightboldcolor888backgroundposition100': 1, '194px': 1, 'infopolicypadding23px': 1, 'infopolicy': 2, 'linkpolicyfontsize12pxcolor888': 1, 'txtdotpadding0': 1, '2pxfontsize12pxcolor888': 1, 'txtcopyrightdisplayblockpaddingtop6pxfontsize11pxcolor888': 1, 'txtcopyright': 1, 'linkkakaocolor888': 1, 'infonoticepadding3px': 1, '31px': 1, 'linknoticepaddingright12pxbackgroundpositiony172px': 1, 'tfkeywordmargintop4px': 1, 'linksvcalltop83pxbackgroundpositiony196px': 1, 'infopolicypaddingtop24px': 1, 'txtcopyrightpaddingtop5px': 1, 'dheadborderbottom1px': 1, 'ececec': 9, 'dhead': 1, 'innerheadpositionrelativezindex1width1080pxheight150pxmargin0': 1, 'titdaumoverflowhiddenfloatleftwidth180pxheight150pxtextaligncenter': 1, 'linkdaumoverflowhiddendisplayblockmargin28px': 1, 'linklaunchpositionabsolutetop6pxleft45pxpaddingright8pxfontsize11pxcolor888backgroundposition100': 1, '18px': 3, 'linklaunchtop9pxbackgroundposition100': 1, '21px': 1, 'wrapsearchfloatleftpositionrelativemargintop50px': 1, 'wrapsearch': 1, 'dschbackgroundcolorfff': 1, 'headdaum': 17, 'boxsearchpositionrelativeheight44pxmargin1px': 1, '1px': 5, '0border1px': 2, '0089ffborderradius1px': 1, 'boxsearch': 2, 'innersearchpositionrelativezindex10height44pxpadding0': 1, '80px': 10, '14px': 5, 'boxsearchbefore': 1, 'innersearchbefore': 1, 'boxsearchafterpositionabsoluteleft0right100height1pxcontentbackgroundcolor0089ff': 1, 'boxsearchbeforetop1px': 1, 'boxsearchafterbottom1px': 1, 'boxsearchhoverbefore': 1, 'boxsearchhoverafterright0transitionpropertyrighttransitionduration08sbackgroundlineargradientto': 1, 'right': 1, '86aaff': 1, '70bc4c': 1, 'ffbe00': 1, 'f46e85': 1, 'boxsearchhover': 1, 'innersearchbeforetop1pxbottom1pxleftautoright1pxwidth1pxheight46pxbackgroundcolorf46e85transitionpropertyheighttransitiondelay08s': 1, 'tfkeywordfloatleftwidth422pxmargintop7pxborder1px': 1, 'transparentfontsize18pxlineheight24pxbackgroundcolortransparentoutline0imemodeactivewebkitappearancenone': 1, 'btnsearchpositionabsolutetop0right0width49pxheight42pxmargin1pxlineheight44pxbackgroundposition40px': 1, '231pxbackgroundcolortransparent': 1, 'slidefavorschoverflowhiddenwidth480pxheight28px': 1, 'listfavorschoverflowhiddenpaddingtop7px': 1, 'listfavorsch': 3, 'lifloatleftpaddingright10px': 1, 'linkfavorschdisplayblockfontsize12pxcolor555': 1, 'pagepctopzindex1right1pxbottom3px': 1, 'headbnrpositionabsolutetop33pxright45px': 1, 'headbnr': 1, 'linkheadbnrdisplayblock': 1, 'boxsearchmargintop0': 1, 'tfkeywordmargintop11px': 1, 'listfavorschpaddingtop10px': 1, 'lipaddingright14px': 1, 'imgkeyboardbackgroundimageurlt1daumcdnnetdaumtopdecoimagestop2017imgkeyboard171229png': 1, 'btnkeypositionabsolutetop0right58pxwidth29pxheight42pxmargin1pxlineheight44pxbackgroundposition0': 1, 'btnkeybtnonbackgroundposition0': 1, '50px': 3, 'keyboardlayerpositionabsolutetop45pxleft382pxzindex10000': 1, 'keyboardlayer': 78, 'groupkeyboarddisplaynonepadding49px': 1, '16px': 5, '20pxwidth435pxheight166pxborder1px': 1, '888backgroundcolorfff': 4, 'groupkeyboardondisplayblock': 1, 'groupkeyboard': 47, 'titkeyboardpositionabsolutetop20pxleft20pxwidth24pxheight13pxbackgroundposition0': 1, '120px': 7, 'engbasic': 7, 'titkeyboardkeyboardlayer': 1, 'engshift': 7, 'titkeyboardbackgroundposition0': 1, '140px': 5, 'btncloseoverflowhiddenpositionabsolutetop19pxright20pxwidth13pxheight13pxbackgroundposition0': 1, '100px': 16, 'keyboardlineoverflowhiddenmargintop4px': 1, 'keyboard1ndoverflowhiddenmargin0': 1, 'keyboard2ndpaddingleft15px': 1, 'keyboard3ndpaddingleft30px': 1, 'btnkeyboardoverflowhiddenfloatleftwidth26pxheight30pxmarginright4pxtextaligncentertextindent9999px': 1, 'korbasic': 6, 'btnkeyboardbackgroundimageurlt1daumcdnnetdaumtopdecoimagestop2017imgkor171226png': 1, 'btnkeyboardhoverkeyboardlayer': 8, 'btnkeyboardactivebackgroundimageurlt1daumcdnnetdaumtopdecoimagestop2017imgkorhover171226png': 1, 'korshift': 6, 'btnkeyboardbackgroundimageurlt1daumcdnnetdaumtopdecoimagestop2017imgkorshift171229png': 1, 'btnkeyboardactivebackgroundimageurlt1daumcdnnetdaumtopdecoimagestop2017imgkorshifthover171229png': 1, 'btnkeyboardbackgroundimageurlt1daumcdnnetdaumtopdecoimagestop2017imgeng171226png': 1, 'btnkeyboardactivebackgroundimageurlt1daumcdnnetdaumtopdecoimagestop2017imgenghover180122png': 1, 'btnkeyboardbackgroundimageurlt1daumcdnnetdaumtopdecoimagestop2017imgengshift171226png': 1, 'btnkeyboardactivebackgroundimageurlt1daumcdnnetdaumtopdecoimagestop2017imgengshifthover171226png': 1, 'keyboard1backgroundposition30px': 1, 'keyboard2backgroundposition60px': 1, 'keyboard3backgroundposition90px': 1, 'keyboard4backgroundposition120px': 1, 'keyboard5backgroundposition150px': 1, 'keyboard6backgroundposition180px': 1, 'keyboard7backgroundposition210px': 1, 'keyboard8backgroundposition240px': 1, 'keyboard9backgroundposition270px': 1, 'keyboard10backgroundposition300px': 1, 'keyboard11backgroundposition330px': 1, 'keyboard12backgroundposition360px': 1, 'keyboard13backgroundposition15px': 1, '34px': 13, 'keyboard14backgroundposition45px': 1, 'keyboard15backgroundposition75px': 1, 'keyboard16backgroundposition105px': 1, 'keyboard17backgroundposition135px': 1, 'keyboard18backgroundposition165px': 1, 'keyboard19backgroundposition195px': 1, 'keyboard20backgroundposition225px': 1, 'keyboard21backgroundposition255px': 1, 'keyboard22backgroundposition285px': 1, 'keyboard23backgroundposition315px': 1, 'keyboard24backgroundposition345px': 1, 'keyboard25backgroundposition375px': 1, 'keyboard26backgroundposition30px': 1, '68px': 11, 'keyboard27backgroundposition60px': 1, 'keyboard28backgroundposition90px': 1, 'keyboard29backgroundposition120px': 1, 'keyboard30backgroundposition150px': 1, 'keyboard31backgroundposition180px': 1, 'keyboard32backgroundposition210px': 1, 'keyboard33backgroundposition240px': 1, 'keyboard34backgroundposition270px': 1, 'keyboard35backgroundposition300px': 1, 'keyboard36backgroundposition330px': 1, 'keyboard37backgroundposition75px': 1, '102px': 12, 'keyboard38backgroundposition105px': 1, 'keyboard39backgroundposition135px': 1, 'keyboard40backgroundposition165px': 1, 'keyboard41backgroundposition195px': 1, 'keyboard42backgroundposition225px': 1, 'keyboard43backgroundposition255px': 1, 'keyboard44backgroundposition285px': 1, 'keyboard45backgroundposition315px': 1, 'keyboard46backgroundposition345px': 1, 'keyboardspebkspwidth41pxbackgroundposition390px': 1, 'keyboardspeshiftwidth71pxbackgroundposition0': 1, 'keyboardspeshift2width56pxbackgroundposition375px': 1, 'keyboardspelangwidth86pxbackgroundposition0': 1, '136px': 3, 'keyboardspespacewidth251pxbackgroundposition90px': 1, 'keyboardspeenterwidth86pxbackgroundposition345px': 1, 'daumSuggestWrappositionrelativemarginright90pxclearboth': 1, 'suggestBoxpositionabsolutetop45pxleft0zindex9999width520pxpadding0backgroundnone': 1, 'baseBoxbordertop1px': 1, 'dcdcdcfontsize12pxlineheight17pxfontfamily굴림gulimsansserifbackgroundcolorfff': 1, 'baseBoxfontfamilyApple': 1, 'SD': 6, 'Gothic': 6, 'Neosansserif': 6, 'suggestBox': 96, 'listpadding7px': 1, '13pxborderleft1px': 1, 'dcdcdcborderright1px': 2, 'dcdcdccolor333backgroundcolorfff': 1, 'suggestBoxreverseType': 2, 'listpadding3px': 1, '7pxcolor333': 1, 'baseBox': 4, 'lioverflowhiddenheight26pxpadding0': 1, '16pxlineheight26pxtextalignleftcursorpointer': 1, 'li': 8, 'itemdisplayblockheight100': 1, 'itemhovertextdecorationnone': 1, 'list': 1, 'onbackgroundcolorf6f6f6': 1, 'strongfontweightnormalcolor0089ff': 1, 'lineoverflowhiddenheight1pxmargin7px': 1, '6pxpadding0fontsize1pxlineheight1pxbackgroundcolore5e5e5': 1, 'guidepadding15px': 1, '10pxcolor555': 1, 'footerpositionrelativeheight20pxpadding8px': 1, '12px': 10, '4px': 13, '7pxborder1px': 1, 'dcdcdcbordertop1px': 1, 'ecececfontsize11pxbackgroundcolorfbfbfbletterspacing1pxclearboth': 1, 'footerbordertopcolordcdcdcborderbottomcolorededed': 1, 'footer': 7, 'flfloatleft': 1, 'frfloatright': 1, 'btnclosepaddingleft12pxbackgroundposition0': 1, '939px': 1, 'bardisplaynonepadding0': 1, '2pxcolorddd': 1, 'fl': 1, 'barpadding0': 1, '2px': 12, 'offGuidedisplaynonepositionabsoluteright0bottom19pxwidth211pxheight27pxbackgroundurlsearch1daumcdnnetsearchstaticscommonpisuggestservicegif': 1, 'norepeattextindent999em': 1, 'offSuggestdisplaynone': 1, 'listpadding9px': 1, '11px': 3, 'lipadding0': 2, '17px': 2, 'acolor777': 1, 'answerborderleft1px': 1, 'dcdcdc': 1, 'answer': 1, 'spancursorpointer': 1, 'afontsize14pxcolor333fontfamily돋움dotumsansseriftextdecorationnone': 1, 'afontfamilyApple': 1, 'linedisplayblockoverflowhiddenclearboth': 1, 'blineborderbottom1px': 1, 'ededed': 1, 'suggestexactdisplayblockoverflowhiddenheight40pxpadding12px': 1, 'suggestexacthovertextdecorationnone': 1, 'eonbackgroundcolorf8f8f8textdecorationnone': 1, 'suggestexact': 56, 'txtexactoverflowhiddenfloatleftheight44pxmargintop0backgroundposition0': 1, 'txtunitfontsize14pxfontfamilyarialsansserif': 1, 'titmarginleft1pxfontweightnormalfontsize12pxlineheight18pxfontfamily굴림gulimsansserifcolor333': 1, 'contdisplayblock': 1, 'txtcontmarginright4pxfontweightboldfontsize14pxlineheight16pxfontfamily돋움dotumsansserifcolor333': 1, 'txtnum1fontsize18pxlineheight20pxfontfamilytahomasansserifcolor333': 1, 'txtnum2marginleft3pxfontsize12pxlineheight14pxfontfamily굴림gulimsansserifcolor333': 1, 'txtnum3fontsize20pxlineheight23pxfontfamilyarialsansserifcolor333': 1, 'txtnum4marginleft3pxfontsize12pxlineheight14pxfontfamily굴림gulimsansserifcolor333': 1, 'txtexact': 5, 'icosuggest2backgroundurlsearch1daumcdnnetsearchstaticscommonpiicoicosuggest20110721gif': 1, 'icocelsiusbackgroundnone': 1, 'icoarrowuppaddingleft11pxbackgroundposition0': 1, '58px': 1, 'icoarrowdownpaddingleft11pxbackgroundposition0': 1, '98px': 1, 'icoarrowequalpaddingleft11pxbackgroundposition0': 1, '75px': 1, 'txtbluecolor007aff': 1, 'txtblue2color007aff': 1, 'txtredcolore52d38': 1, 'txtred2colore52d38': 1, 'txttimefloatrightmargin25px': 1, '0fontsize11pxfontfamily돋움dotumsansserifcolora1a1a1': 1, 'icocelsiuswidth12pxheight13pxfontfamilyarialsansserifbackgroundpositionright': 1, '5px': 9, 'barfontsize14pxcolordedede': 1, 'wraptodayoverflowhiddenheight21pxpadding4px': 1, '10px': 2, '9pxlineheight21px': 1, 'wraptoday': 2, 'contfontsize14pxcolor333textdecorationnone': 1, 'contimportfontweightnormalcolorea570a': 1, 'titfontfamilyApple': 1, 'txtnum2fontfamilyApple': 1, 'txtnum4fontfamilyApple': 1, 'txttimefontfamilyApple': 1, 'icolottofloatleftwidth28pxheight28pxmargin6px': 1, '0borderradius20pxtextaligncenter': 1, 'icolotto': 1, 'txtnumdisplayinlineblockmargintop7pxfontsize14pxlineheight1fontfamilyarialsansserifcolorfffverticalaligntop': 1, 'num1backgroundcolorf6a800': 1, 'num10backgroundcolor4155cb': 1, 'num20backgroundcolorf64d61': 1, 'num30backgroundcolor585d6e': 1, 'num40backgroundcolorf6a800': 1, 'pluswidth8pxheight8pxmargin16px': 1, '8px': 10, '4pxbackgroundurlsearch1daumcdnnetsearchstaticscommonpiicoicosuggest20110721gif': 1, '40pxtextindent9999pxopacity05': 1, 'icosuggestpaddingleft59pxcolor555backgroundurlsearch1daumcdnnetsearchstaticscommonpiweathericoweathermpng': 1, 'icosuggest': 1, 'cont': 1, 'screenoutpositionstaticfontsize14pxfontfamilyarialsansseriftextindent0': 1, 'txtexactoverflowhiddenfloatleftheight44pxmargintop0': 1, 'icow00backgroundposition0': 1, '1620px': 1, 'icow01backgroundposition0': 2, 'night': 24, '60px': 18, 'icow02backgroundposition0': 2, '180px': 5, 'icow03backgroundposition0': 2, '240px': 3, '300px': 3, 'icow04backgroundposition0': 1, '360px': 2, 'icow05backgroundposition0': 2, '420px': 1, '480px': 2, 'icow06backgroundposition0': 2, '540px': 1, '600px': 1, 'icow07backgroundposition0': 1, '660px': 1, 'icow08backgroundposition0': 1, '720px': 1, 'icow09backgroundposition0': 1, '780px': 1, 'icow10backgroundposition0': 2, '840px': 1, '900px': 1, 'icow11backgroundposition0': 1, '960px': 1, 'icow12backgroundposition0': 1, '1020px': 1, 'icow13backgroundposition0': 2, '1080px': 1, '1140px': 1, 'icow14backgroundposition0': 1, '1200px': 1, 'icow15backgroundposition0': 1, '1260px': 1, 'icow16backgroundposition0': 2, '1320px': 1, '1380px': 1, 'icow17backgroundposition0': 1, '1440px': 1, 'icow18backgroundposition0': 1, '1500px': 1, 'icow19backgroundposition0': 1, '1560px': 1, 'daumSuggestWrapdisplaynone': 1, 'dserviceborderbottom1px': 1, 'dservice': 1, 'innerservicepositionrelativewidth990pxheight45pxmargin0': 1, 'menuservicefloatleftpositionrelativewidth660px': 1, 'menuservice': 1, 'linkmoreoverflowhiddenfloatleftwidth60pxheight25pxpadding10px': 1, '9pxlineheight20pxbackgroundposition0': 1, '8pxbackgroundcolortransparenttextaligncenter': 1, 'menuon': 2, 'linkmorebackgroundposition60px': 1, 'listmainsvcfloatleft': 1, 'listmainsvc': 16, 'lifloatleftheight45px': 1, 'txtpctopdisplayblockheight25pxpadding10px': 1, '0fontweightboldfontsize13pxlineheight25pxbackgroundcolortransparenttextaligncenter': 1, 'linkcafewidth30pxbackgroundposition0': 1, 'linkmailwidth36pxbackgroundposition30px': 1, 'linknewswidth37pxbackgroundposition66px': 1, 'linkmapwidth36pxbackgroundposition103px': 1, 'linkstockwidth37pxbackgroundposition139px': 1, 'linkshoppingwidth36pxbackgroundposition176px': 1, 'linkkakaotvwidth64pxbackgroundposition212px': 1, 'linkwebtoonwidth37pxbackgroundposition276px': 1, 'linkblogwidth48pxbackgroundposition313px': 1, 'linkbrunchwidth47pxbackgroundposition361px': 1, 'linkdicwidth36pxbackgroundposition408px': 1, 'linkgamewidth37pxbackgroundposition444px': 1, 'linkstarplaywidth59pxbackgroundposition481px': 1, 'linktogetherwidth59pxbackgroundposition540px': 1, 'servicelayerdisplaynonepositionabsolutetop45pxleft0width653pxborder1px': 1, 'servicelayerdisplayblock': 1, 'servicelayer': 21, 'layerbodyoverflowhiddenbackgroundurlt1daumcdnnetdaumtopdecoimagestop2017bglinegif': 1, 'repeaty': 1, 'collsvcfloatleftwidth109px': 1, 'sortserviceoverflowhiddenpadding0': 1, '15px': 5, 'sortservice': 8, 'dtmargin11px': 1, '4pxfontweightboldfontsize12px': 1, 'ddclearbothfontsize12pxlineheight22px': 1, 'titsplitfloatleftpaddingright9pxbackgroundposition100': 1, 'linksvccolor555': 1, 'linksvchovercolor118eff': 1, 'iconewdisplayinlineblockwidth11pxheight11pxmargin2px': 1, '2pxfontsize0lineheight0backgroundposition160px': 1, '80pxverticalalignmiddletextindent9999px': 1, 'sorttype2height146pxpaddingbottom0': 1, 'collsvcfstwidth108px': 1, 'collsvcfst': 1, 'sortservicepaddingleft14px': 1, 'layerfootoverflowhiddenheight32pxbordertop1px': 1, 'ecececbackgroundcolorfbfbfb': 5, 'layerfoot': 4, 'linktotalfloatleftpaddingright8pxmarginleft13pxfontsize11pxlineheight29pxcolor555backgroundposition100': 1, 'btnclosefloatrightpadding0': 1, '13pxmargin2pxfontsize11pxlineheight24pxcolor888': 1, 'sortservicepaddingbottom12px': 1, 'dtmargin14px': 1, 'titsplitbackgroundposition100': 1, '3px': 5, 'sorttype2paddingbottom0': 1, 'linktotalpaddingright10pxmarginleft14pxlineheight32pxbackgroundposition100': 1, 'btnclosepadding0': 1, '12pxlineheight28px': 1, 'todaybasefloatrightpositionrelativeheight45px': 1, 'todaybase': 5, 'compbasedisplayinlineblockverticalaligntop': 1, 'imgweatherbackgroundimageurlt1daumcdnnetdaumtopdecoimagestop2017imgweather170628pngbackgroundrepeatnorepeatfontsize0lineheight0textindent9999px': 1, 'txttemperfloatleftfontsize14pxfontfamilytahomaarialsansserifletterspacing0': 1, 'txttemperfontfamilyhelveticaarialsansserif': 1, 'infotodayfloatleftfontsize13px': 1, 'infotoday': 43, 'datetodayfloatleftheight24pxpaddingtop10pxlineheight20pxletterspacing0': 1, 'txtpartfloatleftmarginright5pxfontweightboldlineheight24px': 1, 'linkweatherfloatleftheight25pxmarginleft16pxpadding8px': 1, '12pxlineheight24pxtextalignright': 1, 'linkweatherhovercolor222textdecorationnone': 2, 'listweatherfloatleftoverflowhiddenheight25px': 1, 'listweather': 1, 'lioverflowhiddenheight25px': 1, 'datetodaylineheight26px': 1, 'txtpartlineheight30px': 1, 'linkweatherlineheight26px': 1, 'linkweather': 5, 'icomoremargintop10px': 1, 'icowsbackgroundimageurlt1daumcdnnetdaumtopdecoimagestop2017icows1801023pngbackgroundrepeatnorepeatfontsize0lineheight0textindent9999px': 1, 'icowsfloatleftwidth26pxheight26pxmargin1px': 1, '0verticalaligntop': 2, 'icowm01backgroundposition0': 2, 'icowm01backgroundposition30px': 1, 'icowm02backgroundposition60px': 1, 'icowm02backgroundposition90px': 1, 'icowm03backgroundposition120px': 1, 'icowm03backgroundposition150px': 1, 'icowm04backgroundposition180px': 1, 'icowm05backgroundposition210px': 1, 'icowm05backgroundposition240px': 1, 'icowm06backgroundposition0': 2, 'icowm06backgroundposition30px': 1, 'icowm07backgroundposition60px': 1, 'icowm08backgroundposition90px': 1, 'icowm09backgroundposition120px': 1, 'icowm10backgroundposition150px': 1, 'icowm10backgroundposition180px': 1, 'icowm11backgroundposition210px': 1, 'icowm12backgroundposition240px': 1, 'icowm13backgroundposition0': 1, 'icowm13backgroundposition30px': 1, 'icowm14backgroundposition60px': 1, 'icowm15backgroundposition90px': 1, 'icowm16backgroundposition120px': 1, 'icowm16backgroundposition150px': 1, 'icowm17backgroundposition180px': 1, 'icowm18backgroundposition210px': 1, 'icowm19backgroundposition240px': 1, 'txttempermargintop1px': 2, 'icodegreefloatleftwidth17pxheight15pxmargin7px': 1, '0fontsize12pxlineheight17pxbackgroundposition210px': 1, '270pxbackgroundcolortransparenttextaligncentertextindent0': 1, 'icomorewidth13pxheight9pxmargin9px': 1, '1pxbackgroundposition138px': 1, '292px': 2, 'todayon': 2, 'icomorebackgroundposition138px': 1, '304px': 1, 'todaylayerdisplaynonepositionabsolutetop45pxright0width298pxborder1px': 1, 'todaylayer': 78, 'icowmbackgroundimageurlt1daumcdnnetdaumtopdecoimagestop2017icowm1801023pngbackgroundrepeatnorepeatfontsize0lineheight0textindent9999px': 1, 'layerbodyoverflowhidden': 1, 'layerbodyafterpositionabsolutetop0right0width42pxheight42pxcontent': 1, 'weatherpartpositionrelativeheight135px': 1, 'btnlocatepositionabsolutetop17pxleft18pxwidth21pxheight21pxfontsize0lineheight0backgroundposition176px': 1, '246pxtextindent9999px': 1, 'btnlocateonbackgroundposition176px': 1, '286px': 1, 'linkweatherdisplayblockoverflowhiddenheight135px': 1, 'txtplacedisplayblockheight20pxmargin17px': 1, '22pxfontweightboldfontsize13pxlineheight19px': 1, 'txtplace': 1, 'txtlocaldisplayinlineblock': 1, 'icowmfloatleftwidth90pxheight90pxmarginleft22px': 1, 'icowm01backgroundposition100px': 1, 'icowm02backgroundposition200px': 1, 'icowm02backgroundposition300px': 1, 'icowm03backgroundposition400px': 1, 'icowm03backgroundposition500px': 1, 'icowm04backgroundposition600px': 1, 'icowm05backgroundposition700px': 1, 'icowm05backgroundposition800px': 1, 'icowm06backgroundposition100px': 1, 'icowm07backgroundposition200px': 1, 'icowm08backgroundposition300px': 1, 'icowm09backgroundposition400px': 1, 'icowm10backgroundposition500px': 1, 'icowm10backgroundposition600px': 1, 'icowm11backgroundposition700px': 1, 'icowm12backgroundposition800px': 1, 'icowm13backgroundposition': 2, '200px': 18, 'icowm14backgroundposition200px': 1, 'icowm15backgroundposition300px': 1, 'icowm16backgroundposition400px': 1, 'icowm16backgroundposition500px': 1, 'icowm17backgroundposition600px': 1, 'icowm18backgroundposition700px': 1, 'icowm19backgroundposition800px': 1, 'infotemperdisplayblockoverflowhiddenheight32pxmargin19px': 1, '130pxfontfamilytahomaarialsansserif': 1, 'infotemper': 13, 'imgweatherfloatleftwidth22pxheight32pxmargin0': 1, 'num0backgroundposition260px': 1, 'num1backgroundposition260px': 1, '40px': 8, 'num2backgroundposition260px': 1, 'num3backgroundposition260px': 1, 'num4backgroundposition260px': 1, '160px': 6, 'num5backgroundposition260px': 1, 'num6backgroundposition260px': 1, 'num7backgroundposition260px': 1, '280px': 3, 'num8backgroundposition260px': 1, '320px': 1, 'num9backgroundposition260px': 1, 'icominuswidth22pxheight32pxbackgroundposition260px': 1, '400px': 1, 'icodegreewidth39pxheight32pxbackgroundposition210px': 1, 'statedescdisplayblockoverflowhiddenmargin7px': 1, '130pxlineheight16px': 1, 'statedesc': 4, 'icodegreefloatleftwidth14pxheight12pxmargin3px': 1, '0backgroundposition240px': 1, '208px': 1, 'txtdescfloatleftmarginright2px': 1, 'layerfootoverflowhiddenbordertop1px': 1, 'linkstatefloatleftoverflowhiddenwidth50height39pxcolor101010textdecorationnone': 1, 'infowmoverflowhiddenheight22pxpaddingtop8pxlineheight21px': 1, 'infowm': 5, 'dtfloatleftpaddingright9px': 1, 'ddfloatleft': 2, 'imgweatherdisplayinlineblockverticalaligntop': 1, 'infodustpaddingleft18px': 1, 'icodustwidth20pxheight20pxmargintop3pxmarginright6pxbackgroundposition140px': 1, 'icoairwidth21pxheight21pxmargin1px': 1, '7px': 7, '2pxbackgroundposition140px': 1, '264px': 1, 'stategoodcolor0078ff': 1, 'statenormalcolor27aa1d': 1, 'statebadcolorfecc3d': 1, 'stateworstcolore30000': 1, 'btnclosepositionabsolutetop18pxright18pxwidth16pxheight16pxbackgroundposition0': 2, 'txtplacemargintop20pxlineheight18px': 1, 'infotempermargintop15px': 1, 'statedescmargintop10px': 1, 'icodegreemargintop1px': 1, 'infowmpaddingtop11px': 1, 'icodustmargintop0': 1, 'icoairmargintop2px': 1, 'todaylayerdisplayblock': 1, 'adverttmpfloatleftpositionrelativewidth655pxheight120pxmarginright35px': 1, 'adverttmp': 1, 'bglinepositionabsolutetop0left0zindex1width653pxheight118pxborder1px': 1, 'advertstationdisplayinlineblockpositionrelativewidth300pxheight150pxmargintop15pxfontsize0lineheight0verticalaligntop': 1, 'advertstation': 1, 'bglinepositionabsolutetop0left0zindex1width298pxheight148pxborder1px': 1, 'boxshoppingdisplayinlineblockpositionrelativewidth300pxheight1177pxmargintop15pxverticalaligntop': 1, 'boxshopping': 2, 'bgline1positionabsolutetop0left0zindex1width298pxheight775pxborder1px': 1, 'bgline2positionabsolutetop792pxleft0zindex1width298pxheight383pxborder1px': 1, 'advertsvcbnrmargintop15px': 1, 'advertsvcbnr': 2, 'linkbnrdisplayblockpositionrelativeheight60px': 1, 'framegwidth298pxheight58px': 1, 'advertbnrmargintop15px': 1, 'advertbnr': 2, 'linkbnrdisplayblockoverflowhiddenpositionrelativeheight143px': 1, 'framegwidth298pxheight141px': 1, 'wraptiercontpositionrelativezindex99width990pxmargin0': 1, 'logintmpfloatrightpositionrelativezindex0width300pxheight120pxletterspacing1px': 1, 'loginmyzindex10backgroundurlt1daumcdnnetdaumtopdecoimagestop2017bgpctop170328png': 1, 'loginmy': 22, 'wrapmywidth285pxheight45pxpadding15px': 1, 'infomyfloatleftpadding1px': 1, 'relmyfloatrightpaddingright15px': 1, 'nameuserfloatleftmarginright4pxfontweightbold': 1, 'linkmyinfofloatleftfontsize11pxmargin2px': 1, '0lineheight14pxcolor555textdecorationunderline': 1, 'linkssopositionabsolutetop41pxleft15pxwidth68pxheight22pxfontsize11pxlineheight22pxbackgroundposition100px': 1, '235pxwhitespacenowrap': 2, 'linkssoingbackgroundposition100px': 1, '205px': 1, 'linkssohelppositionabsolutetop41pxleft85pxwidth6pxheight22pxpadding0': 1, '6pxfontsize12pxlineheight22pxbackgroundposition180px': 1, 'layerssopositionabsolutetop77pxleft0zindex11width298pxheight82pxborder1px': 1, '118effbackgroundcolorfff': 1, 'layersso': 4, 'boxhelpdisplaytablewidth100height100': 1, 'txthelpdisplaytablecellpadding0': 1, '2pxfontsize12pxlineheight16pxcolor555verticalalignmiddle': 1, 'btnclosepositionabsolutetop5pxright5pxwidth21pxheight21pxpadding0': 1, '6pxbackgroundposition210px': 1, '235px': 1, 'linkempathyfloatleftmargin5px': 1, '0fontsize11pxlineheight14pxcolor5b6473': 1, 'btnlogoutfloatleftwidth56pxheight24pxfontsize11pxlineheight24pxbackgroundposition180px': 1, '30pxbackgroundcolortransparent': 1, 'listbasisoverflowhiddenpositionabsolutetop43pxright9pxheight30pxletterspacing012em': 1, 'listbasis': 6, 'lifloatleftpaddingright8pxlineheight15px': 1, 'linkbasisfloatleftfontsize12pxcolor555': 1, 'numbasismarginleft3pxcolor118eff': 1, 'nummsgwidth30px': 1, 'linknumfontweightboldcolor118eff': 1, 'mymileage': 1, 'linkbasismarginright8px': 1, 'wrapmysvcpositionrelativezindex10width300px': 1, 'mysvclistpositionrelativewidth300pxheight43px': 1, 'listmysvcdisplayinlineblockpositionrelativewidth300pxheight43pxverticalaligntopletterspacing1px': 1, 'listmysvc': 13, 'lipositionrelativefloatleftwidth100pxheight43px': 1, 'linkmysvcdisplayblockoverflowhiddenheight31pxpaddingtop12pxfontsize12pxlineheight18pxtextaligncentercolor555': 1, 'linkmysvchovertextdecorationnone': 1, 'cafeg': 5, 'linkmysvcheight30pxpaddingtop13pxlineheight16px': 1, 'txtmysvcdisplayinlineblockheight26pxcolor555verticalaligntop': 1, 'txtmysvcpaddingleft24pxbackgroundposition0': 1, 'stockg': 1, 'txtmysvcpaddingleft27pxbackgroundposition0': 1, '109px': 1, 'blogg': 1, 'txtmysvcpaddingleft29pxbackgroundposition0': 1, '139px': 1, 'iconewdisplaynonewidth11pxheight11pxmargin5px': 1, '4pxbackgroundposition160px': 1, '80pxtextindent9999pxverticalaligntop': 1, 'newg': 1, 'iconewdisplayinlineblock': 1, 'iconewmargintop4px': 2, 'mycafeonbackgroundurlt1daumcdnnetdaumtopdecoimagestop2017bgpctop170328png': 1, '310px': 15, 'mystockonbackgroundurlt1daumcdnnetdaumtopdecoimagestop2017bgpctop170328png': 1, 'myblogonbackgroundurlt1daumcdnnetdaumtopdecoimagestop2017bgpctop170328png': 1, 'layermycontpositionabsolutetop120pxleft0width300pxheight353pxbackgroundposition0': 1, '130px': 11, 'layermycont': 2, 'btnclosepositionabsolutetop320pxright0width46pxheight32pxpadding3px': 1, '4pxfontsize11pxlineheight18pxcolor888': 1, 'txthelppaddingtop2pxpaddingbottom0': 1, 'logintmpletterspacing0': 1, 'infomypaddingtop4px': 1, 'nameusermarginright7px': 1, 'linkprivacymargintop0': 1, 'listbasistop45pxright6pxletterspacing0': 1, 'lipaddingright9px': 1, 'linkmysvclineheight21px': 1, 'linkmysvclineheight20px': 1, 'iconewmargintop3px': 1, 'btnclosepaddingtop5px': 1, 'panelblocpositionrelativepaddingtop61px': 1, 'tittabcontpositionabsolutetop15pxfontsize16px': 1, 'tittabcont': 1, 'linktitdisplayblockheight36pxlineheight36pxbackgroundcolortransparenttextaligncenter': 1, 'wraptabcontdisplaynonewidth655px': 1, 'icoviewoverflowhiddenpositionabsoluteright8pxbottom8pxwidth23pxheight23pxbackgroundposition40px': 1, '0textindent9999pxcursorpointer': 3, 'icovideooverflowhiddenpositionabsoluteright8pxbottom8pxwidth23pxheight23pxbackgroundposition70px': 1, 'icoliveoverflowhiddenpositionabsoluteright8pxbottom8pxwidth23pxheight23pxbackgroundposition130px': 1, 'colorg1colore30000': 1, 'colorg2color118eff': 1, 'icolabeloverflowhiddenpositionabsolutetop15pxleft15pxheight22pxpadding0': 1, '8pxfontsize11pxlineheight19pxcolorfffbackgroundcolor118eff': 1, 'icolabel2overflowhiddenpositionabsolutetop0left0height20pxpadding0': 1, '7pxfontsize11pxlineheight17pxcolorfffbackgroundcolorrgba00006filterprogidDXImageTransformMicrosoftgradientstartColorstr99000000endColorstr99000000GradientType0': 1, 'icolabel3overflowhiddenpositionabsolutetop15pxleft15pxheight22pxpadding0': 1, '8pxfontsize11pxlineheight19pxcolorfffbackgroundcolore8493d': 1, 'icolabelosmac': 1, 'icolabel3lineheight23px': 1, 'icolabel2lineheight21px': 1, 'taglivewidth30pxheight15pxbackgroundposition120px': 1, '70px': 3, 'tagnewwidth31pxheight15pxbackgroundposition120px': 1, '90px': 4, 'tageventwidth40pxheight15pxbackgroundposition120px': 1, '110px': 4, 'tagissuewidth37pxheight15pxbackgroundposition120px': 1, 'taghotwidth28pxheight15pxbackgroundposition208px': 1, '260px': 3, 'taglive2width33pxheight17pxbackgroundposition120px': 1, 'tagnew2width34pxheight17pxbackgroundposition120px': 1, 'tagevent2width45pxheight17pxbackgroundposition160px': 1, 'tagissue2width41pxheight17pxbackgroundposition160px': 1, 'icoadpositionabsoluteright10pxbottom10pxwidth25pxheight16pxfontsize0lineheight0backgroundposition0': 1, '40pxtextindent9999px': 1, 'pagepctoppositionabsolutewidthautoheight16px': 1, 'pagepctop': 13, 'btnpagefloatleftwidth16pxheight16pxlineheight16pxbackgroundcolortransparentbackgroundposition210px': 1, 'btnnextwidth15pxbackgroundposition226px': 2, 'infopagefloatleftpadding2px': 1, '0fontsize12pxlineheight16pxcolor555fontfamilytahomaarialsansserif': 1, 'infopage': 1, 'txtslashpadding0': 1, 'infopagelineheight16pxfontfamilyhelveticaarialsansserif': 1, 'pagebtypetop20pxright0height26px': 1, 'pagebtype': 4, 'btnpagewidth26pxheight26pxlineheight26pxbackgroundposition110px': 1, '170pxtextindent10px': 1, 'btnnextwidth25pxbackgroundposition136px': 1, '170px': 4, 'infopagepaddingtop1pxpaddingright8pxfontsize14pxlineheight22px': 1, 'infopagelineheight24px': 1, 'pagetabcontpositionabsolutezindex1top16pxleft30pxcursorpointer': 1, 'pagetabcont': 2, 'btnpageoverflowhiddenfloatleftwidth7pxheight7pxmargin9px': 1, '0fontsize10pxlineheight7pxbackgroundposition100px': 1, '170pxbackgroundcolortransparent': 1, 'onpositionrelativebackgroundposition100px': 1, '177px': 1, 'listthumboverflowhidden': 1, 'listthumb': 12, 'lifloatleftwidth154pxheight146pxmarginleft13px': 1, 'fstmarginleft0': 2, 'linkitemdisplayblock': 1, 'thumbgwidth154pxheight94px': 2, 'framegwidth152pxheight92px': 3, 'contitempadding4px': 2, 'tititemdisplayblockoverflowhiddenmaxheight36pxpaddingright12pxfontweightnormallineheight18pxwordbreakkeepallwordwrapbreakword': 2, 'contitempaddingtop6px': 3, 'tititempaddingright14px': 3, 'listtxtfloatleft': 1, 'listtxt': 13, 'lioverflowhiddenheight20pxpadding4px': 1, '2pxwhitespacenowraptextoverflowellipsis': 1, 'icopctopdisplayinlineblockmargin3px': 1, '0textindent9999pxverticalaligntop': 4, 'splittxtpaddingleft10pxmarginleft10pxcolor888backgroundurlt1daumcdnnetdaumtopdecoimagestop2017icopctopvert170724png': 1, '46px': 1, 'splittxthovercolor118eff': 1, 'partmidpaddingtop18pxlineheight16px': 1, 'splitpartdisplayinlineblockoverflowhiddenverticalaligntop': 1, 'splitpart': 3, 'linktxtmarginright3px': 1, 'splitfstfloatleftoverflowhiddenmaxwidth222pxtextoverflowellipsis': 1, 'lilineheight20px': 1, 'splittxtbackgroundposition0': 1, '49px': 1, 'partmidlineheight22px': 1, 'splitpartletterspacing003em': 1, 'linktxtmarginright7px': 1, 'liststxtmargintop7px': 1, 'liststxt': 2, 'lioverflowhiddenpaddingbottom4pxlineheight19pxwhitespacenowraptextoverflowellipsis': 1, 'txtmarkfontsize12pxcolor888': 2, 'linksectordisplayblockpositionrelativezindex0width321pxheight131px': 1, 'linksector': 11, 'framegwidth319pxheight129px': 1, 'contitempositionabsoluteright0left0bottom0width100height100pxbackgroundurlt1daumcdnnetdaumtopdecoimagestop2017bgplate2png': 1, '100': 7, 'tititemoverflowhiddenpositionabsoluteleft0bottom13pxright0padding0': 1, '15pxfontweightnormalfontsize14pxlineheight20pxcolorfff': 1, 'icolabel': 1, 'icolabel2': 1, 'icolabel3': 1, 'icopctopzindex1': 1, 'tititembottom10px': 2, 'listranking': 24, 'liheight20pxpaddingbottom5px': 1, 'linkrankingdisplayblockoverflowhiddenlineheight18px': 1, 'txtrankingoverflowhiddenfloatleftwidth288pxwhitespacenowraptextoverflowellipsis': 1, 'linkrankinghover': 2, 'txtrankingtextdecorationunderline': 1, 'numpctopfloatleftwidth16pxheight16pxmargin3px': 2, 'num1backgroundposition0': 3, 'num2backgroundposition0': 3, 'num3backgroundposition0': 3, 'num4backgroundposition0': 2, 'num5backgroundposition0': 2, 'num6backgroundposition0': 1, 'num7backgroundposition0': 1, 'num8backgroundposition0': 1, 'num9backgroundposition0': 1, 'num10backgroundposition0': 1, 'numpctopmargintop0': 3, 'lilineheight22px': 1, 'boxstoryoverflowhiddenborder1px': 1, 'ecececbackgroundcolorfbfbfc': 2, 'boxstory': 5, 'titsubjectoverflowhiddenmargintop7pxfontsize13px': 1, 'titsubject': 2, 'linktitfloatleftpaddingright9pxbackgroundposition100': 1, 'titsubjectmargintop10px': 1, 'linktitbackgroundposition100': 1, 'liststxtmargintop10px': 1, 'sectionmediapositionrelative': 1, 'sectionmedia': 5, 'pagebtypetop15px': 1, 'panelblocpadding57px': 1, '25px': 1, 'tittabconttop11pxleft0': 1, 'panelbloc': 48, 'titnewsleft5px': 1, 'titentertainleft55px': 1, 'titsportsleft94px': 1, 'titmovieleft147px': 1, 'titautoleft186px': 1, 'titrealestateleft240px': 1, 'titnews': 2, 'linktitwidth36pxbackgroundposition0': 2, 'titentertain': 2, 'linktitwidth36pxbackgroundposition36px': 1, 'titsports': 2, 'linktitwidth50pxbackgroundposition72px': 1, 'titmovie': 2, 'linktitwidth36pxbackgroundposition122px': 1, 'titauto': 2, 'linktitwidth51pxbackgroundposition158px': 1, 'titrealestate': 2, 'linktitwidth48pxbackgroundposition209px': 1, 'newson': 2, 'linktitbackgroundposition0': 3, '166px': 14, 'entertainon': 2, 'linktitbackgroundposition36px': 2, 'sportson': 2, 'linktitbackgroundposition72px': 1, 'movieon': 2, 'linktitbackgroundposition122px': 1, 'autoon': 2, 'linktitbackgroundposition158px': 1, 'realestateon': 2, 'linktitbackgroundposition209px': 1, 'wrapnews': 8, 'wrapentertain': 1, 'wrapsports': 1, 'wrapmovie': 1, 'wrapauto': 1, 'wraprealestatedisplayblock': 1, 'infospecialoverflowhidden': 1, 'infospecial': 5, 'icopctopfloatleftmargin3px': 1, '0textindent9999px': 3, 'linkspecialdisplayblockoverflowhiddenheight20pxfontweightboldfontsize13pxlineheight18pxcolor222letterspacing1px': 1, 'linkspecialhovercolor118eff': 1, 'icopctopmarginright6px': 1, 'linkspeciallineheight24pxletterspacing0': 1, 'infospecialpositionabsolutetop17pxright99pxmaxwidth250px': 1, 'wraptabcontheight480px': 1, 'groupnewsdisplayinlineblockheight292pxverticalaligntop': 1, 'newsprimeheight438px': 1, 'newsprime': 2, 'listtxtwidth316pxpaddingleft4px': 1, 'tititemwordbreaknormal': 1, 'boxsectoroverflowhiddenfloatleftwidth321pxmarginright13px': 1, 'boxsector': 4, 'listthumbwidth334pxmarginleft13px': 1, 'linksectormarginbottom15px': 1, 'newsflowoverflowhiddenpositionrelativeheight40pxborder1px': 1, 'ecececlineheight35pxbackgroundcolorfbfbfb': 1, 'unithomefloatleftpaddingleft12px': 1, 'unithome': 7, 'tithomefloatleftmarginright10px': 1, 'tithome': 2, 'linkhomepaddingright7pxbackgroundposition100': 1, '6px': 4, 'listhomefloatleft': 1, 'listhome': 2, 'lifloatleftpadding0': 1, 'linkhomecolor555': 1, 'linkhomehovercolor118eff': 1, 'unitlivefloatleftpaddingleft25px': 1, 'unitlive': 3, 'icopctopfloatleftmargin12px': 1, 'linklivemarginright5pxcolor555': 1, 'linklivehovercolor118eff': 1, 'newsflow': 1, 'linkhashpadding0': 1, '7pxcolor118eff': 1, 'newsflowlineheight40px': 1, 'linkhomepaddingright9pxbackgroundposition100': 1, 'boxissuefloatleftpositionrelativemarginright13px': 1, 'boxissue': 8, 'linkissuedisplayblockoverflowhiddenpositionrelativewidth321pxheight277px': 1, 'covergpositionabsoluteleft0bottom0width100height132pxbackgroundurlt1daumcdnnetdaumtopdecoimagestop2017bgplate8png': 1, 'framegwidth319pxheight275px': 1, 'icolabelheight27pxfontsize14pxlineheight25pxbackgroundcolorrgba171422559': 1, 'contitemoverflowhiddenpositionabsoluteright0bottom14pxleft0': 1, 'contitem': 5, 'tititemdisplayblockoverflowhiddenmaxheight44pxpadding0': 1, '16pxfontweightnormalfontsize16pxlineheight22pxcolorfff': 1, 'icolabellineheight29px': 1, 'contitembottom10px': 1, 'specialissue': 7, 'titissueoverflowhiddenpositionabsolutetop25pxleft21pxmaxheight60pxpaddingright20pxfontsize22pxcolorfff': 1, 'contitembottom12px': 1, 'listitempadding0': 1, 'listitem': 4, 'lioverflowhiddenmargintop3pxfontsize14px': 1, 'fstfontsize16pxlineheight26px': 1, 'linkitemdisplayblockoverflowhiddencolorfffwhitespacenowraptextoverflowellipsis': 1, 'fstlineheight23px': 1, 'newsprimefloatleftwidth501pxheight438px': 1, 'newsflowclearboth': 1, 'boxsectorwidth154px': 1, 'listthumbwidthautomarginleft0': 1, 'lifloatnonemarginleft0': 1, 'linksectorwidth154pxheight277pxmarginbottom0': 1, 'framegwidth152pxheight275px': 1, 'rankingnewsoverflowhiddenpositionrelativeheight148pxpadding0': 1, '148px': 1, 'ranknewstitpositionabsolutetop3pxleft0width148px': 1, 'ranknewstit': 2, 'titrankingfloatleftlineheight17pxcolor118eff': 1, 'linktitcolor118eff': 1, 'helppartdisplayinlinefloatleftmargin3px': 1, 'helppart': 1, 'linkhelpdisplayblockwidth31pxheight15pxfontsize11pxbackgroundcolortransparentbackgroundposition0': 1, '265px': 2, 'helplayeroverflowhiddenpositionabsolutetop27pxleft0width126pxheight48pxborder1px': 1, '888backgroundcolorfbfbfb': 1, 'helplayer': 2, 'txthelppadding8px': 1, '13px': 8, '13pxfontsize11pxlineheight15pxcolor888': 1, 'btnclosepositionabsolutetop8pxright8pxwidth16pxheight16pxbackgroundposition0': 1, 'rankingnews': 2, 'listrankingmargintop3px': 1, 'tabrankingpositionabsolutetop30pxleft0width64px': 1, 'tabranking': 6, 'limarginbottom3px': 2, 'linktabdisplayinlineblockoverflowhiddenfontweightboldlineheight16pxcolor888': 1, 'on': 12, 'linktabcolor222textdecorationunderline': 1, 'icopctopfloatleftwidth6pxheight6pxmargin6px': 1, '0backgroundposition100px': 1, '190px': 1, 'contrankingdisplaynoneoverflowhidden': 1, 'contrankingondisplayblock': 1, 'helppartmargintop0': 1, 'helplayertop25px': 1, 'ranknewstittop6px': 1, 'listrankingmargintop5px': 1, 'tabrankingtop33px': 1, 'limarginbottom1px': 1, 'icopctopmargintop4px': 1, 'castsportspositionrelativewidth321pxmarginbottom15px': 1, 'castsports': 8, 'headcastheight35pxborder1px': 1, 'titcastmargin6px': 1, '11pxfontsize13px': 1, 'pagepctoptop11pxright14pxbottomauto': 1, 'btnpagewidth16pxheight16pxlineheight16pxbackgroundposition210px': 1, 'linkmorepositionabsolutetop9pxright13pxpaddingright7pxfontsize11pxcolor888backgroundposition100': 1, 'listrelayborder1px': 1, 'ecececbordertop0': 1, 'listrelay': 33, 'lioverflowhidden': 1, 'linkrelayhovercolor222textdecorationnone': 1, 'txtteamoverflowhiddenfontsize12pxlineheight26pxwhitespacenowraptextoverflowellipsis': 1, 'txttimefloatleftfontsize11pxfontfamilytahomaarialsansserifletterspacing0': 1, 'txtleaguefloatleftpaddingleft3pxfontsize11pxcolor888': 1, 'txtscore': 13, 'innerscoredisplayinlineblockverticalaligntop': 1, 'numpctopfloatleftwidth11pxheight16pxbackgroundcolortransparent': 1, 'num0backgroundposition60px': 1, 'num1backgroundposition60px': 1, 'num2backgroundposition60px': 1, 'num3backgroundposition60px': 1, 'num4backgroundposition60px': 1, 'num5backgroundposition60px': 1, 'num6backgroundposition60px': 1, 'num7backgroundposition60px': 1, 'num8backgroundposition60px': 1, 'num9backgroundposition60px': 1, 'numnonebackgroundposition60px': 1, 'tagcastwidth56pxheight15pxfontsize11pxbackgroundcolortransparenttextaligncenter': 1, 'cast1backgroundposition0': 1, 'cast2backgroundposition0': 1, 'cast3backgroundposition0': 1, 'cast4backgroundposition0': 1, 'cast5backgroundposition0': 1, '150px': 5, 'cast6backgroundposition60px': 1, 'cast7backgroundposition60px': 1, 'cast8backgroundposition60px': 1, 'cast9backgroundposition60px': 1, 'titcastmargin9px': 1, 'linkmoretop11pxbackgroundposition100': 1, 'txttimefontfamilyhelveticaarialsansserif': 1, 'relaygeneralheight93px': 1, 'relaygeneral': 9, 'linkrelayoverflowhiddenfloatleftpositionrelativewidth147pxheight84pxpadding9px': 1, '11pxborderleft1px': 1, 'f5f5f5': 2, 'linkrelayfstwidth146pxpaddingleft12pxborderleft0': 1, 'eventteamoverflowhiddenpositionabsoluteleft11pxtop57pxright0height25px': 1, 'eventteamfstleft11pxtop30px': 1, 'eventteam': 6, 'imgthumbfloatleft': 1, 'txtteamfloatleftwidth69pxlineheight22pxmargin0': 1, 'txtscorefloatleftwidth33pxmargintop5pxtextalignright': 1, 'tagcastfloatrightmargin1px': 1, 'relayspecial': 14, 'linkrelaydisplayblockoverflowhiddenpositionrelativeheight47pxbordertop1px': 1, 'linkrelayfstbordertop0': 1, 'eventteamoverflowhiddenpositionabsoluteleft159pxtop0width52pxheight47pxpaddingleft107px': 1, 'imgthumbpositionabsolutetop10pxright53px': 1, 'txtteamfloatleftwidth45pxmargin8px': 1, 'txtscorepositionabsolutetop15pxleft38pxwidth33pxtextaligncenter': 1, 'eventteamfstleft0width53pxpadding0': 1, '106px': 1, 'eventteamfst': 3, 'txtscoreleft89px': 1, 'imgthumbleft53pxrightauto': 1, 'txtteamtextalignright': 1, 'txttimedisplayblockfloatnonemargintop3pxtextaligncenter': 1, 'tagcastdisplayblockmargin2px': 1, 'linkviewwidth158pxheight66pxpadding27px': 1, '0fontsize12pxcolor888textaligncenter': 1, 'linkviewhovercolor888textdecorationnone': 1, 'linkview': 1, 'txtviewdisplayblockcolor118efftextdecorationunderline': 1, 'txtteamlineheight27px': 1, 'txtteammargintop12px': 1, 'txttimemargintop5px': 1, 'linkviewheight63pxpaddingtop30px': 1, 'boxspecialoverflowhiddenpositionrelativezindex0width641pxheight93pxmarginbottom15pxpadding36px': 1, '12pxborder1px': 1, 'boxspecial': 14, 'titspecialpositionabsolutetop7pxleft12pxfontsize13px': 1, 'linkspecialmarginright3px': 1, 'linkspecial2color888': 1, 'packslideoverflowhidden': 1, 'pagepctoptop8pxright12pxheight19px': 1, 'btnpagewidth19pxheight19pxlineheight19pxbackgroundposition40px': 1, 'btnnextwidth18pxbackgroundposition59px': 1, 'infopagecolor888': 1, 'numindexfontweightnormal': 1, 'linkbannerfloatleftpositionrelativewidth308pxheight80pxmarginleft5px': 1, 'linkbanner': 1, 'framegwidth306pxheight78px': 1, 'bannerwidewidth419pxheight80pxmarginleft11px': 1, 'bannerwide': 1, 'framegwidth417pxheight78px': 1, 'listspecialfloatleft': 1, 'listspecial': 8, 'lifloatleft': 2, 'linkthumbfloatleftpositionrelative': 1, 'linkthumb': 27, 'framegwidth54pxheight78px': 1, 'numgpositionabsolutetop0left0width16pxheight16pxfontsize11pxlineheight16pxcolorffffontfamilytahomaarialsansseriftextaligncenter': 1, 'continfooverflowhiddenwordbreakkeepall': 1, 'titinfodisplayblockoverflowhiddenmaxheight33pxfontweightnormalfontsize13pxlineheight17pxwordbreakbreakall': 1, 'txtinfodisplayblockoverflowhiddenfontsize12pxlineheight16pxcolor888whitespacenowraptextoverflowellipsis': 1, 'listmovie1': 9, 'liwidth146pxpaddingright12px': 2, 'numgbackgroundposition20px': 2, 'numpointbackgroundposition0': 2, 'continfopositionrelativepadding36px': 1, '9px': 2, 'titinfopositionabsolutetop0left9px': 1, 'txtinfofloatleftwidth100letterspacing0': 1, 'gradestardisplayblockoverflowhiddenpositionrelativewidth62pxheight12pxbackgroundposition40px': 1, 'innerstarpositionabsolutetop0left0widthautoheight12pxfontsize0lineheight0backgroundposition40px': 1, '50pxtextindent9999px': 1, 'listmovie2': 6, 'continfopadding0': 1, 'titinfomargin2px': 1, 'txtinfomaxheight31pxwhitespacenormal': 1, 'listmovie3': 10, 'limarginleft10px': 1, 'lifstmarginleft0': 2, 'linkthumbwidth203pxheight80px': 1, 'framegwidth201pxheight78px': 1, 'icoplaypositionabsoluteright10pxbottom10pxwidth22pxheight22pxfontsize0lineheight0backgroundposition100px': 1, 'continfopositionabsolutetop38pxleft0width152pxpadding0': 1, '10pxcolorfff': 1, 'txtinfocolorfff': 1, 'titinfodisplayinline': 1, 'txtruntimedisplayblockoverflowhiddenfontsize11pxlineheight13pxfontfamilytahomaarialsansserifwhitespacenowraptextoverflowellipsisletterspacing0': 1, 'listauto': 8, 'liwidth199pxpaddingleft10pxborderleft1px': 1, 'lifstpaddingleft0borderleft0': 1, 'linkthumbwidth120pxheight80px': 1, 'continfopadding13px': 1, 'titinfomarginbottom2px': 1, 'listrealestate': 8, 'liwidth203pxmarginleft8px': 1, 'linkthumbwidth110pxheight80px': 1, 'framegwidth108pxheight78px': 1, 'continfopaddingleft8px': 1, 'titinfomargintop2pxmarginbottom4px': 1, 'txtinfomargintop2pxlineheight14px': 1, 'titspecialtop10px': 1, 'numgfontfamilyhelveticaarialsansserif': 1, 'gradestarmarginbottom3px': 1, 'continfopaddingtop1px': 1, 'titinfomargintop0': 1, 'txtruntimemarginbottom2pxfontfamilyhelveticaarialsansserif': 1, 'continfopaddingtop16px': 1, 'titinfomargintop1pxlineheight16px': 1, 'listhotissueoverflowhiddenpositionrelativewidth180pxheight280px': 1, 'listhotissue': 33, 'lioverflowhiddenpositionrelativewidth100height20pxmarginbottom8px': 1, 'rolltxtpositionrelative': 1, 'rankcontoverflowhiddenpositionrelativeheight20px': 1, 'numpctopfloatleftwidth16pxheight16pxmargintop1pxfontsize12pxlineheight17pxfontfamilytahomaarialsansserifbackgroundcolortransparenttextaligncenter': 1, 'rank1backgroundposition20px': 1, 'rank2backgroundposition0': 1, 'rank3backgroundposition0': 1, 'rank4backgroundposition0': 1, 'rank5backgroundposition0': 1, 'rank6backgroundposition0': 1, 'rank7backgroundposition0': 1, 'rank8backgroundposition0': 1, 'rank9backgroundposition0': 1, 'rank10backgroundposition0': 1, 'txtissueoverflowhiddenfloatleftwidth119pxpaddingleft6pxlineheight15px': 1, 'linkissuedisplayblockoverflowhiddenpaddingbottom1pxwhitespacenowraptextoverflowellipsis': 1, 'rankresultfloatrightmargin1px': 1, '0fontweightnormalfontsize13pxlineheight14pxcolor888fontfamilytahomaarialsansserifbackgroundcolortransparentletterspacing005em': 1, 'rankresult': 1, 'icopctopdisplayinlineblockbackgroundcolortransparentverticalaligntop': 1, 'icoupwidth11pxheight14pxmarginright3pxbackgroundposition120px': 1, 'icodownwidth11pxheight14pxmarginright3pxbackgroundposition140px': 1, 'icosteadywidth11pxheight6pxmargin5px': 1, '0lineheight10pxbackgroundposition160px': 1, 'iconewwidth27pxheight12pxmargin2px': 1, '0backgroundposition120px': 1, 'txtissuelineheight20px': 1, 'rankresultlineheight16pxfontfamilyhelveticasansserif': 1, 'hotissuepositionabsolutetop19pxright90pxzindex1': 1, 'hotissueminioverflowhiddenpositionrelativewidth161pxheight20pxbackgroundcolorfff': 1, 'hotissuemini': 17, 'listhotissuewidth117px': 1, 'txtissuewidth95px': 1, 'txtrealtimefloatleftwidth44pxheight18pxlineheight18pxbackgroundposition325px': 1, '80pxbackgroundcolortransparenttextaligncenter': 1, 'rank2backgroundposition20px': 1, 'rank3backgroundposition20px': 1, 'rank4backgroundposition20px': 1, 'rank5backgroundposition20px': 1, 'rank6backgroundposition20px': 1, 'rank7backgroundposition20px': 1, 'rank8backgroundposition20px': 1, 'rank9backgroundposition20px': 1, 'rank10backgroundposition20px': 1, 'hotissuelayerdisplaynonepositionabsolutetop38pxright90pxwidth198pxheight384pxpaddingleft20pxborder1px': 1, 'hotissuelayer': 4, 'tithotissuepositionstaticwidth104pxheight34pxmargin10px': 1, '0fontsize13pxlineheight34pxbackgroundposition210px': 1, '80pxbackgroundcolortransparenttextindent0': 1, 'txtstandarddisplayblockpositionstaticwidthautoheightautomargintop5pxfontsize12pxlineheight14pxcolor888textindent0letterspacing0': 1, 'txtstandardmargintop8px': 1, 'issueopen': 1, 'hotissuelayerdisplayblock': 1, 'hotissuebuiltinpositionabsolutetop57pxright0width153pxheight424pxborderleft1px': 1, 'realtimepartheight292pxmarginleft14px': 1, 'realtimepart': 5, 'tithotissuepadding2px': 1, '6pxfontsize13pxcolor118eff': 1, 'listhotissuewidth138pxheight240px': 1, 'liwidth138pxmarginbottom4px': 1, 'txtissuewidth114px': 1, 'tithotissuepadding5px': 1, 'stockpartheight102pxmarginleft15px': 1, 'stockpart': 11, 'linkstockdisplayblockheight40pxmarginbottom8px': 1, 'linkstockhovercolor222textdecorationnone': 1, 'titstockdisplayblockmarginbottom1pxfontweightboldfontsize13pxlineheight15px': 1, 'numstockfontweightnormalfontsize14pxfontfamilytahomaarialsansserifletterspacing003em': 1, 'numstatuspaddingleft3pxfontsize12pxletterspacing0': 1, 'numstatus': 4, 'icoarrowdisplayinlineblockwidth9pxheight10pxmargin8px': 1, '0fontsize0lineheight0textindent9999pxverticalaligntop': 1, 'stockup': 2, 'numstatuscolore30000': 1, 'stockdown': 2, 'numstatuscolor118eff': 1, 'icoarrowbackgroundposition120px': 1, 'icoarrowbackgroundposition130px': 1, 'stockstay': 1, 'icoarrowbackgroundposition140px': 1, 'relpartoverflowhiddenwidth136pxheight28pxmarginleft14pxborder1px': 1, 'relpart': 3, 'itemreldisplayblockwidth139pxheight28px': 1, 'linkrelfloatleftwidth45pxheight28pxborderright1px': 1, 'ecececfontsize12pxlineheight26pxcolor888textaligncenter': 1, 'linkrellineheight29px': 1, 'sectionmultipositionrelativebordertop1px': 1, 'sectionmulti': 1, 'wraptabcontheight157px': 1, 'titkakaotv': 2, 'linktitwidth82pxbackgroundposition380px': 1, 'kakaotvon': 2, 'linktitbackgroundposition380px': 1, 'wrapkakaotv': 2, 'melonon': 1, 'wrapmelondisplayblock': 1, 'tabmultipositionabsolutetop14pxleft90pxheight36px': 1, 'tabmulti': 5, 'lidisplayinlinefloatleftmarginleft13px': 1, 'linktitdisplayblockoverflowhiddenheight36pxfontweightboldlineheight33pxcolor888textdecorationnone': 1, 'linktitcolor222textdecorationunderline': 1, 'linktitlineheight38px': 1, 'boximgspefloatleftmarginright13px': 1, 'boximgspe': 1, 'icolabelboximgspe': 1, 'icolabel3fontsize12px': 1, 'icovideobackgroundposition0': 1, 'sectionblogpositionrelativebordertop1px': 1, 'sectionblog': 2, 'wraptabcontoverflowhiddenheight179px': 1, 'titcafeleft5px': 1, 'titmiznetleft34px': 1, 'titkakaostoryleft87px': 1, 'tittistoryleft178px': 1, 'titbrunchleft243px': 1, 'titstoryfundingleft296px': 1, 'titcafe': 2, '220px': 7, 'titmiznet': 2, 'linktitwidth50pxbackgroundposition36px': 1, 'titkakaostory': 2, 'linktitwidth88pxbackgroundposition86px': 1, 'tittistory': 2, 'linktitwidth62pxbackgroundposition174px': 1, 'titbrunch': 2, 'linktitwidth50pxbackgroundposition236px': 1, 'titstoryfunding': 2, 'linktitwidth74pxbackgroundposition336px': 1, 'cafeon': 2, '256px': 6, 'mizneton': 2, 'kakaostoryon': 2, 'linktitbackgroundposition86px': 1, 'tistoryon': 2, 'linktitbackgroundposition174px': 1, 'brunchon': 2, 'linktitbackgroundposition236px': 1, 'storyfundingon': 2, 'linktitbackgroundposition336px': 1, 'wrapmiznet': 1, 'wrapcafe': 1, 'wrapkakaostory': 1, 'wraptistory': 1, 'wrapbrunch': 1, 'wrapstoryfundingdisplayblock': 1, 'boxstoryfloatrightwidth297pxheight152pxpadding0': 1, 'liststoryoverflowhiddenfloatleft': 1, 'liststory': 17, 'lifloatleftheight160pxmarginleft13px': 1, 'linkitemdisplayblockpositionrelativewidth154pxcursorpointer': 1, 'linkitemhovercolor222textdecorationnone': 2, 'contitemheight56pxpadding4px': 1, 'originitemdisplayblockoverflowhiddenpositionrelativemargintop4pxfontsize12pxlineheight18pxcolor888whitespacenowraptextoverflowellipsis': 1, 'originitem': 4, 'txttellerdisplayblockoverflowhiddenwhitespacenowraptextoverflowellipsis': 1, 'icostorytelleroverflowhiddenpositionabsoluteright0top4pxwidth13pxheight15pxfontsize1pxlineheight0backgroundposition170px': 1, '100pxtextindent9999px': 1, 'linkitemhover': 6, 'tititemcolor118efftextdecorationunderline': 2, 'originitemcolor888textdecorationnone': 1, 'itemtellerdisplayinlineblockmaxwidth115pxpaddingright18px': 1, 'contitemheight54pxpaddingtop6px': 1, 'icostorytellertop0': 1, 'typedesc': 8, 'linkitemwidth152pxheight152pxborder1px': 1, 'contitemheight117pxpadding7px': 1, 'tititemheightautomaxheight36px': 1, 'descitemdisplayblockoverflowhiddenmaxheight48pxpaddingtop8pxfontsize11pxlineheight16pxcolor888wordbreakkeepallwordwrapbreakword': 1, 'originitempositionabsoluteleft13pxbottom9pxright13px': 1, 'itemtellerrightautomaxwidth106px': 1, 'contitemheight96pxpaddingtop10px': 1, 'originitembottom6px': 2, 'typeimg': 10, 'thumbgzindex1height154px': 1, 'framegwidth152pxheight152px': 2, 'contitempositionabsolutetop0left0bottom0width154pxheight154pxbackgroundurlt1daumcdnnetdaumtopdecoimagestop2017bgplate6png': 1, 'tititempositionabsoluteleft13pxright13pxbottom37pxheightautomaxheight36pxpaddingright10pxcolorfff': 1, 'originitempositionabsoluteleft13pxright13pxbottom14pxcolorc9c9c9': 1, 'originitemcolorc9c9c9textdecorationnone': 1, 'tititemcolorffftextdecorationunderline': 1, 'contitemheightautopadding0': 1, 'tititembottom30px': 2, 'graphitemoverflowhiddenpositionabsolutetop74pxleft0width154px': 1, 'graphitem': 7, 'infographpositionabsoluteright10pxtop0zindex10colorfff': 1, 'infograph': 1, 'numgraphfontweightbold': 1, 'bargraphdisplayblockheight20pxbackgroundurlt1daumcdnnetdaumtopdecoimagestop2017bggraphpng': 1, 'repeat': 1, 'barsupportpositionabsoluteleft0top0height20px': 1, 'barsupport': 4, 'bgleftpositionabsoluteleft0top0right16pxheight20pxbackgroundurlt1daumcdnnetdaumtopdecoimagestop2017bargraphpng': 1, 'repeatx': 2, 'bgrightpositionabsoluteright14pxtop0width30pxheight20pxbackgroundurlt1daumcdnnetdaumtopdecoimagestop2017bargraphrightpng': 1, 'fullgraph': 3, 'barsupportwidth100backgroundurlt1daumcdnnetdaumtopdecoimagestop2017bargraphfull2png': 1, 'bgleft': 1, 'bgrightwidth0backgroundnone': 1, 'infographtop2px': 1, 'sectionchannelpositionrelativebordertop1px': 1, 'sectionchannel': 6, 'panelblocpaddingtop60px': 1, 'wraptabcontoverflowhiddenheight507px': 1, 'tithomecookingleft5px': 1, 'titmoneyleft59px': 1, 'titpetleft96px': 1, 'titwomenleft133px': 1, 'titmenleft182px': 1, 'tittravelleft212px': 1, 'titbusinessleft274px': 1, 'titmusicleft325px': 1, 'titwebtoonleft362px': 1, 'titgameleft398px': 1, 'tittogetherpanelbloc': 1, 'tittogether2left434px': 1, 'tithomecooking': 2, 'linktitwidth59pxbackgroundposition0': 1, 'titmoney': 2, 'linktitwidth37pxbackgroundposition59px': 1, 'titpet': 2, 'linktitwidth37pxbackgroundposition96px': 1, 'titwomen': 2, 'linktitwidth49pxbackgroundposition133px': 1, 'titmen': 2, 'linktitwidth30pxbackgroundposition182px': 1, 'tittravel': 2, 'linktitwidth62pxbackgroundposition212px': 1, 'titbusiness': 2, 'linktitwidth51pxbackgroundposition274px': 1, 'titmusic': 2, 'linktitwidth37pxbackgroundposition325px': 1, 'titwebtoon': 2, 'linktitwidth36pxbackgroundposition362px': 1, 'titgame': 2, 'linktitwidth36pxbackgroundposition398px': 1, 'tittogether': 2, 'linktitwidth63pxbackgroundposition434px': 1, 'tittogether2': 2, 'linktitwidth72pxbackgroundposition497px': 1, 'homecookingon': 2, '346px': 12, 'moneyon': 1, 'linktitbackgroundposition59px': 1, 'peton': 1, 'linktitbackgroundposition96px': 1, 'womenon': 1, 'linktitbackgroundposition133px': 1, 'menon': 2, 'linktitbackgroundposition182px': 1, 'travelon': 2, 'linktitbackgroundposition212px': 1, 'businesson': 2, 'linktitbackgroundposition274px': 1, 'musicon': 2, 'linktitbackgroundposition325px': 1, 'webtoonon': 2, 'linktitbackgroundposition362px': 1, 'gameon': 2, 'linktitbackgroundposition398px': 1, 'togetheron': 3, 'linktitbackgroundposition434px': 1, 'linktitbackgroundposition497px': 1, 'wraphomecookingmoneyon': 1, 'wrapmoneypeton': 1, 'wrappetwomenon': 1, 'wrapwomen': 1, 'wrapmen': 1, 'wraptravel': 1, 'wrapbusiness': 1, 'wrapmusic': 1, 'wrapwebtoon': 1, 'wrapgame': 1, 'wraptogetherdisplayblock': 1, 'boxchannelfloatleftpositionrelativewidth154pxheight159pxmargin0': 1, 'boxchannelfstmarginleft0': 1, 'boxchannel': 17, 'linkitemdisplayblockpositionrelativewidth154px': 1, 'thumbgoverflowhiddenwidth154pxheight94px': 1, 'tititemdisplayblockoverflowhiddenmaxheight36pxpaddingright12pxfontweightnormallineheight18pxwordwrapbreakword': 1, 'channelitemdisplayblockheight18pxpadding4px': 1, '0fontsize12pxlineheight18px': 1, 'channelitem': 2, 'linkchanneldisplayinlineblockoverflowhiddenmaxwidth124pxheight20pxlineheight18pxcolor888verticalaligntopwhitespacenowraptextoverflowellipsis': 1, 'originitemdisplayblockoverflowhiddenmargintop3pxfontsize12pxlineheight21pxcolor888whitespacenowraptextoverflowellipsis': 1, 'thumbchanneldisplayinlineblockpositionrelativemargin1px': 1, 'thumbchannel': 2, 'imgthumbborderradius18px': 1, 'bgframepositionabsolutetop0left0width18pxheight18pxbackgroundposition410px': 1, 'thumbchannelmargintop0': 1, 'linkchannellineheight20px': 2, 'typechdescbackgroundcolorfbfbfc': 1, 'typechdesc': 6, 'linkitemwidth152pxheight157pxborder1px': 1, 'contitempadding13px': 1, 'descitemdisplayblockoverflowhiddenmaxheight48pxpaddingtop8pxfontsize11pxlineheight16pxcolor888': 1, 'channelitempadding0': 1, '13pxborder1px': 1, 'ecececbordertopwidth0': 1, 'originitemmargintop17px': 1, 'contitempaddingtop16px': 1, 'boximgspemarginright0': 1, 'linksectorheight159px': 1, 'framegwidth319pxheight157px': 2, 'contitemheight159pxbackgroundimageurlt1daumcdnnetdaumtopdecoimagestop2017bgplate5png': 1, 'boxchwidefloatleftpositionrelativewidth321pxheight159pxmargin0': 1, 'boxchwide': 10, 'linkitemdisplayblockoverflowhiddenpositionrelativewidth321pxheight159px': 1, 'linkitem': 8, 'thumbgzindex1width321pxheight159px': 1, 'contitempositionabsolutetop0left0width321pxheight159pxcolorfffbackgroundurlt1daumcdnnetdaumtopdecoimagestop2017bgplate5png': 1, 'tititemoverflowhiddenpositionabsoluteleft17pxbottom13pxmaxwidth284pxheight20pxfontweightnormalfontsize14pxlineheight20pxwhitespacenowraptextoverflowellipsis': 1, 'tititemhovercolorfff': 1, 'originitemoverflowhiddenpositionabsoluteleft17pxbottom33pxmaxwidth284pxheight20pxfontsize12pxlineheight18pxcolorfffwhitespacenowraptextoverflowellipsis': 1, 'originitembottom30px': 1, 'boxchextraoverflowhiddenfloatleftpositionrelativewidth154pxheight159pxmargin0': 1, 'boxchextra': 17, 'titchextrapositionabsolutetop14pxleft15pxright50pxzindex1fontsize11pxcolor118eff': 1, 'linkitemdisplayblockwidth154pxheight159px': 1, 'thumbgzindex1width154pxheight159px': 1, 'framegwidth152pxheight157px': 1, 'contitempositionabsolutetop0left0width154pxheight159pxbackgroundurlt1daumcdnnetdaumtopdecoimagestop2017bgplate6png': 1, 'emphextrapositionabsolutetop14pxleft15pxright15pxfontsize11pxcolor118eff': 1, 'tititempositionabsoluteleft14pxright14pxbottom34pxfontweightnormallineheight18pxcolorfff': 1, 'tititemtextdecorationunderline': 1, 'originitemdisplayinlineblockoverflowhiddenpositionabsoluteleft13pxrightautobottom8pxmaxwidth124pxfontsize12pxlineheight24pxcolorc9c9c9whitespacenowraptextoverflowellipsis': 1, 'titchextratop17px': 1, 'emphextratop17px': 1, 'originitembottom5px': 1, 'titbanneroverflowhiddenpositionabsoluteleft14pxright14pxbottom15pxfontweightnormalfontsize11pxcolorffftextdecorationunderlinetextaligncenterwhitespacenowraptextoverflowellipsis': 1, 'pagepctoptop15pxright15pxbottomauto': 1, 'btnpagewidth16pxheight16pxlineheight16pxbackgroundposition60px': 1, 'btnnextwidth15pxbackgroundposition76px': 1, 'listchbest': 9, 'lipositionrelativewidth154pxheight159px': 1, 'thumbgzindex0': 1, 'linkchbestpositionabsolutetop0left0width154pxheight120px': 1, 'titchbestoverflowhiddenpositionabsoluteleft14pxright14pxbottom0maxheight36pxfontweightnormalfontsize13pxlineheight18pxcolorfffwordbreakkeepallwordwrapbreakword': 1, 'titchbesthovertextdecorationunderline': 1, 'linkchanneloverflowhiddenpositionabsoluteleft0bottom0maxwidth124pxheight25pxpadding2px': 1, '10pxfontsize11pxlineheight23pxcolorc9c9c9whitespacenowraptextoverflowellipsis': 1, 'thumbchannelfloatleftpositionrelativemargin5px': 1, 'linkchannelpadding4px': 1, 'thumbchannelmargintop3px': 1, 'boxinfobnrfloatleftmargin0': 1, 'boxinfobnr': 15, 'linkitemdisplayblockoverflowhiddenpositionrelative': 1, 'linkitemhovercolor222': 1, 'thumbgzindex1width154pxheight154pxbackgroundcolorfff': 1, 'contitemoverflowhiddenpositionabsolutetop8pxleft13pxright7px': 1, 'tititemdisplayinlineblockoverflowhiddenmaxwidth120pxpaddingright8pxfontweightboldbackgroundposition100': 1, '7pxwhitespacenowraptextoverflowellipsisverticalaligntop': 1, 'txtinfodisplayblockoverflowhiddenmargintop2pxwhitespacenowraptextoverflowellipsis': 1, 'originitemdisplayblockoverflowhiddenmargintop2pxfontsize12pxlineheight16pxcolor888whitespacenowraptextoverflowellipsis': 1, 'contitemtop11px': 1, 'tititembackgroundposition100': 1, 'wraptogether': 6, 'thumbgheight159px': 2, 'framegheight157px': 2, 'grouprecommoverflowhiddenwidth670pxclearboth': 1, 'grouprecomm': 7, 'boxstoryfloatleftwidth295pxheight157pxmarginright13pxpadding0': 1, 'boxbestwidth629pxmargin0': 1, 'boxbest': 10, 'listrankingmargintop7px': 1, 'lifloatleftwidth295pxpadding0': 1, 'linkranking': 2, 'txtrankingwidth270px': 1, 'numpctopmargintop2px': 2, 'bestimgwidth148pxheight108pxmargin2px': 1, '0padding0': 1, 'bestimg': 7, 'linkrankingpositionrelativewidth148pxheight108px': 1, 'thumbgwidth148pxheight108px': 1, 'framegwidth146pxheight106px': 1, 'contitempositionabsolutetop0left0width148pxheight108pxbackgroundurlt1daumcdnnetdaumtopdecoimagestop2017bgplate9png': 1, 'numpctoppositionabsolutetop0left0margin0': 1, 'txtrankingpositionabsoluteright12pxbottom10pxleft11pxwidthautocolorfffwhitespacenormal': 1, 'numpctop': 1, 'bestimgmargintop0': 1, 'txtrankingbottom8pxleft12px': 1, 'boxrecomm': 6, 'listrecommoverflowhiddenwidth321pxmargintop11px': 1, 'listrecomm': 4, 'lifloatleftwidth140pxheight30pxmargin0': 1, 'linkrecommdisplayinlineblockoverflowhiddenmaxwidth100lineheight30pxwhitespacenowraptextoverflowellipsis': 1, 'thumbrecommfloatleftwidth30pxheight30pxmarginright6pxverticalaligntop': 1, 'thumbrecomm': 1, 'imgthumbborderradius30px': 1, 'listrecommmargintop9px': 1, 'boxbestwidth295pxmargin0': 1, 'boxgamemarginright0': 1, 'boxinfobnrheight159pxmarginbottom0': 1, 'txtinfomargin0': 1, 'boxwtrankpositionrelative': 1, 'boxwtrank': 1, 'titsubjectpositionabsolutetop0left11pxzindex1': 1, 'listwtrankmargintop13px': 1, 'listwtrank': 16, 'fstoverflowhiddenpositionrelativeheight62pxmarginbottom9pxpaddingtop20pxborderbottom1px': 1, 'imgthumbpositionabsolutetop0right0widthautoheight83pxpointereventsnone': 1, 'linkrankingdisplayinlineblockoverflowhiddenlineheight18pxverticalaligntop': 1, 'contitemoverflowhiddenwidth140px': 1, 'txtrankingdisplayblockoverflowhiddenmaxwidth200pxwhitespacenowraptextoverflowellipsis': 1, 'txtrankingcolor118efftextdecorationunderline': 1, 'txtrankingmaxheight36pxwhitespacenormalwordbreakkeepallwordwrapbreakword': 1, 'limarginbottom4px': 1, 'fstheight59pxmarginbottom9pxpaddingtop23px': 1, 'boxmusicpaddingleft12pxheight157px': 1, 'boxmusic': 6, 'headitemoverflowhiddenpadding7px': 1, '11pxlineheight18px': 1, 'headitem': 4, 'titsubjectfloatleftmargin0': 1, 'txtstandardfloatleftfontsize11pxcolor888': 1, 'txtnumfontfamilytahomaarialsansserifletterspacing0': 1, 'listmusicoverflowhiddenwidth646px': 1, 'listmusic': 16, 'lifloatleftpositionrelativewidth70pxmarginright36pxpaddingleft22px': 1, 'linkitemdisplayblockwidth70px': 1, 'thumbgwidth70pxheight70px': 1, 'framegwidth68pxheight68px': 1, 'contitemdisplayblockpaddingtop4px': 1, 'tititemdisplayblockoverflowhiddenmargin0fontweightnormallineheight16pxwhitespacenowraptextoverflowellipsis': 1, 'tititemhovercolor118efftextdecorationunderline': 1, 'originitemdisplayblockoverflowhiddenfontsize12pxlineheight16pxcolor888whitespacenowraptextoverflowellipsis': 1, 'linksingercolor888': 1, 'numpctoppositionabsolutetop0left0width16pxheight16pxtextindent9999pxverticalaligntop': 1, 'headitempadding10px': 1, 'txtnumfontfamilyhelveticaarialsansserif': 1, 'wraptopicwidth990pxmargin0': 1, 'autopadding29px': 1, '45px': 1, 'wraptopic': 4, 'titphotodisplayinlineblockoverflowhiddenheight36pxfontsize16pxlineheight33pxverticalaligntop': 1, 'linkphotoclipdisplayinlineblockpaddingright11pxbackgroundposition100': 1, '242pxwhitespacenowrapverticalaligntop': 1, 'linkphotothemedisplayinlineblockmarginright6pxcolor118effverticalaligntop': 1, 'viewphotooverflowhiddenpositionrelativewidth990pxheight400pxmargintop20px': 1, 'viewphoto': 26, 'listphotooverflowhiddenpositionabsolutetop0': 1, 'listphoto': 2, 'boxphotodisplayblockoverflowhiddenwidth682pxheight400pxbackgroundcolor333textdecorationnonetextaligncenter': 1, 'boxphoto': 1, 'imgthumbdisplayinline': 1, 'detailphotodisplaynonepositionabsolutetop0left50width682pxmarginleft341pxpaddingtop330px': 1, 'detailphoto': 2, 'framegwidth680pxheight398px': 1, 'linkphotodisplayblockoverflowhiddenpositionrelativeheight70pxbackgroundurlt1daumcdnnetdaumtopdecoimagestop2017bgplateslidepng': 1, 'linkphotohovertextdecorationnone': 1, 'linkphoto': 4, 'icophotopositionabsolutetop18pxright20pxwidth17pxheight15pxbackgroundposition160px': 1, '60pxtextindent9999px': 1, 'titgalleryoverflowhiddenmargin14px': 1, '57px': 1, '20pxfontweightnormalfontsize14pxcolorf4f4f4textdecorationnonewhitespacenowraptextoverflowellipsis': 1, 'descsourcedisplayblockpadding1px': 1, '20pxfontsize11pxcolorfffopacity06filteralphaopacity60': 1, 'txtdatemarginleft10pxfontfamilyHelveticatahomasansserif': 1, 'btnpreviewoverflowhiddenpositionabsolutetop0width152pxheight400pxbackgroundurlt1daumcdnnetdaumtopdecoimagestop2017bgplateslide2png': 1, 'norepeattextdecorationnonecursorpointer': 1, 'btnpreview': 4, 'framegwidth150pxheight398px': 1, 'icopctoppositionabsolutetop170pxwidth60pxheight60pxtextindent9999px': 1, 'btnprevleft0borderright2px': 1, 'fff': 2, 'btnprev': 2, 'icopctopleft0backgroundposition190px': 1, 'btnnextright0borderleft2px': 1, 'btnnext': 3, 'icopctopright0backgroundposition190px': 1, 'btngallerybackgroundcolor333': 1, 'txtgallerydisplaynonepadding184px': 1, '71pxlineheight16pxcolorfff': 1, 'btngallery': 1, 'txtgallerydisplayblock': 1, 'txtgallerypaddingright71pxpaddingleft0textalignright': 1, 'viewslideoverflowhiddenpositionrelativeheight60pxmargintop20px': 1, 'viewslide': 66, 'listthumbnailoverflowhidden': 1, 'listthumbnail': 4, 'lifloatleftpaddingleft2px': 1, 'lifstpaddingleft0': 1, 'linkthumbdisplayblockpositionrelativewidth60pxheight60px': 1, 'framegwidth58pxheight58pxcursorpointer': 1, 'framegwidth56pxheight56pxborder2px': 1, '118effopacity1filteralphaopacity100': 1, 'covergpositionabsolutetop0bottom0left0right0backgroundfffopacity06filteralphaopacity60': 1, 'btnmovepositionabsolutetop0width20pxheight60px': 1, 'btnprevleft0': 1, 'btnnextright0': 1, 'btnmove': 1, 'icopctopdisplayblockwidth20pxheight20pxmargintop20pxtextindent9999pxcursorpointer': 1, 'icopctopbackgroundposition190px': 1, 'icopctopbackgroundposition220px': 1, 'titphotolineheight39px': 1, 'titgallerymargintop16px': 1, 'descsourcepaddingtop2px': 1, 'txtgallerypaddingtop186px': 1, 'vphototype2': 9, 'boxphotowidth990px': 1, 'detailphotowidth990pxmarginleft495px': 1, 'framegwidth988px': 1, 'linkphotobackgroundrepeat': 1, 'btnpreviewtop140pxheight120pxborder0': 1, 'nonebackgroundnone': 1, 'framegdisplaynone': 1, 'icopctoptop30px': 1, 'txtgallerypaddingtop43px': 1, 'listthumbnail2': 3, 'linkthumbwidth246px': 1, 'framegwidth244px': 1, 'framegwidth242px': 1, 'listthumbnail3': 9, 'linkthumboverflowhiddenwidth196px': 1, 'framegwidth194px': 1, 'framegwidth192px': 1, 'fst': 10, 'lst': 10, 'linkthumbwidth197px': 1, 'frameg': 10, 'framegwidth195px': 1, 'fston': 5, 'lston': 5, 'framegwidth193px': 1, 'listthumbnail4': 9, 'linkthumboverflowhiddenwidth163px': 1, 'framegwidth161px': 1, 'framegwidth159px': 1, 'linkthumbwidth164px': 1, 'framegwidth162px': 1, 'framegwidth160px': 1, 'listthumbnail5': 9, 'linkthumboverflowhiddenwidth140px': 1, 'framegwidth138px': 1, 'framegwidth136px': 1, 'linkthumbwidth139px': 1, 'framegwidth137px': 1, 'framegwidth135px': 1, 'listthumbnail6': 3, 'linkthumboverflowhiddenwidth122px': 1, 'framegwidth120px': 1, 'framegwidth118px': 1, 'listthumbnail7': 9, 'linkthumboverflowhiddenwidth108px': 1, 'framegwidth106px': 1, 'framegwidth104px': 1, 'linkthumbwidth109px': 1, 'framegwidth107px': 1, 'framegwidth105px': 1, 'listthumbnail8': 9, 'linkthumboverflowhiddenwidth97px': 1, 'framegwidth95px': 1, 'framegwidth93px': 1, 'linkthumbwidth98px': 1, 'framegwidth96px': 1, 'framegwidth94px': 1, 'txtgallerypaddingtop46px': 1, 'topicspepositionabsolutetop0left50width990pxmarginleft495px': 1, 'topicspe': 3, 'linkspeoverflowhiddenpositionabsolutetop0width464pxheight610pxfontsize1pxlineheight0textalignlefttextindent9999px': 1, 'linkspeleftleft465px': 1, 'linksperightright465px': 1, 'topictype2backgroundposition50': 1, 'topictype2': 14, 'headlinephotooverflowhidden': 1, 'headlinephoto': 1, 'titphotofloatleft': 1, 'txtsub1overflowhiddenpadding18px': 1, '2pxfontsize24pxlineheight28pxletterspacing1pxwhitespacenowraptextoverflowellipsisclearboth': 1, 'linkgate1floatrightoverflowhiddenheight36pxfontsize16pxlineheight33pxcolorfff': 1, 'linkgate1': 1, 'icoarrowdisplayinlineblockwidth8pxheight12pxmargin0': 1, '8pxbackgroundposition100px': 1, 'txtsub2padding11px': 1, '1pxfontsize22pxlineheight28pxletterspacing1pxclearboth': 1, 'txtsub2': 1, 'infosubtxtdisplayblockoverflowhiddenwhitespacenowraptextoverflowellipsis': 1, 'linkgate2displayinlineblockoverflowhiddenwidthautoheight16pxmargin14px': 1, '10pxpadding10px': 1, '16pxbackgroundcolor222fontsize14pxlineheight16pxcolorfffverticalaligntop': 1, 'linkgate2': 2, 'icoarrowdisplayinlineblockwidth6pxheight10pxmargin4px': 1, '19pxbackgroundposition110px': 1, '265pxverticalaligntop': 1, 'txtsub1paddingtop22px': 1, 'linkgate1lineheight39px': 1, 'txtsub2paddingtop16pxpaddingbottom0': 1, 'linkgate2margintop10pxpaddingtop12pxpaddingbottom10px': 1, 'icoarrowmargintop2px': 1, 'topicbgwingpositionabsolutetop0right0left0zindex1minwidth990pxminheight610pxheight100': 1, 'topicbgwing': 3, 'bgwingpositionabsoluteminwidth960pxwidth50height100backgroundposition0': 1, '0backgroundrepeatnorepeat': 1, 'frwingtop0left50backgroundposition100': 1, 'flwingbottom0left0backgroundposition0': 1, 'noticelayeroverflowhiddenwidth100borderbottom1px': 1, 'ecf2f7backgroundcolorf4faff': 1, 'innernoticelayeroverflowhiddenpositionrelativewidth990pxheight110pxmargin0': 1, 'autobackgroundimageurlt1daumcdnnetdaumtopdecoimagestop2017noticestartpngbackgroundrepeatnorepeat': 1, 'innernoticelayer1backgroundposition100': 1, 'innernoticelayer': 6, 'setstartfloatleftpaddingtop29px': 1, 'txtnewsdisplayblockfontweightnormalfontsize20px': 1, 'linkstartoverflowhiddenfloatleftmargintop3pxpaddingright9pxfontsize12pxcolor888backgroundposition100': 1, '197pxtextdecorationunderline': 1, 'btncloseoverflowhiddenpositionabsolutetop36pxright0width20pxheight20pxbackgroundposition170px': 1, '180pxtextindent9999px': 1, 'setstartpaddingtop33px': 1, 'linkstartmargintop0': 1, 'mobileweblayeroverflowhiddenwidth100paddingbottom29pxbordertop1px': 1, 'ecececbackgroundcolorf2f2f2textaligncenter': 1, 'mobileweblayer': 7, 'txtmobilemargintop18pxmarginleft13pxfontsize12pxcolor888': 1, 'txtmobile': 2, 'icoinfodisplayinlineblockwidth13pxheight13pxmargin3px': 1, '0backgroundposition170px': 1, '120pxverticalaligntop': 1, 'linkmobiledisplayblockwidth100pxheight30pxmargin12px': 1, 'dadbddfontweightboldfontsize13pxlineheight28pxcolor222backgroundcolorfff': 1, 'linkmobilehovertextdecorationnone': 1, 'txtmobilemargintop22pxmarginleft9px': 1, 'icoinfomargin1px': 1, 'linkmobilemargintop9pxlineheight31px': 1, 'media': 2, 'only': 8, 'screen': 8, 'and': 8, 'webkitmindevicepixelratio': 2, '15': 4, 'mindevicepixelratio': 2, 'minresolution': 4, '144dpi': 2, '15dppx': 2, 'icosuggestbackgroundimageurlsearch1daumcdnnetsearchstaticscommonpir2weathericoweathermpngbackgroundsize43px': 1, '1680px': 1, 'icopctopbackgroundimageurlt1daumcdnnetdaumtopdecoimagestop2017rtnicopctop180423pngbackgroundsize250px': 1, 'icovertbackgroundimageurlt1daumcdnnetdaumtopdecoimagestop2017rtnicopctopvert170724pngbackgroundsize100px': 1, '500px': 1, 'txtpctopbackgroundimageurlt1daumcdnnetdaumtopdecoimagestop2017rtntxtpctop170915pngbackgroundsize600px': 1, 'bgpctop': 1, 'loginmybackgroundimageurlt1daumcdnnetdaumtopdecoimagestop2017rtnbgpctop170328pngbackgroundsize610px': 1, '490px': 1, 'numpctopbackgroundimageurlt1daumcdnnetdaumtopdecoimagestop2017rtnnumpctop170405pngbackgroundsize80px': 1, 'innernoticelayerbackgroundimageurlt1daumcdnnetdaumtopdecoimagestop2017rtnnoticestartpngbackgroundsize300px': 1, 'imgweatherbackgroundimageurlt1daumcdnnetdaumtopdecoimagestop2017rtnimgweather170628pngbackgroundsize300px': 1, '460px': 1, 'icowsbackgroundimageurlt1daumcdnnetdaumtopdecoimagestop2017rtnicows1801023pngbackgroundsize270px': 1, 'icowmbackgroundimageurlt1daumcdnnetdaumtopdecoimagestop2017rtnicowm1801023pngbackgroundsize900px': 1, 'imgkeyboardbackgroundimageurlt1daumcdnnetdaumtopdecoimagestop2017rtnimgkeyboard171229pngbackgroundsize30px': 1, 'btnkeyboardbackgroundimageurlt1daumcdnnetdaumtopdecoimagestop2017rtnimgkor171226pngbackgroundsize431px': 1, 'btnkeyboardactivebackgroundimageurlt1daumcdnnetdaumtopdecoimagestop2017rtnimgkorhover171226pngbackgroundsize431px': 1, 'btnkeyboardbackgroundimageurlt1daumcdnnetdaumtopdecoimagestop2017rtnimgkorshift171229pngbackgroundsize431px': 1, 'btnkeyboardactivebackgroundimageurlt1daumcdnnetdaumtopdecoimagestop2017rtnimgkorshifthover171229pngbackgroundsize431px': 1, 'btnkeyboardbackgroundimageurlt1daumcdnnetdaumtopdecoimagestop2017rtnimgeng171226pngbackgroundsize431px': 1, 'btnkeyboardactivebackgroundimageurlt1daumcdnnetdaumtopdecoimagestop2017rtnimgenghover180122pngbackgroundsize431px': 1, 'btnkeyboardbackgroundimageurlt1daumcdnnetdaumtopdecoimagestop2017rtnimgengshift171226pngbackgroundsize431px': 1, 'btnkeyboardactivebackgroundimageurlt1daumcdnnetdaumtopdecoimagestop2017rtnimgengshifthover171226pngbackgroundsize431px': 1, 'rolltxt': 3, 'webkittransition': 5, 'transform': 27, '0s': 5, 'linear': 5, 'moztransition': 5, 'mstransition': 5, 'otransition': 5, 'transition': 5, 'webkittransform': 7, 'translateY0': 5, 'moztransform': 7, 'mstransform': 7, 'otransform': 7, 'licurrent': 3, 'translateY20px': 5, '3s': 15, 'easeout': 10, 'translateY0px': 10, 'initial': 5, 'important': 5, 'positionabsolute': 1, 'backgroundcolorfff': 1, 'translateY28px': 10, 'opacity1': 1, 'linext': 1, 'opacity0': 1, 'cEtc': 3, 'listthumbnailwidth1858px': 1, 'listthumbnailclasslistthumbnailwidth990px': 1, 'ease': 5, 'translateX0': 5, 'kakaotvasian2018backgroundurlt1daumcdnnetdaumtopdecoimagestop2017special1bgasian2018kakaotvpng': 1, 'kakaotvasian2018': 1, 'linktitcolor5a32ff': 1, 'asian2018slot': 29, 'icoasiandisplayinlineblockoverflowhiddenbackgroundurlt1daumcdnnetdaumtopdecoimagestop2017special1icoasian180808png': 1, 'asian2018slotpositionrelativezindex10width655pxminheight60pxmargintop15px': 1, 'innerslotoverflowhiddenpositionabsolutetop0left0zindex20width655pxheight60pxbackgroundurlt1daumcdnnetdaumtopdecoimagestop2017special1bgasian2018180807png': 1, 'titasiangamepositionabsolutetop0left0width150pxheight60px': 1, 'linkasiangamedisplayblockoverflowhiddenheight100': 1, 'wrapddaypositionabsolutetop24pxright4pxheight13pxfontweightnormallineheight11pxfontfamilyHelveticaNeueMedium': 1, 'sansserif': 2, 'wrapdday': 4, 'txtddayfontsize16pxcolor837EF3': 1, 'icominusdisplayinlineblockmargin0': 1, '1pxverticalaligntop': 1, 'numddaydisplayinlineblockwidth10pxtextaligncenter': 1, 'moreinfopositionabsolutetop23pxright11px': 1, 'moreinfo': 3, 'linkgfloatleftpadding0': 1, '3pxfontsize13pxlineheight15pxletterspacing1pxcolor3B35CE': 1, 'linkg': 2, 'icoarrwidth10pxheight10pxmargin3px': 1, '4pxbackgroundposition56px': 1, 'listnoticefloatleftwidth381pxmargin19px': 1, '163px': 1, 'liwidth100': 1, 'linknoticedisplayblockoverflowhiddenfontsize14pxtextoverflowellipsiswhitespacenowrapletterspacing1px': 1, 'icohotfloatleftwidth36pxheight18pxmargin3px': 1, 'icovodfloatleftwidth36pxheight18pxmargin3px': 1, '0backgroundposition40px': 1, 'icosmsfloatleftwidth52pxheight16pxmargin3px': 1, '0backgroundposition0': 1, 'txtgamespaddingright6pxcolor7A63FF': 1, 'asian2018open': 1, 'txtopenpositionabsolutetop20pxright9pxfontweightboldfontsize14pxcolor837EF3': 1, 'asian2018opentype2': 1, 'listnoticemarginleft149px': 1, 'asian2018medal': 15, 'medalinfooverflowhiddenpositionabsolutetop30pxleft0width150pxheight30px': 1, 'medalinfo': 7, 'linkmedaldisplayblockheight100': 1, 'listmedalfloatleftpaddingleft21px': 1, 'listmedal': 1, 'nummedaldisplayblockwidth20pxheight20pxmarginright3pxfontweightboldfontsize11pxlineheight19pxfontfamilyHelveticaNeue': 1, 'sansserifcolor534400textaligncenter': 1, 'txtrankingfloatleftmargin3px': 1, '2pxfontsize12pxlineheight12px': 1, 'numrankingfontweightboldfontfamilyHelveticaNeue': 1, 'innerslotbackgroundurlt1daumcdnnetdaumtopdecoimagestop2017special1bgasian2018medal180807png': 1, 'titasiangameheight30px': 1, 'listnoticewidth384pxmarginleft150px': 1, 'txtgamespaddingright4px': 1, 'icominusmargin0': 1, 'nummedallineheight20px': 1, 'listnoticewidth372pxmargintop20px': 1, 'linknoticeletterspacing0': 1, 'moreinfotop24px': 1, 'linkgletterspacing0': 1, 'icoarrmargintop1px': 1, 'icohot': 1, 'icovodmargin2px': 1, 'icosmsmargin2px': 1, 'medalinfolineheight21px': 1, 'txtrankingmargintop5px': 1, 'icoasianbackgroundimageurlt1daumcdnnetdaumtopdecoimagestop2017rtnspecial1icoasian180808pngbackgroundsize75px': 1, '36px': 1, 'innerslotbackgroundimageurlt1daumcdnnetdaumtopdecoimagestop2017rtnspecial1bgasian2018180807pngbackgroundsize655px': 1, 'innerslotbackgroundimageurlt1daumcdnnetdaumtopdecoimagestop2017rtnspecial1bgasian2018medal180807pngbackgroundsize655px': 1, 'kakaotvasian2018backgroundimageurlt1daumcdnnetdaumtopdecoimagestop2017rtnspecial1bgasian2018kakaotvpngbackgroundsize655px': 1, '218px': 1, '주요': 2, '서비스': 5, '바로가기': 9, '오늘의': 6, '정보': 8, '미디어': 3, '실시간': 4, '이슈': 4, '멀티미디어': 2, '블로그': 5, '유익한': 2, '쇼핑': 3, '포토amp영상': 1, '웹': 1, '접근성': 1, '안내': 1, '자동실행': 1, '광고': 1, '설정': 1, '검색': 8, '통합': 2, '한글입력기': 1, '인기': 1, '검색어': 3, '이동국': 1, '500경기': 1, '1박2일': 1, '김주혁': 1, '서울': 1, '우박': 1, '최명길': 1, '집공개': 1, '컨테이너': 1, '추락사고': 1, '장현수': 1, '명단제외': 1, '고속도로': 1, '역주행': 1, '바비': 1, '독설': 1, '엘': 1, '클라시코': 1, '월평균': 1, '유아학원비': 1, 'lt이전': 1, 'gt다음': 1, '다음을': 1, '시작페이지로': 1, '카페': 3, '메일': 2, '뉴스': 4, '지도': 2, '증권': 1, '카카오TV': 3, '웹툰': 3, '브런치': 3, '사전': 1, '게임': 3, '별플레이': 1, '같이가치': 3, '주요서비스': 1, '더보기': 2, '⋁': 1, '전체': 1, '커뮤니케이션': 1, '티스토리': 2, '아지트': 1, '카카오스토리': 2, '스포츠': 4, '연예': 2, '아고라': 1, '쇼핑생활': 1, '쇼핑하우': 1, '항공권신규업데이트': 1, '금융': 1, '부동산': 2, '자동차': 2, '미즈넷': 2, '문화엔터': 1, '영화': 2, '나눔펀딩': 1, '스토리펀딩': 2, '사전지식': 1, '어학사전': 1, '번역': 1, '단어장': 1, '백과사전': 1, '팁': 1, '배틀그라운드': 1, '검은사막': 1, '길찾기': 1, '로드뷰': 1, '버스정보': 1, '지하철노선도': 1, '카카오': 2, '소식': 1, 'AI': 1, '다음': 8, '전체보기': 2, '메뉴닫기': 1, '10': 1, '28': 1, '일': 1, '날씨': 21, '서울시': 1, '비온후갬': 3, '영상': 19, '9도': 2, '9°C': 2, '경기도': 1, '구름많음': 3, '12도': 2, '12°C': 2, '인천시': 2, '10도': 5, '10°C': 5, '대구시': 1, '14도': 1, '14°C': 1, '대전시': 1, '11도': 2, '11°C': 2, '광주시': 1, '구름조금': 5, '17도': 2, '17°C': 2, '부산시': 1, '맑음': 3, '16도': 3, '16°C': 3, '울산시': 1, '경상북도': 2, '비': 4, '강원도': 2, '충청북도': 1, '전라북도': 1, '천둥번개': 1, '전라남도': 2, '18도': 1, '18°C': 1, '제주자치도': 1, '19도': 1, '19°C': 1, '경상남도': 1, '날찌정보': 1, '8897': 1, '펼치기': 1, '현재': 7, '지역': 1, '어제보다': 1, '°C': 1, '상세보기': 1, '미세먼지': 1, '통합대기': 1, 'X': 1, '날씨정보': 1, '닫기': 1, '선택됨': 1, '1탭': 1, '촛불': 1, '2주년': 2, '광화문광장': 1, '찾은': 1, '시민들그때': 1, '김한길': 1, '최명길과': 1, '첫': 1, '통화에': 1, '시집올래요': 1, '고': 1, '일반뉴스': 1, '中': 1, '39불임가능성': 1, '남성39': 1, '증가로': 1, '비상산아제한': 1, '철폐할': 1, '수도': 1, '공짜': 1, '의료에': 1, '고령화': 1, '쓰나미까지재정': 1, '바닥': 1, '英': 1, '구급차': 1, '부르면': 1, '4시간': 1, '외교분쟁': 1, '여론': 1, '악화': 1, '30일': 1, '39강제징용': 1, '선고39': 1, '후폭풍': 1, '예고': 1, 'quot적폐청산quotvsquot온통': 1, '신적폐quot촛불': 1, '진보보수': 1, '공방': 1, '휴일': 1, '돌풍': 1, '동반': 1, '비그친': 1, '뒤': 1, '초겨울': 1, '추위': 1, '에르도안': 1, 'quot터키가': 1, '카슈끄지': 1, '피살': 1, '사건': 1, '사법': 1, '절차': 1, '개시할': 1, '것quot': 1, '하루': 1, '4시간middot11교대39고용': 1, '분식39하는': 1, '코레일': 1, '비건': 1, '美대북대표': 1, '방한기자질문에': 1, 'quot답할수없어quot': 1, '신중모드': 1, '외국인': 1, '관광객': 1, '늘었지만': 1, '씀씀이': 1, '줄었다': 1, '글로벌': 1, '돋보기': 1, '중국': 2, '군함': 1, '올해': 1, '한중잠정조치수역에': 1, '173회': 1, '출몰39실효적': 1, '지배39': 1, '주장': 1, '대장암도': 1, '극복한': 1, '유상무♥김연지': 1, '아파서': 1, '결혼': 1, '못': 1, '불펜': 1, '대참사': 1, '와르르': 1, '무너진': 1, '다저스': 1, '오늘도': 1, '넥센SK': 1, '이틀': 1, '연속': 1, '벤치클리어링': 1, '뉴스홈': 1, '연재': 1, '랭킹': 1, 'TV': 2, '포토': 4, '태풍': 1, '위투': 1, '사이판': 1, '강타': 1, '탭1전체': 2, '탭8': 1, 'lt': 4, '이전': 6, '탭': 8, 'gt': 4, '1위': 5, '박미선': 5, '2위': 5, '런닝맨': 5, '3위': 5, '마이티': 5, '마우스': 5, '4위': 5, '조현영': 5, '5위': 5, '복면가왕': 5, '조커': 5, '6위': 5, '김연지': 5, '7위': 5, '김성현': 5, '8위': 5, '유상무': 5, '9위': 5, '민호': 5, '10위': 5, '두사람': 5, '증시': 2, '휘발유': 1, '169021': 1, '9652': 2, '전일대비': 2, '상승013': 1, '달러환율': 1, '114250': 1, '상승450': 1, '관련': 1, '링크모음': 1, '환율': 1, '운세': 1, 'uarr': 12, '상승240': 2, '상승200': 2, '신규진입': 8, '상승175': 2, '상승102': 2, '상승84': 2, '상승59': 2, '20181028': 1, '1758기준': 1, 'X닫기': 1, 'TV하이라이트': 2, '세상이': 2, '깜짝': 2, '놀란': 2, '이야기': 2, '명장면': 2, 'LoL': 3, '2018': 3, '월드챔피언십': 2, '아는': 1, '형님': 1, '동영상': 16, '단독': 1, '공개': 1, '오직': 2, '아형에서만': 1, '볼': 1, '수': 2, '있는': 1, '아이유': 1, '하나뿐인': 1, '내편': 1, '윤진이': 1, '유이에게': 1, '막말＂당신이랑': 1, '나랑': 1, '같은': 1, '급인': 1, '줄': 2, '현지에서': 1, '먹힐까': 1, '중국편': 1, '57년': 1, '내공의': 1, '요리': 1, '대가': 1, '현슐러도': 1, '엄지': 1, '척': 1, '불후의': 1, '명곡2': 1, '전설을': 1, '노래': 1, '폴': 1, '포츠': 1, '배다해': 1, '여러분': 1, '남자가': 1, '된': 1, '소녀': 1, '성별이': 1, '바뀌는': 1, '마을의': 1, '비밀': 1, '주민들을': 1, '불안에': 1, '떨게': 1, '한': 2, '해변의': 1, '괴사체': 1, '헉': 1, 'UFO': 1, '파편의': 1, '충격적인': 2, '분석': 1, '결과': 1, '검은': 1, '얼굴을': 1, '남자의': 1, '사연': 1, '39첫': 1, '우승의': 1, '순간rsquo': 1, '박결': 1, '감격의': 1, '눈물': 1, '김강민': 1, '기세': 1, '이어나가는': 1, '역전': 1, '솔로포': 1, '폭발': 2, '추운': 1, '날씨에도': 1, '아빠': 1, '응원하러': 1, '온': 1, '나은이': 1, '39클러치': 1, '본능39': 1, '푸이그': 1, '스리런포': 1, 'Live': 1, '월드챔피언쉽': 1, '초반': 1, '분위기': 1, '좋은': 2, 'G2': 1, '잘': 1, '풀린': 1, 'Wnuder': 1, '장군': 1, 'LPL의': 1, '힘을': 1, '보여준': 1, 'IG의': 1, '무자비한': 1, '공격력': 1, '오랜만에': 1, '나타난': 1, '야스오': 1, 'Caps가': 1, '쓰면': 1, '다르다': 1, '탭4': 1, '우리': 2, '아기': 1, '사진': 1, '예쁘게': 1, '찍는': 1, '노하우': 1, '대공개': 1, '베이비뉴스': 1, '걷기보다': 1, '좋다는': 1, '트레킹의': 1, '효과는': 1, '하이닥': 1, '베스트': 5, '자식': 1, '없이': 1, '혼자': 1, '사는': 1, '삶': 1, '노후가': 1, '걱정': 1, '엄마': 1, '모시는': 1, '문제': 1, '생각이': 1, '많아져': 1, '쇼윈도': 1, '부부가': 1, '편한': 1, '정작': 1, '애들은': 1, '돈': 1, '땜에': 1, '우울하단': 1, '아내': 1, '이혼하고': 1, '싶다': 1, '시어머니의': 1, '발언들': 1, '속을': 1, '알': 1, '없네': 1, '백만': 1, '원': 1, '테니': 1, '애랑': 1, '살라는': 1, '남편': 1, '헐': 1, '탭2전체': 1, '탭6': 1, '홈amp쿠킹': 1, '머니': 1, '동물': 1, '스타일': 1, 'Men': 1, '여행맛집': 1, '이': 1, '분위기에서': 1, '고백하면': 1, '성공률': 1, '989': 1, '전국': 1, '노을': 1, '스팟': 1, '여행여기서': 1, '행복할': 1, '것': 1, '숙소는': 1, '바다': 1, '위': 1, '특급호텔24시간': 1, '호사': 1, '누리며': 1, '페낭middot랑카위': 1, '찍고': 1, '올까': 1, '한국경제': 4, '가을에': 1, '걷기': 1, '길': 1, '3선': 1, '맨발로': 1, '걸어간': 1, '145km': 1, '황토': 1, '숲길가을이': 1, '내게로': 1, '왔다': 1, '유럽middot아프리카middot아랍문화': 1, '고스란히': 1, '녹아든': 1, '몰타섬': 1, '호시노야': 1, '교토': 1, '프라이빗하게': 1, '즐기는': 1, '조식': 1, '여행을': 1, '꿈꾸다': 1, '1': 1, '하도': 1, '맛있다길래': 1, '먹어본': 1, '노브랜드': 1, '칠리새우': 1, '2': 1, '1초에': 1, '무려': 1, '1400개씩': 1, '라면이': 1, '팔리는': 1, '나': 1, '3': 1, '대만': 1, '편의점서': 1, '히트친': 1, '한국식품들': 1, '4': 1, '혜자급': 1, '가성비의': 1, '빽다방': 1, '메뉴': 1, '7가지': 1, '추천': 1, '5': 2, '지금': 1, '당장': 1, '가야': 1, '할': 1, '가을': 1, '제철': 1, '음식': 1, '맛집': 1, '6': 1, '한국': 1, '사람': 1, '놀라게': 1, '하는': 1, '특이한': 1, '문화': 1, '7': 1, '덴마크': 1, '사람들의': 1, '잔인한': 1, '평균': 1, '신장': 1, '직장IN': 1, '뮤직': 1, '탭6전체': 1, '탭11': 1, '보기': 4, '추천갤러리바로가기': 2, '이미지': 2, '목록': 2, '공지사항': 1, '다음앱이': 1, '새단장을': 1, '했습니다': 1, '소개': 1, '및': 1, '약관': 1, '회사소개': 1, '·': 9, '광고안내': 1, '검색등록': 1, '제휴문의': 1, '인재채용': 1, '서비스약관': 1, '청소년보호정책': 1, '개인정보처리방침': 1, '웹접근성안내': 1, '고객센터': 1, 'Copyright': 1, '©': 1, 'Kakao': 1, 'Corp': 1, 'All': 1, 'rights': 1, 'reserved': 1}\n"
     ]
    }
   ],
   "source": [
    "import string # string 모듈\n",
    "from urllib import request \n",
    "\n",
    "url = 'http://www.naver.com'\n",
    "f = request.urlopen(url)\n",
    "source_bytes = f.read() # url 읽기\n",
    "source = source_bytes.decode('utf-8') # 한글을 읽기 위한 decoding 설정\n",
    "stp = string.punctuation # string 모듈에 있는 모든 구두문자를 stp에 저장\n",
    "\n",
    "source = source.strip() # 양 쪽 공백 모두 제거\n",
    "ch = '' # 빈 문자 선언\n",
    "check = True # boolean 초기값 \n",
    "l = [] # 공백 리스트 선언 \n",
    "l2 = [] # 공백 리스트2 선언\n",
    "for i in range( len(source)): # url을 통해 읽어온 source의 길이만큼 반복\n",
    "    if (source[i] == '<' ): # '<'와  '>' 태그 안에 내용을 제거하기 위한 조건문들 설정\n",
    "        check = False\n",
    "        continue\n",
    "    if ( source[i] == '>' and check == False):\n",
    "        check = True\n",
    "        continue\n",
    "    if ( check == True ):\n",
    "        ch += source[i] # ch에 '<'와 '>'를 제외한 단어들을 추가\n",
    "l = ch.split() # 공백을 기준으로 분리한 문자를 리스트에 대입\n",
    "\n",
    "for i in range(len(l)): # 리스트의 길이만큼 반복\n",
    "    l[i] = l[i].strip() # 양 옆 공백을 제거\n",
    "    l[i]= l[i].strip(stp) # 구두문자를 기준으로 분리한 리스트 원소를 저장\n",
    "\n",
    "for i in range(len(l)): # 리스트의 길이 만큼 반복\n",
    "    for j in stp: # 구두문자가 저장되어 있는 문자열\n",
    "        while( j in l[i]): # l 리스트 원소 내에\n",
    "            for k in range(len(l[i])): # 리스트 길이 만큼 반복\n",
    "                check = l[i].find(j) # \n",
    "                l[i] = l[i][:check] + l[i][check+1:]\n",
    "                break\n",
    "            \n",
    "    \n",
    "k=0\n",
    "for i in l:\n",
    "    if ( i == ''): # 리스트 안에서 공백을 원소로 가지고 있으면\n",
    "        k+=1 \n",
    "for i in range(k): \n",
    "    l.remove('') # 공백원소를 제거\n",
    "\n",
    "dic = dict() # 사전형태\n",
    "for i in l: # 사전의 각 값들 0으로 초기화 \n",
    "    dic[i] = 0\n",
    "for i in dic.keys(): # 출현빈도를 세기 위한 반복문\n",
    "    for j in l:\n",
    "        if ( j == i): # 같으면\n",
    "            dic[i]+=1 # 1씩 증가\n",
    "print(dic) # 사전형태로 출력"
   ]
  },
  {
   "cell_type": "markdown",
   "metadata": {},
   "source": [
    "양 옆의 공백과 특수문자를 모두 지워줘야한다. 여러 for반복문을 통해 특수문자가 원소에 없을때 까지 반복한다. 반복문 안에는 원소인 문자열에 특수 문자가있다면 그 인덱스를 제외한 새로운 문자열을 할당하는 방식을 반복한다. 이 루프를 돌리기 위해서 인덱스 범위를 벗어나지 않도록 앞에서 미리 양옆에 특수문자를 제외시켜주었다. 그 다음 공백이 된 원소의 개수를 센다. 그 개수만큼 remove 공백을 해준다. 빈 사전을 정의한다. 반복문을 통해 사전에 key값의 리스트의 원소를 할당하고 value는 0으로 초기화한다. 또 다시 반복문을 통해 key를인자로 받는다 key값과 리스트의 원소중 같은것이 발견된다면 그 key의 value 값을 1 증가시킨다."
   ]
  },
  {
   "cell_type": "markdown",
   "metadata": {},
   "source": [
    "## 느낀점"
   ]
  },
  {
   "cell_type": "markdown",
   "metadata": {},
   "source": [
    "이번 과제는 너무 어려웠던 것 같다. 수업시간에 열심히 듣는데 그에 상응하는 과제를 수행하지 못하는 것 같아 코딩 실력에 대한 자신감이 많이\n",
    "떨어져있는 것 같다."
   ]
  }
 ],
 "metadata": {
  "kernelspec": {
   "display_name": "Python 3",
   "language": "python",
   "name": "python3"
  },
  "language_info": {
   "codemirror_mode": {
    "name": "ipython",
    "version": 3
   },
   "file_extension": ".py",
   "mimetype": "text/x-python",
   "name": "python",
   "nbconvert_exporter": "python",
   "pygments_lexer": "ipython3",
   "version": "3.6.5"
  }
 },
 "nbformat": 4,
 "nbformat_minor": 2
}
