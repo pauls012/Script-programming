{
 "cells": [
  {
   "cell_type": "markdown",
   "metadata": {},
   "source": [
    "## 8번"
   ]
  },
  {
   "cell_type": "code",
   "execution_count": 1,
   "metadata": {},
   "outputs": [
    {
     "name": "stdout",
     "output_type": "stream",
     "text": [
      "숫자를 입력하세요 : 11\n",
      "2 3 5 7 "
     ]
    }
   ],
   "source": [
    "n = int(input(\"숫자를 입력하세요 : \")) # 사용자로부터 정수 입력받음\n",
    "\n",
    "for i in range(2, n) :# i가 2부터 n 까지\n",
    "    isPrime = True # 초기값을 boolean형으로 설정\n",
    "    for j in range(2, i) : # j가 2부터 i 까지\n",
    "        if i % j == 0 : # i가 j로 나누어떨어지면\n",
    "            isPrime = False # 소수가 아니다\n",
    "            break # 종료\n",
    "    if isPrime : # 소수일 때\n",
    "        print(i, end= \" \") # 해당 숫자와 공백 출력\n",
    "    "
   ]
  },
  {
   "cell_type": "code",
   "execution_count": null,
   "metadata": {},
   "outputs": [],
   "source": []
  }
 ],
 "metadata": {
  "kernelspec": {
   "display_name": "Python 3",
   "language": "python",
   "name": "python3"
  },
  "language_info": {
   "codemirror_mode": {
    "name": "ipython",
    "version": 3
   },
   "file_extension": ".py",
   "mimetype": "text/x-python",
   "name": "python",
   "nbconvert_exporter": "python",
   "pygments_lexer": "ipython3",
   "version": "3.6.5"
  }
 },
 "nbformat": 4,
 "nbformat_minor": 2
}
