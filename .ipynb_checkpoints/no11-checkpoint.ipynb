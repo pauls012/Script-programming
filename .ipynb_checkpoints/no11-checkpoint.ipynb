{
 "cells": [
  {
   "cell_type": "code",
   "execution_count": 3,
   "metadata": {},
   "outputs": [
    {
     "name": "stdout",
     "output_type": "stream",
     "text": [
      "6\n",
      "2\n"
     ]
    }
   ],
   "source": [
    "num = int(input()) # 사용자로부터 정수 입력받음\n",
    "count5 = 0 # 5kg 봉지 개수 변수 초기화\n",
    "count3 = 0 # 3kg 봉지 개수 변수 초기화\n",
    "i=0 # 변수 초기화\n",
    "\n",
    "while(True): \n",
    "    if(3*i <= num): # 3을 0번부터 num에서 빼면서 시작하기 위한 조건문\n",
    "        if (num - 3*i) % 5 == 0 : # 최소한의 봉지를 이용하기 위해 3을 계속 빼면서 5의 배수임을 확인한다.\n",
    "            count5 = (num - 3*i) // 5 # 5kg 봉지 개수\n",
    "            count3 = i # 3kg 봉지 개수\n",
    "\n",
    "            print(count5 + count3) # 최대한 적은 개수의 적은 봉지 개수를 출력\n",
    "            break # 반복문 종료\n",
    "        \n",
    "    else : # 정확하게 N킬로그램을 만들 수 없을 때\n",
    "        print(\"-1\") # -1 출력\n",
    "        break # 반복문 종료\n",
    "    i += 1 \n",
    "    \n",
    "    \n"
   ]
  },
  {
   "cell_type": "code",
   "execution_count": null,
   "metadata": {},
   "outputs": [],
   "source": []
  }
 ],
 "metadata": {
  "kernelspec": {
   "display_name": "Python 3",
   "language": "python",
   "name": "python3"
  },
  "language_info": {
   "codemirror_mode": {
    "name": "ipython",
    "version": 3
   },
   "file_extension": ".py",
   "mimetype": "text/x-python",
   "name": "python",
   "nbconvert_exporter": "python",
   "pygments_lexer": "ipython3",
   "version": "3.6.5"
  }
 },
 "nbformat": 4,
 "nbformat_minor": 2
}
