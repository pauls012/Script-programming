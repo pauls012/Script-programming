{
 "cells": [
  {
   "cell_type": "markdown",
   "metadata": {},
   "source": [
    "## 10번"
   ]
  },
  {
   "cell_type": "code",
   "execution_count": 2,
   "metadata": {},
   "outputs": [
    {
     "name": "stdout",
     "output_type": "stream",
     "text": [
      "adfkenscnaer\n",
      "adfkenscna\n",
      "er"
     ]
    }
   ],
   "source": [
    "word = input() # 문자열 입력 받기\n",
    "N = len(word) # 문자열의 길이를 N이라는 변수에 저장\n",
    "if N > 1 and N < 100 :   # 문자열의 범위 지정\n",
    "    for i in range(0, N): # 각각의 단어 출력\n",
    "        print(word[i], end=\"\")\n",
    "        if(i % 10 == 9) : # 10개씩 끊어서 출력하기 위해 줄나누기 삽입\n",
    "            print(\"\")"
   ]
  },
  {
   "cell_type": "code",
   "execution_count": null,
   "metadata": {},
   "outputs": [],
   "source": []
  }
 ],
 "metadata": {
  "kernelspec": {
   "display_name": "Python 3",
   "language": "python",
   "name": "python3"
  },
  "language_info": {
   "codemirror_mode": {
    "name": "ipython",
    "version": 3
   },
   "file_extension": ".py",
   "mimetype": "text/x-python",
   "name": "python",
   "nbconvert_exporter": "python",
   "pygments_lexer": "ipython3",
   "version": "3.6.5"
  }
 },
 "nbformat": 4,
 "nbformat_minor": 2
}
